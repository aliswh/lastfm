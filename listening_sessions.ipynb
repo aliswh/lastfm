{
  "nbformat": 4,
  "nbformat_minor": 0,
  "metadata": {
    "colab": {
      "name": "listening_sessions.ipynb",
      "provenance": [],
      "collapsed_sections": [
        "kSTLvF2Yvxic"
      ]
    },
    "kernelspec": {
      "name": "python3",
      "display_name": "Python 3"
    },
    "language_info": {
      "name": "python"
    }
  },
  "cells": [
    {
      "cell_type": "markdown",
      "source": [
        "# Set up"
      ],
      "metadata": {
        "id": "kSTLvF2Yvxic"
      }
    },
    {
      "cell_type": "code",
      "execution_count": 1,
      "metadata": {
        "colab": {
          "base_uri": "https://localhost:8080/"
        },
        "id": "hWdcAYpcuP4_",
        "outputId": "3a0d9ad9-be69-467d-fd0e-d36a19d2331c"
      },
      "outputs": [
        {
          "output_type": "stream",
          "name": "stdout",
          "text": [
            "Cloning into 'lastfm'...\n",
            "remote: Enumerating objects: 228, done.\u001b[K\n",
            "remote: Counting objects: 100% (228/228), done.\u001b[K\n",
            "remote: Compressing objects: 100% (157/157), done.\u001b[K\n",
            "remote: Total 228 (delta 125), reused 163 (delta 68), pack-reused 0\u001b[K\n",
            "Receiving objects: 100% (228/228), 39.75 KiB | 3.97 MiB/s, done.\n",
            "Resolving deltas: 100% (125/125), done.\n",
            "Requirement already satisfied: google-cloud-storage in /usr/local/lib/python3.7/dist-packages (from -r requirements.txt (line 1)) (1.18.1)\n",
            "Requirement already satisfied: requests in /usr/local/lib/python3.7/dist-packages (from -r requirements.txt (line 2)) (2.23.0)\n",
            "Collecting pylast\n",
            "  Downloading pylast-4.5.0-py3-none-any.whl (25 kB)\n",
            "Collecting pyspark\n",
            "  Downloading pyspark-3.2.1.tar.gz (281.4 MB)\n",
            "\u001b[K     |████████████████████████████████| 281.4 MB 33 kB/s \n",
            "\u001b[?25hRequirement already satisfied: google-resumable-media<0.5.0dev,>=0.3.1 in /usr/local/lib/python3.7/dist-packages (from google-cloud-storage->-r requirements.txt (line 1)) (0.4.1)\n",
            "Requirement already satisfied: google-cloud-core<2.0dev,>=1.0.0 in /usr/local/lib/python3.7/dist-packages (from google-cloud-storage->-r requirements.txt (line 1)) (1.0.3)\n",
            "Requirement already satisfied: google-auth>=1.2.0 in /usr/local/lib/python3.7/dist-packages (from google-cloud-storage->-r requirements.txt (line 1)) (1.35.0)\n",
            "Requirement already satisfied: setuptools>=40.3.0 in /usr/local/lib/python3.7/dist-packages (from google-auth>=1.2.0->google-cloud-storage->-r requirements.txt (line 1)) (57.4.0)\n",
            "Requirement already satisfied: six>=1.9.0 in /usr/local/lib/python3.7/dist-packages (from google-auth>=1.2.0->google-cloud-storage->-r requirements.txt (line 1)) (1.15.0)\n",
            "Requirement already satisfied: pyasn1-modules>=0.2.1 in /usr/local/lib/python3.7/dist-packages (from google-auth>=1.2.0->google-cloud-storage->-r requirements.txt (line 1)) (0.2.8)\n",
            "Requirement already satisfied: cachetools<5.0,>=2.0.0 in /usr/local/lib/python3.7/dist-packages (from google-auth>=1.2.0->google-cloud-storage->-r requirements.txt (line 1)) (4.2.4)\n",
            "Requirement already satisfied: rsa<5,>=3.1.4 in /usr/local/lib/python3.7/dist-packages (from google-auth>=1.2.0->google-cloud-storage->-r requirements.txt (line 1)) (4.8)\n",
            "Requirement already satisfied: google-api-core<2.0.0dev,>=1.14.0 in /usr/local/lib/python3.7/dist-packages (from google-cloud-core<2.0dev,>=1.0.0->google-cloud-storage->-r requirements.txt (line 1)) (1.26.3)\n",
            "Requirement already satisfied: googleapis-common-protos<2.0dev,>=1.6.0 in /usr/local/lib/python3.7/dist-packages (from google-api-core<2.0.0dev,>=1.14.0->google-cloud-core<2.0dev,>=1.0.0->google-cloud-storage->-r requirements.txt (line 1)) (1.54.0)\n",
            "Requirement already satisfied: packaging>=14.3 in /usr/local/lib/python3.7/dist-packages (from google-api-core<2.0.0dev,>=1.14.0->google-cloud-core<2.0dev,>=1.0.0->google-cloud-storage->-r requirements.txt (line 1)) (21.3)\n",
            "Requirement already satisfied: pytz in /usr/local/lib/python3.7/dist-packages (from google-api-core<2.0.0dev,>=1.14.0->google-cloud-core<2.0dev,>=1.0.0->google-cloud-storage->-r requirements.txt (line 1)) (2018.9)\n",
            "Requirement already satisfied: protobuf>=3.12.0 in /usr/local/lib/python3.7/dist-packages (from google-api-core<2.0.0dev,>=1.14.0->google-cloud-core<2.0dev,>=1.0.0->google-cloud-storage->-r requirements.txt (line 1)) (3.17.3)\n",
            "Requirement already satisfied: chardet<4,>=3.0.2 in /usr/local/lib/python3.7/dist-packages (from requests->-r requirements.txt (line 2)) (3.0.4)\n",
            "Requirement already satisfied: idna<3,>=2.5 in /usr/local/lib/python3.7/dist-packages (from requests->-r requirements.txt (line 2)) (2.10)\n",
            "Requirement already satisfied: certifi>=2017.4.17 in /usr/local/lib/python3.7/dist-packages (from requests->-r requirements.txt (line 2)) (2021.10.8)\n",
            "Requirement already satisfied: urllib3!=1.25.0,!=1.25.1,<1.26,>=1.21.1 in /usr/local/lib/python3.7/dist-packages (from requests->-r requirements.txt (line 2)) (1.24.3)\n",
            "Requirement already satisfied: pyparsing!=3.0.5,>=2.0.2 in /usr/local/lib/python3.7/dist-packages (from packaging>=14.3->google-api-core<2.0.0dev,>=1.14.0->google-cloud-core<2.0dev,>=1.0.0->google-cloud-storage->-r requirements.txt (line 1)) (3.0.7)\n",
            "Requirement already satisfied: pyasn1<0.5.0,>=0.4.6 in /usr/local/lib/python3.7/dist-packages (from pyasn1-modules>=0.2.1->google-auth>=1.2.0->google-cloud-storage->-r requirements.txt (line 1)) (0.4.8)\n",
            "Requirement already satisfied: importlib-metadata in /usr/local/lib/python3.7/dist-packages (from pylast->-r requirements.txt (line 3)) (4.11.0)\n",
            "Collecting py4j==0.10.9.3\n",
            "  Downloading py4j-0.10.9.3-py2.py3-none-any.whl (198 kB)\n",
            "\u001b[K     |████████████████████████████████| 198 kB 41.0 MB/s \n",
            "\u001b[?25hRequirement already satisfied: zipp>=0.5 in /usr/local/lib/python3.7/dist-packages (from importlib-metadata->pylast->-r requirements.txt (line 3)) (3.7.0)\n",
            "Requirement already satisfied: typing-extensions>=3.6.4 in /usr/local/lib/python3.7/dist-packages (from importlib-metadata->pylast->-r requirements.txt (line 3)) (3.10.0.2)\n",
            "Building wheels for collected packages: pyspark\n",
            "  Building wheel for pyspark (setup.py) ... \u001b[?25l\u001b[?25hdone\n",
            "  Created wheel for pyspark: filename=pyspark-3.2.1-py2.py3-none-any.whl size=281853642 sha256=f230d5e810df0ebafaadb1666ad32b048fdd3800e73161a890f4c032113c5073\n",
            "  Stored in directory: /root/.cache/pip/wheels/9f/f5/07/7cd8017084dce4e93e84e92efd1e1d5334db05f2e83bcef74f\n",
            "Successfully built pyspark\n",
            "Installing collected packages: py4j, pyspark, pylast\n",
            "Successfully installed py4j-0.10.9.3 pylast-4.5.0 pyspark-3.2.1\n"
          ]
        }
      ],
      "source": [
        "!git clone https://github.com/aliswh/lastfm\n",
        "!cd lastfm; pip install -r requirements.txt"
      ]
    },
    {
      "cell_type": "code",
      "source": [
        "from py4j.java_gateway import UserHelpAutoCompletion\n",
        "import pyspark\n",
        "from pyspark.sql import  SparkSession\n",
        "from lastfm.src.ingestion_layer.googlestorage import *\n",
        "from lastfm.src.ingestion_layer.pylastsource import *\n",
        "from lastfm.src.ingestion_layer.config import *\n",
        "from lastfm.src.ingestion_layer.batchwriter import *\n",
        "import json\n",
        "import datetime"
      ],
      "metadata": {
        "id": "-pW4kQBBuZ_3"
      },
      "execution_count": 2,
      "outputs": []
    },
    {
      "cell_type": "markdown",
      "source": [
        "# PySpark Context"
      ],
      "metadata": {
        "id": "gKoBrPKAv0Eu"
      }
    },
    {
      "cell_type": "code",
      "source": [
        "sc = pyspark.SparkContext(\"local[*]\")\n",
        "spark = SparkSession(sc)\n",
        "\n",
        "storage = GoogleStorageJSON('./lastfm/src/ingestion_layer/creds.json',bucket_name)\n",
        "source = PyLastSource(AUTH_DATA)"
      ],
      "metadata": {
        "id": "BUEgdaBfudUP"
      },
      "execution_count": 3,
      "outputs": []
    },
    {
      "cell_type": "markdown",
      "source": [
        "Batch job"
      ],
      "metadata": {
        "id": "tFzdYjjMwDvf"
      }
    },
    {
      "cell_type": "code",
      "source": [
        "#writer = BatchWriter(source, storage)\n",
        "#writer.write('subfolder', 'dars4', 5, 5, debug=True)\n",
        "#storage.delete('subfolder/artists')"
      ],
      "metadata": {
        "colab": {
          "base_uri": "https://localhost:8080/"
        },
        "id": "EjgDiWw6ufhz",
        "outputId": "b94c21fc-5a5f-4d3b-c1d1-94f47d380873"
      },
      "execution_count": 8,
      "outputs": [
        {
          "output_type": "stream",
          "name": "stdout",
          "text": [
            "[User] {'user': 'c4zt96', 'playcount': 11580, 'reg_date': '1627094549', 'country': 'Brazil', 'url': 'https://www.last.fm/user/c4zt96', 'id': '0d84bc5dedacad885f9fa1df8a0b8d8ca8467c80'}\n",
            "[Artist] {'artist': 'Queens of the Stone Age', 'bio': 'Queens of the Stone Age is a rock band from Palm Desert, California, United States. The band is frequently labeled stoner rock, although they reject the label. They developed a style of riff-oriented, heavy music which the band\\'s founder and mastermind Josh Homme described as \"robot rock\", saying that he \"wanted to create a heavy sound based on a solid jam, just pound it into your head\". Since then, their sound has evolved to incorporate a variety of different styles and influences. <a href=\"https://www.last.fm/music/Queens+of+the+Stone+Age\">Read more on Last.fm</a>', 'url': 'https://www.last.fm/music/queens%2bof%2bthe%2bstone%2bage', 'top_tracks': [{'artist': 'Queens of the Stone Age', 'title': 'No One Knows', 'album': 'Songs for the Deaf', 'duration': 278000, 'tags': ['rock', 'Stoner Rock', 'alternative rock', 'alternative', 'hard rock'], 'url': 'https://www.last.fm/music/queens%2bof%2bthe%2bstone%2bage/_/no%2bone%2bknows', 'id': 'c2fd94cd0ffee73a322a9a1a0b1009f90acdf062'}, {'artist': 'Queens of the Stone Age', 'title': 'Go With the Flow', 'album': 'Songs for the Deaf', 'duration': 187000, 'tags': ['rock', 'Stoner Rock', 'alternative rock', 'hard rock', 'alternative'], 'url': 'https://www.last.fm/music/queens%2bof%2bthe%2bstone%2bage/_/go%2bwith%2bthe%2bflow', 'id': '7a55956f945dfdd698e6396c087d769333fa001f'}, {'artist': 'Queens of the Stone Age', 'title': 'Little Sister', 'album': 'Lullabies to Paralyze', 'duration': 174000, 'tags': ['rock', 'Stoner Rock', 'alternative rock', 'alternative', 'Queens Of The Stone Age'], 'url': 'https://www.last.fm/music/queens%2bof%2bthe%2bstone%2bage/_/little%2bsister', 'id': 'e28c04248c754d34e13aebc5bef0aade39234ca0'}], 'id': 'de9f4c5f181a9764b72bf7524729ff7771141685'}\n",
            "[Track] {'artist': 'Queens of the Stone Age', 'title': 'I Appear Missing', 'album': '...Like Clockwork', 'duration': 360000, 'tags': ['Stoner Rock', 'alternative rock', 'rock', 'desert rock', '10s'], 'url': 'https://www.last.fm/music/queens%2bof%2bthe%2bstone%2bage/_/i%2bappear%2bmissing', 'id': '8581023ebcd2cef5c8bdfbc6ab008f0bbe7d62bc'}\n",
            "[Artist] {'artist': 'Queens of the Stone Age', 'bio': 'Queens of the Stone Age is a rock band from Palm Desert, California, United States. The band is frequently labeled stoner rock, although they reject the label. They developed a style of riff-oriented, heavy music which the band\\'s founder and mastermind Josh Homme described as \"robot rock\", saying that he \"wanted to create a heavy sound based on a solid jam, just pound it into your head\". Since then, their sound has evolved to incorporate a variety of different styles and influences. <a href=\"https://www.last.fm/music/Queens+of+the+Stone+Age\">Read more on Last.fm</a>', 'url': 'https://www.last.fm/music/queens%2bof%2bthe%2bstone%2bage', 'top_tracks': [{'artist': 'Queens of the Stone Age', 'title': 'No One Knows', 'album': 'Songs for the Deaf', 'duration': 278000, 'tags': ['rock', 'Stoner Rock', 'alternative rock', 'alternative', 'hard rock'], 'url': 'https://www.last.fm/music/queens%2bof%2bthe%2bstone%2bage/_/no%2bone%2bknows', 'id': 'c2fd94cd0ffee73a322a9a1a0b1009f90acdf062'}, {'artist': 'Queens of the Stone Age', 'title': 'Go With the Flow', 'album': 'Songs for the Deaf', 'duration': 187000, 'tags': ['rock', 'Stoner Rock', 'alternative rock', 'hard rock', 'alternative'], 'url': 'https://www.last.fm/music/queens%2bof%2bthe%2bstone%2bage/_/go%2bwith%2bthe%2bflow', 'id': '7a55956f945dfdd698e6396c087d769333fa001f'}, {'artist': 'Queens of the Stone Age', 'title': 'Little Sister', 'album': 'Lullabies to Paralyze', 'duration': 174000, 'tags': ['rock', 'Stoner Rock', 'alternative rock', 'alternative', 'Queens Of The Stone Age'], 'url': 'https://www.last.fm/music/queens%2bof%2bthe%2bstone%2bage/_/little%2bsister', 'id': 'e28c04248c754d34e13aebc5bef0aade39234ca0'}], 'id': 'de9f4c5f181a9764b72bf7524729ff7771141685'}\n",
            "[Track] {'artist': 'Queens of the Stone Age', 'title': 'Smooth Sailing', 'album': '...Like Clockwork', 'duration': 291000, 'tags': ['Stoner Rock', 'alternative rock', 'hard rock', 'rock', '10s'], 'url': 'https://www.last.fm/music/queens%2bof%2bthe%2bstone%2bage/_/smooth%2bsailing', 'id': '9aa23307911ed56dd938fc10a370f7ca3c7b8ea4'}\n",
            "[Artist] {'artist': 'Queens of the Stone Age', 'bio': 'Queens of the Stone Age is a rock band from Palm Desert, California, United States. The band is frequently labeled stoner rock, although they reject the label. They developed a style of riff-oriented, heavy music which the band\\'s founder and mastermind Josh Homme described as \"robot rock\", saying that he \"wanted to create a heavy sound based on a solid jam, just pound it into your head\". Since then, their sound has evolved to incorporate a variety of different styles and influences. <a href=\"https://www.last.fm/music/Queens+of+the+Stone+Age\">Read more on Last.fm</a>', 'url': 'https://www.last.fm/music/queens%2bof%2bthe%2bstone%2bage', 'top_tracks': [{'artist': 'Queens of the Stone Age', 'title': 'No One Knows', 'album': 'Songs for the Deaf', 'duration': 278000, 'tags': ['rock', 'Stoner Rock', 'alternative rock', 'alternative', 'hard rock'], 'url': 'https://www.last.fm/music/queens%2bof%2bthe%2bstone%2bage/_/no%2bone%2bknows', 'id': 'c2fd94cd0ffee73a322a9a1a0b1009f90acdf062'}, {'artist': 'Queens of the Stone Age', 'title': 'Go With the Flow', 'album': 'Songs for the Deaf', 'duration': 187000, 'tags': ['rock', 'Stoner Rock', 'alternative rock', 'hard rock', 'alternative'], 'url': 'https://www.last.fm/music/queens%2bof%2bthe%2bstone%2bage/_/go%2bwith%2bthe%2bflow', 'id': '7a55956f945dfdd698e6396c087d769333fa001f'}, {'artist': 'Queens of the Stone Age', 'title': 'Little Sister', 'album': 'Lullabies to Paralyze', 'duration': 174000, 'tags': ['rock', 'Stoner Rock', 'alternative rock', 'alternative', 'Queens Of The Stone Age'], 'url': 'https://www.last.fm/music/queens%2bof%2bthe%2bstone%2bage/_/little%2bsister', 'id': 'e28c04248c754d34e13aebc5bef0aade39234ca0'}], 'id': 'de9f4c5f181a9764b72bf7524729ff7771141685'}\n",
            "[Track] {'artist': 'Queens of the Stone Age', 'title': 'Fairweather Friends', 'album': '...Like Clockwork', 'duration': 223000, 'tags': ['Stoner Rock', 'alternative rock', 'rock', '10s', 'elton john'], 'url': 'https://www.last.fm/music/queens%2bof%2bthe%2bstone%2bage/_/fairweather%2bfriends', 'id': '16184acb9c2a4f99becdec220462c72bb5bbfaec'}\n",
            "[Artist] {'artist': 'Queens of the Stone Age', 'bio': 'Queens of the Stone Age is a rock band from Palm Desert, California, United States. The band is frequently labeled stoner rock, although they reject the label. They developed a style of riff-oriented, heavy music which the band\\'s founder and mastermind Josh Homme described as \"robot rock\", saying that he \"wanted to create a heavy sound based on a solid jam, just pound it into your head\". Since then, their sound has evolved to incorporate a variety of different styles and influences. <a href=\"https://www.last.fm/music/Queens+of+the+Stone+Age\">Read more on Last.fm</a>', 'url': 'https://www.last.fm/music/queens%2bof%2bthe%2bstone%2bage', 'top_tracks': [{'artist': 'Queens of the Stone Age', 'title': 'No One Knows', 'album': 'Songs for the Deaf', 'duration': 278000, 'tags': ['rock', 'Stoner Rock', 'alternative rock', 'alternative', 'hard rock'], 'url': 'https://www.last.fm/music/queens%2bof%2bthe%2bstone%2bage/_/no%2bone%2bknows', 'id': 'c2fd94cd0ffee73a322a9a1a0b1009f90acdf062'}, {'artist': 'Queens of the Stone Age', 'title': 'Go With the Flow', 'album': 'Songs for the Deaf', 'duration': 187000, 'tags': ['rock', 'Stoner Rock', 'alternative rock', 'hard rock', 'alternative'], 'url': 'https://www.last.fm/music/queens%2bof%2bthe%2bstone%2bage/_/go%2bwith%2bthe%2bflow', 'id': '7a55956f945dfdd698e6396c087d769333fa001f'}, {'artist': 'Queens of the Stone Age', 'title': 'Little Sister', 'album': 'Lullabies to Paralyze', 'duration': 174000, 'tags': ['rock', 'Stoner Rock', 'alternative rock', 'alternative', 'Queens Of The Stone Age'], 'url': 'https://www.last.fm/music/queens%2bof%2bthe%2bstone%2bage/_/little%2bsister', 'id': 'e28c04248c754d34e13aebc5bef0aade39234ca0'}], 'id': 'de9f4c5f181a9764b72bf7524729ff7771141685'}\n",
            "[Track] {'artist': 'Queens of the Stone Age', 'title': 'Kalopsia', 'album': '...Like Clockwork', 'duration': 278000, 'tags': ['alternative rock', 'Stoner Rock', 'rock', '10s', 'trent reznor'], 'url': 'https://www.last.fm/music/queens%2bof%2bthe%2bstone%2bage/_/kalopsia', 'id': '6db3aaf0029b1d8f3881da2f5d653ec5cfe2dc9f'}\n",
            "[Artist] {'artist': 'Queens of the Stone Age', 'bio': 'Queens of the Stone Age is a rock band from Palm Desert, California, United States. The band is frequently labeled stoner rock, although they reject the label. They developed a style of riff-oriented, heavy music which the band\\'s founder and mastermind Josh Homme described as \"robot rock\", saying that he \"wanted to create a heavy sound based on a solid jam, just pound it into your head\". Since then, their sound has evolved to incorporate a variety of different styles and influences. <a href=\"https://www.last.fm/music/Queens+of+the+Stone+Age\">Read more on Last.fm</a>', 'url': 'https://www.last.fm/music/queens%2bof%2bthe%2bstone%2bage', 'top_tracks': [{'artist': 'Queens of the Stone Age', 'title': 'No One Knows', 'album': 'Songs for the Deaf', 'duration': 278000, 'tags': ['rock', 'Stoner Rock', 'alternative rock', 'alternative', 'hard rock'], 'url': 'https://www.last.fm/music/queens%2bof%2bthe%2bstone%2bage/_/no%2bone%2bknows', 'id': 'c2fd94cd0ffee73a322a9a1a0b1009f90acdf062'}, {'artist': 'Queens of the Stone Age', 'title': 'Go With the Flow', 'album': 'Songs for the Deaf', 'duration': 187000, 'tags': ['rock', 'Stoner Rock', 'alternative rock', 'hard rock', 'alternative'], 'url': 'https://www.last.fm/music/queens%2bof%2bthe%2bstone%2bage/_/go%2bwith%2bthe%2bflow', 'id': '7a55956f945dfdd698e6396c087d769333fa001f'}, {'artist': 'Queens of the Stone Age', 'title': 'Little Sister', 'album': 'Lullabies to Paralyze', 'duration': 174000, 'tags': ['rock', 'Stoner Rock', 'alternative rock', 'alternative', 'Queens Of The Stone Age'], 'url': 'https://www.last.fm/music/queens%2bof%2bthe%2bstone%2bage/_/little%2bsister', 'id': 'e28c04248c754d34e13aebc5bef0aade39234ca0'}], 'id': 'de9f4c5f181a9764b72bf7524729ff7771141685'}\n",
            "[Track] {'artist': 'Queens of the Stone Age', 'title': 'My God Is the Sun', 'album': '...Like Clockwork', 'duration': 235000, 'tags': ['Stoner Rock', 'alternative rock', 'rock', 'alternative', 'music choice: alternative'], 'url': 'https://www.last.fm/music/queens%2bof%2bthe%2bstone%2bage/_/my%2bgod%2bis%2bthe%2bsun', 'id': 'f08ee408861ca76ad120c23124aec16390d9a3bf'}\n",
            "\n",
            "[User] {'user': 'amarxl', 'playcount': 67723, 'reg_date': '1552278200', 'country': None, 'url': 'https://www.last.fm/user/amarxl', 'id': '01066bc9c378046fb890a81932ba1857dd7fc6fe'}\n",
            "[Artist] {'artist': 'Kim Petras', 'bio': 'Kim Petras (born August 27, 1992) is a German singer and songwriter. Between 2016 and 2020, she released music as an independent artist under her own imprint, BunHead Records, before signing with Republic Records.\\n\\nPetras began recording music as a teenager, releasing her debut EP One Piece of Tape in 2011. She independently released her debut single in 2017, \"I Don\\'t Want It at All\", which went on to top several viral music charts on Spotify. The song was followed by Billboard-charting singles \"Feeling of Falling\" (with Cheat Codes) <a href=\"https://www.last.fm/music/Kim+Petras\">Read more on Last.fm</a>', 'url': 'https://www.last.fm/music/kim%2bpetras', 'top_tracks': [{'artist': 'Kim Petras', 'title': 'Heart to Break', 'album': 'ERA 1', 'duration': 227000, 'tags': ['pop', 'synthpop', 'seen live', 'electropop', 'dance-pop'], 'url': 'https://www.last.fm/music/kim%2bpetras/_/heart%2bto%2bbreak', 'id': '47df2ab45a07ee23217fb25b69bdf7a282cabac3'}, {'artist': 'Kim Petras', 'title': 'Icy', 'album': 'Clarity', 'duration': 189000, 'tags': ['electropop', 'seen live', 'pop', 'love at first listen', 'contemporary rnb'], 'url': 'https://www.last.fm/music/kim%2bpetras/_/icy', 'id': '85c5836506aac37722d4d1d5a38bd696270168f1'}, {'artist': 'Kim Petras', 'title': \"I Don't Want It at All\", 'album': \"I Don't Want It at All\", 'duration': 250000, 'tags': ['pop', 'synthpop', 'bubblegum pop', 'seen live', 'german'], 'url': 'https://www.last.fm/music/kim%2bpetras/_/i%2bdon%2527t%2bwant%2bit%2bat%2ball', 'id': '98e8574799e941435f6b0ff6ffc0bd6c1c4db395'}], 'id': '015b6e8359bdf7f09ef4c3aac6e97e7d43553aea'}\n",
            "[Track] {'artist': 'Kim Petras', 'title': 'XXX', 'album': None, 'duration': 0, 'tags': ['personal favourites'], 'url': 'https://www.last.fm/music/kim%2bpetras/_/xxx', 'id': '4918d56108433a5a44194077398663d691a68741'}\n",
            "[Artist] {'artist': 'Kim Petras', 'bio': 'Kim Petras (born August 27, 1992) is a German singer and songwriter. Between 2016 and 2020, she released music as an independent artist under her own imprint, BunHead Records, before signing with Republic Records.\\n\\nPetras began recording music as a teenager, releasing her debut EP One Piece of Tape in 2011. She independently released her debut single in 2017, \"I Don\\'t Want It at All\", which went on to top several viral music charts on Spotify. The song was followed by Billboard-charting singles \"Feeling of Falling\" (with Cheat Codes) <a href=\"https://www.last.fm/music/Kim+Petras\">Read more on Last.fm</a>', 'url': 'https://www.last.fm/music/kim%2bpetras', 'top_tracks': [{'artist': 'Kim Petras', 'title': 'Heart to Break', 'album': 'ERA 1', 'duration': 227000, 'tags': ['pop', 'synthpop', 'seen live', 'electropop', 'dance-pop'], 'url': 'https://www.last.fm/music/kim%2bpetras/_/heart%2bto%2bbreak', 'id': '47df2ab45a07ee23217fb25b69bdf7a282cabac3'}, {'artist': 'Kim Petras', 'title': 'Icy', 'album': 'Clarity', 'duration': 189000, 'tags': ['electropop', 'seen live', 'pop', 'love at first listen', 'contemporary rnb'], 'url': 'https://www.last.fm/music/kim%2bpetras/_/icy', 'id': '85c5836506aac37722d4d1d5a38bd696270168f1'}, {'artist': 'Kim Petras', 'title': \"I Don't Want It at All\", 'album': \"I Don't Want It at All\", 'duration': 250000, 'tags': ['pop', 'synthpop', 'bubblegum pop', 'seen live', 'german'], 'url': 'https://www.last.fm/music/kim%2bpetras/_/i%2bdon%2527t%2bwant%2bit%2bat%2ball', 'id': '98e8574799e941435f6b0ff6ffc0bd6c1c4db395'}], 'id': '015b6e8359bdf7f09ef4c3aac6e97e7d43553aea'}\n",
            "[Track] {'artist': 'Kim Petras', 'title': 'Treat Me Like a Slut', 'album': None, 'duration': 0, 'tags': ['electronic', 'electropop', 'pop', 'electro', 'bop'], 'url': 'https://www.last.fm/music/kim%2bpetras/_/treat%2bme%2blike%2ba%2bslut', 'id': '9e41f80918c4172b2b70bbe2bbc3b1042af80290'}\n",
            "[Artist] {'artist': 'Kim Petras', 'bio': 'Kim Petras (born August 27, 1992) is a German singer and songwriter. Between 2016 and 2020, she released music as an independent artist under her own imprint, BunHead Records, before signing with Republic Records.\\n\\nPetras began recording music as a teenager, releasing her debut EP One Piece of Tape in 2011. She independently released her debut single in 2017, \"I Don\\'t Want It at All\", which went on to top several viral music charts on Spotify. The song was followed by Billboard-charting singles \"Feeling of Falling\" (with Cheat Codes) <a href=\"https://www.last.fm/music/Kim+Petras\">Read more on Last.fm</a>', 'url': 'https://www.last.fm/music/kim%2bpetras', 'top_tracks': [{'artist': 'Kim Petras', 'title': 'Heart to Break', 'album': 'ERA 1', 'duration': 227000, 'tags': ['pop', 'synthpop', 'seen live', 'electropop', 'dance-pop'], 'url': 'https://www.last.fm/music/kim%2bpetras/_/heart%2bto%2bbreak', 'id': '47df2ab45a07ee23217fb25b69bdf7a282cabac3'}, {'artist': 'Kim Petras', 'title': 'Icy', 'album': 'Clarity', 'duration': 189000, 'tags': ['electropop', 'seen live', 'pop', 'love at first listen', 'contemporary rnb'], 'url': 'https://www.last.fm/music/kim%2bpetras/_/icy', 'id': '85c5836506aac37722d4d1d5a38bd696270168f1'}, {'artist': 'Kim Petras', 'title': \"I Don't Want It at All\", 'album': \"I Don't Want It at All\", 'duration': 250000, 'tags': ['pop', 'synthpop', 'bubblegum pop', 'seen live', 'german'], 'url': 'https://www.last.fm/music/kim%2bpetras/_/i%2bdon%2527t%2bwant%2bit%2bat%2ball', 'id': '98e8574799e941435f6b0ff6ffc0bd6c1c4db395'}], 'id': '015b6e8359bdf7f09ef4c3aac6e97e7d43553aea'}\n",
            "[Track] {'artist': 'Kim Petras', 'title': 'Slut Pop', 'album': None, 'duration': 0, 'tags': [], 'url': 'https://www.last.fm/music/kim%2bpetras/_/slut%2bpop', 'id': 'cab054b76d7247c17c2475a09899211dd7bb9090'}\n",
            "[Artist] {'artist': 'Kim Petras', 'bio': 'Kim Petras (born August 27, 1992) is a German singer and songwriter. Between 2016 and 2020, she released music as an independent artist under her own imprint, BunHead Records, before signing with Republic Records.\\n\\nPetras began recording music as a teenager, releasing her debut EP One Piece of Tape in 2011. She independently released her debut single in 2017, \"I Don\\'t Want It at All\", which went on to top several viral music charts on Spotify. The song was followed by Billboard-charting singles \"Feeling of Falling\" (with Cheat Codes) <a href=\"https://www.last.fm/music/Kim+Petras\">Read more on Last.fm</a>', 'url': 'https://www.last.fm/music/kim%2bpetras', 'top_tracks': [{'artist': 'Kim Petras', 'title': 'Heart to Break', 'album': 'ERA 1', 'duration': 227000, 'tags': ['pop', 'synthpop', 'seen live', 'electropop', 'dance-pop'], 'url': 'https://www.last.fm/music/kim%2bpetras/_/heart%2bto%2bbreak', 'id': '47df2ab45a07ee23217fb25b69bdf7a282cabac3'}, {'artist': 'Kim Petras', 'title': 'Icy', 'album': 'Clarity', 'duration': 189000, 'tags': ['electropop', 'seen live', 'pop', 'love at first listen', 'contemporary rnb'], 'url': 'https://www.last.fm/music/kim%2bpetras/_/icy', 'id': '85c5836506aac37722d4d1d5a38bd696270168f1'}, {'artist': 'Kim Petras', 'title': \"I Don't Want It at All\", 'album': \"I Don't Want It at All\", 'duration': 250000, 'tags': ['pop', 'synthpop', 'bubblegum pop', 'seen live', 'german'], 'url': 'https://www.last.fm/music/kim%2bpetras/_/i%2bdon%2527t%2bwant%2bit%2bat%2ball', 'id': '98e8574799e941435f6b0ff6ffc0bd6c1c4db395'}], 'id': '015b6e8359bdf7f09ef4c3aac6e97e7d43553aea'}\n",
            "[Track] {'artist': 'Kim Petras', 'title': 'Your Wish Is My Command', 'album': None, 'duration': 0, 'tags': [], 'url': 'https://www.last.fm/music/kim%2bpetras/_/your%2bwish%2bis%2bmy%2bcommand', 'id': 'ead01e99eb5412fd45cc8732fffbac46559c125a'}\n",
            "[Artist] {'artist': 'Kim Petras', 'bio': 'Kim Petras (born August 27, 1992) is a German singer and songwriter. Between 2016 and 2020, she released music as an independent artist under her own imprint, BunHead Records, before signing with Republic Records.\\n\\nPetras began recording music as a teenager, releasing her debut EP One Piece of Tape in 2011. She independently released her debut single in 2017, \"I Don\\'t Want It at All\", which went on to top several viral music charts on Spotify. The song was followed by Billboard-charting singles \"Feeling of Falling\" (with Cheat Codes) <a href=\"https://www.last.fm/music/Kim+Petras\">Read more on Last.fm</a>', 'url': 'https://www.last.fm/music/kim%2bpetras', 'top_tracks': [{'artist': 'Kim Petras', 'title': 'Heart to Break', 'album': 'ERA 1', 'duration': 227000, 'tags': ['pop', 'synthpop', 'seen live', 'electropop', 'dance-pop'], 'url': 'https://www.last.fm/music/kim%2bpetras/_/heart%2bto%2bbreak', 'id': '47df2ab45a07ee23217fb25b69bdf7a282cabac3'}, {'artist': 'Kim Petras', 'title': 'Icy', 'album': 'Clarity', 'duration': 189000, 'tags': ['electropop', 'seen live', 'pop', 'love at first listen', 'contemporary rnb'], 'url': 'https://www.last.fm/music/kim%2bpetras/_/icy', 'id': '85c5836506aac37722d4d1d5a38bd696270168f1'}, {'artist': 'Kim Petras', 'title': \"I Don't Want It at All\", 'album': \"I Don't Want It at All\", 'duration': 250000, 'tags': ['pop', 'synthpop', 'bubblegum pop', 'seen live', 'german'], 'url': 'https://www.last.fm/music/kim%2bpetras/_/i%2bdon%2527t%2bwant%2bit%2bat%2ball', 'id': '98e8574799e941435f6b0ff6ffc0bd6c1c4db395'}], 'id': '015b6e8359bdf7f09ef4c3aac6e97e7d43553aea'}\n",
            "[Track] {'artist': 'Kim Petras', 'title': 'They Wanna Fuck', 'album': None, 'duration': 0, 'tags': [], 'url': 'https://www.last.fm/music/kim%2bpetras/_/they%2bwanna%2bfuck', 'id': '0edae09d0b08e454cc9c181d6debf6a994a1cee8'}\n",
            "\n",
            "[User] {'user': 'bellagecs', 'playcount': 57192, 'reg_date': '1516432356', 'country': 'United States', 'url': 'https://www.last.fm/user/bellagecs', 'id': '0c14e14d27825b4f580aeb5c7b71e6bb6c41913f'}\n",
            "[Artist] {'artist': 'Maddie Zahm', 'bio': '<a href=\"https://www.last.fm/music/Maddie+Zahm\">Read more on Last.fm</a>', 'url': 'https://www.last.fm/music/maddie%2bzahm', 'top_tracks': [{'artist': 'Maddie Zahm', 'title': 'Fat Funny Friend', 'album': None, 'duration': 0, 'tags': [], 'url': 'https://www.last.fm/music/maddie%2bzahm/_/fat%2bfunny%2bfriend', 'id': '37f16ef1fd5221487b64514f32960a65b7189335'}, {'artist': 'Maddie Zahm', 'title': 'blind spot', 'album': 'blind spot', 'duration': 201000, 'tags': [], 'url': 'https://www.last.fm/music/maddie%2bzahm/_/blind%2bspot', 'id': '36031cba4801f0e82e26e509952769c77a0c0940'}, {'artist': 'Maddie Zahm', 'title': 'Stupid Boys', 'album': None, 'duration': 203000, 'tags': [], 'url': 'https://www.last.fm/music/maddie%2bzahm/_/stupid%2bboys', 'id': '581effcaf4f4c7e90d0cba597159d868e601f711'}], 'id': '2c606003badc614cc5009c13f56618a5facb5a11'}\n",
            "[Track] {'artist': 'Maddie Zahm', 'title': 'Fat Funny Friend', 'album': None, 'duration': 0, 'tags': [], 'url': 'https://www.last.fm/music/maddie%2bzahm/_/fat%2bfunny%2bfriend', 'id': '37f16ef1fd5221487b64514f32960a65b7189335'}\n",
            "[Artist] {'artist': 'Maddie Zahm', 'bio': '<a href=\"https://www.last.fm/music/Maddie+Zahm\">Read more on Last.fm</a>', 'url': 'https://www.last.fm/music/maddie%2bzahm', 'top_tracks': [{'artist': 'Maddie Zahm', 'title': 'Fat Funny Friend', 'album': None, 'duration': 0, 'tags': [], 'url': 'https://www.last.fm/music/maddie%2bzahm/_/fat%2bfunny%2bfriend', 'id': '37f16ef1fd5221487b64514f32960a65b7189335'}, {'artist': 'Maddie Zahm', 'title': 'blind spot', 'album': 'blind spot', 'duration': 201000, 'tags': [], 'url': 'https://www.last.fm/music/maddie%2bzahm/_/blind%2bspot', 'id': '36031cba4801f0e82e26e509952769c77a0c0940'}, {'artist': 'Maddie Zahm', 'title': 'Stupid Boys', 'album': None, 'duration': 203000, 'tags': [], 'url': 'https://www.last.fm/music/maddie%2bzahm/_/stupid%2bboys', 'id': '581effcaf4f4c7e90d0cba597159d868e601f711'}], 'id': '2c606003badc614cc5009c13f56618a5facb5a11'}\n",
            "[Track] {'artist': 'Maddie Zahm', 'title': 'Fat Funny Friend', 'album': None, 'duration': 0, 'tags': [], 'url': 'https://www.last.fm/music/maddie%2bzahm/_/fat%2bfunny%2bfriend', 'id': '37f16ef1fd5221487b64514f32960a65b7189335'}\n",
            "[Artist] {'artist': 'Kim Petras', 'bio': 'Kim Petras (born August 27, 1992) is a German singer and songwriter. Between 2016 and 2020, she released music as an independent artist under her own imprint, BunHead Records, before signing with Republic Records.\\n\\nPetras began recording music as a teenager, releasing her debut EP One Piece of Tape in 2011. She independently released her debut single in 2017, \"I Don\\'t Want It at All\", which went on to top several viral music charts on Spotify. The song was followed by Billboard-charting singles \"Feeling of Falling\" (with Cheat Codes) <a href=\"https://www.last.fm/music/Kim+Petras\">Read more on Last.fm</a>', 'url': 'https://www.last.fm/music/kim%2bpetras', 'top_tracks': [{'artist': 'Kim Petras', 'title': 'Heart to Break', 'album': 'ERA 1', 'duration': 227000, 'tags': ['pop', 'synthpop', 'seen live', 'electropop', 'dance-pop'], 'url': 'https://www.last.fm/music/kim%2bpetras/_/heart%2bto%2bbreak', 'id': '47df2ab45a07ee23217fb25b69bdf7a282cabac3'}, {'artist': 'Kim Petras', 'title': 'Icy', 'album': 'Clarity', 'duration': 189000, 'tags': ['electropop', 'seen live', 'pop', 'love at first listen', 'contemporary rnb'], 'url': 'https://www.last.fm/music/kim%2bpetras/_/icy', 'id': '85c5836506aac37722d4d1d5a38bd696270168f1'}, {'artist': 'Kim Petras', 'title': \"I Don't Want It at All\", 'album': \"I Don't Want It at All\", 'duration': 250000, 'tags': ['pop', 'synthpop', 'bubblegum pop', 'seen live', 'german'], 'url': 'https://www.last.fm/music/kim%2bpetras/_/i%2bdon%2527t%2bwant%2bit%2bat%2ball', 'id': '98e8574799e941435f6b0ff6ffc0bd6c1c4db395'}], 'id': '015b6e8359bdf7f09ef4c3aac6e97e7d43553aea'}\n",
            "[Track] {'artist': 'Kim Petras', 'title': 'XXX', 'album': None, 'duration': 0, 'tags': ['personal favourites'], 'url': 'https://www.last.fm/music/kim%2bpetras/_/xxx', 'id': '4918d56108433a5a44194077398663d691a68741'}\n",
            "[Artist] {'artist': 'Emeline', 'bio': 'Emeline describes their sound as \"Screamo/Crunk/Happy Hardcore\"\\n They are a six member group out of Scranton, Pennsylvania. \"Famous Last Words\" is thier debut full length CD, and has an original hard hitting sound filled with heavy screaming verses and break-downs, as well as clean-singing choruses and even a few ballads! The band blends powerful metal riffs with harmonic sing-along sections, and is a refreshing change from the average screamo band. <a href=\"https://www.last.fm/music/Emeline\">Read more on Last.fm</a>', 'url': 'https://www.last.fm/music/emeline', 'top_tracks': [{'artist': 'Emeline', 'title': 'flowers & sex', 'album': None, 'duration': 0, 'tags': [], 'url': 'https://www.last.fm/music/emeline/_/flowers%2b%2526%2bsex', 'id': 'b0171e43ff35169216965551c271f35459c70685'}, {'artist': 'Emeline', 'title': 'this is how i learn to say no', 'album': 'what it means to be a girl / this is how I learn to say no', 'duration': 143000, 'tags': [], 'url': 'https://www.last.fm/music/emeline/_/this%2bis%2bhow%2bi%2blearn%2bto%2bsay%2bno', 'id': '4c3e9ac54ccb5dde6ab1ecb7003f90fcdd52f124'}, {'artist': 'Emeline', 'title': 'what it means to be a girl', 'album': 'what it means to be a girl / this is how I learn to say no', 'duration': 168000, 'tags': ['Musiclist'], 'url': 'https://www.last.fm/music/emeline/_/what%2bit%2bmeans%2bto%2bbe%2ba%2bgirl', 'id': 'eea687747ff0e1a990d5ea468cacba6a02f2fa1b'}], 'id': '9f83b6b798914d436e171ce870c8436b3093f4b1'}\n",
            "[Track] {'artist': 'Emeline', 'title': 'what it means to be a girl', 'album': 'what it means to be a girl / this is how I learn to say no', 'duration': 168000, 'tags': ['Musiclist'], 'url': 'https://www.last.fm/music/emeline/_/what%2bit%2bmeans%2bto%2bbe%2ba%2bgirl', 'id': 'eea687747ff0e1a990d5ea468cacba6a02f2fa1b'}\n",
            "[Artist] {'artist': 'Emeline', 'bio': 'Emeline describes their sound as \"Screamo/Crunk/Happy Hardcore\"\\n They are a six member group out of Scranton, Pennsylvania. \"Famous Last Words\" is thier debut full length CD, and has an original hard hitting sound filled with heavy screaming verses and break-downs, as well as clean-singing choruses and even a few ballads! The band blends powerful metal riffs with harmonic sing-along sections, and is a refreshing change from the average screamo band. <a href=\"https://www.last.fm/music/Emeline\">Read more on Last.fm</a>', 'url': 'https://www.last.fm/music/emeline', 'top_tracks': [{'artist': 'Emeline', 'title': 'flowers & sex', 'album': None, 'duration': 0, 'tags': [], 'url': 'https://www.last.fm/music/emeline/_/flowers%2b%2526%2bsex', 'id': 'b0171e43ff35169216965551c271f35459c70685'}, {'artist': 'Emeline', 'title': 'this is how i learn to say no', 'album': 'what it means to be a girl / this is how I learn to say no', 'duration': 143000, 'tags': [], 'url': 'https://www.last.fm/music/emeline/_/this%2bis%2bhow%2bi%2blearn%2bto%2bsay%2bno', 'id': '4c3e9ac54ccb5dde6ab1ecb7003f90fcdd52f124'}, {'artist': 'Emeline', 'title': 'what it means to be a girl', 'album': 'what it means to be a girl / this is how I learn to say no', 'duration': 168000, 'tags': ['Musiclist'], 'url': 'https://www.last.fm/music/emeline/_/what%2bit%2bmeans%2bto%2bbe%2ba%2bgirl', 'id': 'eea687747ff0e1a990d5ea468cacba6a02f2fa1b'}], 'id': '9f83b6b798914d436e171ce870c8436b3093f4b1'}\n",
            "[Track] {'artist': 'Emeline', 'title': 'this is how i learn to say no', 'album': 'what it means to be a girl / this is how I learn to say no', 'duration': 143000, 'tags': [], 'url': 'https://www.last.fm/music/emeline/_/this%2bis%2bhow%2bi%2blearn%2bto%2bsay%2bno', 'id': '4c3e9ac54ccb5dde6ab1ecb7003f90fcdd52f124'}\n",
            "\n",
            "[User] {'user': 'Springyaurora', 'playcount': 29149, 'reg_date': '1628003687', 'country': 'United Kingdom', 'url': 'https://www.last.fm/user/springyaurora', 'id': '317e1ed80bd845d6135656da9870537e9095ece3'}\n",
            "[Artist] {'artist': 'Queen', 'bio': 'Queen is an English rock band originally consisting of four members: vocalist and pianist Freddie Mercury, guitarist Brian May, bass guitarist John Deacon, and drummer Roger Taylor.\\n\\nThe band formed in London in 1970 after May and Taylor\\'s former band Smile split after having released an album and single. Freddie replaced lead vocalist Tim Staffell, after the latter\\'s departure from the original trio. \\n\\nThere was much deliberation as to what the band\\'s name would be. <a href=\"https://www.last.fm/music/Queen\">Read more on Last.fm</a>', 'url': 'https://www.last.fm/music/queen', 'top_tracks': [{'artist': 'Queen', 'title': 'Bohemian Rhapsody', 'album': 'A Night at the Opera', 'duration': 354000, 'tags': ['classic rock', 'rock', 'Queen', '70s', '80s'], 'url': 'https://www.last.fm/music/queen/_/bohemian%2brhapsody', 'id': 'c4b2398e65b91636aad892102797ecacbb2fd86e'}, {'artist': 'Queen', 'title': 'Another One Bites the Dust', 'album': 'Greatest Hits', 'duration': 294000, 'tags': ['classic rock', 'rock', 'Queen', '80s', 'glam rock'], 'url': 'https://www.last.fm/music/queen/_/another%2bone%2bbites%2bthe%2bdust', 'id': '2f0712301ee47aa1a8b9b7d1246a658a16011c5e'}, {'artist': 'Queen', 'title': \"Don't Stop Me Now\", 'album': 'Jazz', 'duration': 209000, 'tags': ['classic rock', 'rock', 'Queen', '70s', '80s'], 'url': 'https://www.last.fm/music/queen/_/don%2527t%2bstop%2bme%2bnow', 'id': '2eda80be637c6dd0ac6fab102b30b28761d36ab8'}], 'id': '6911adcc6c625bb5c52c5093aa8cdb0545ca63d4'}\n",
            "[Track] {'artist': 'Queen', 'title': 'Keep Yourself Alive - Live At The Rainbow', 'album': None, 'duration': 0, 'tags': [], 'url': 'https://www.last.fm/music/queen/_/keep%2byourself%2balive%2b-%2blive%2bat%2bthe%2brainbow', 'id': 'c9db05bd151c62a9e754aa0d8caad2b8617c5dea'}\n",
            "[Artist] {'artist': 'Queen', 'bio': 'Queen is an English rock band originally consisting of four members: vocalist and pianist Freddie Mercury, guitarist Brian May, bass guitarist John Deacon, and drummer Roger Taylor.\\n\\nThe band formed in London in 1970 after May and Taylor\\'s former band Smile split after having released an album and single. Freddie replaced lead vocalist Tim Staffell, after the latter\\'s departure from the original trio. \\n\\nThere was much deliberation as to what the band\\'s name would be. <a href=\"https://www.last.fm/music/Queen\">Read more on Last.fm</a>', 'url': 'https://www.last.fm/music/queen', 'top_tracks': [{'artist': 'Queen', 'title': 'Bohemian Rhapsody', 'album': 'A Night at the Opera', 'duration': 354000, 'tags': ['classic rock', 'rock', 'Queen', '70s', '80s'], 'url': 'https://www.last.fm/music/queen/_/bohemian%2brhapsody', 'id': 'c4b2398e65b91636aad892102797ecacbb2fd86e'}, {'artist': 'Queen', 'title': 'Another One Bites the Dust', 'album': 'Greatest Hits', 'duration': 294000, 'tags': ['classic rock', 'rock', 'Queen', '80s', 'glam rock'], 'url': 'https://www.last.fm/music/queen/_/another%2bone%2bbites%2bthe%2bdust', 'id': '2f0712301ee47aa1a8b9b7d1246a658a16011c5e'}, {'artist': 'Queen', 'title': \"Don't Stop Me Now\", 'album': 'Jazz', 'duration': 209000, 'tags': ['classic rock', 'rock', 'Queen', '70s', '80s'], 'url': 'https://www.last.fm/music/queen/_/don%2527t%2bstop%2bme%2bnow', 'id': '2eda80be637c6dd0ac6fab102b30b28761d36ab8'}], 'id': '6911adcc6c625bb5c52c5093aa8cdb0545ca63d4'}\n",
            "[Track] {'artist': 'Queen', 'title': 'Killer Queen', 'album': 'Greatest Hits', 'duration': 182000, 'tags': ['classic rock', 'rock', 'Queen', '70s', 'glam rock'], 'url': 'https://www.last.fm/music/queen/_/killer%2bqueen', 'id': 'c59d906ef59d86238bfd0c917ade325a2cfe2801'}\n",
            "[Artist] {'artist': 'Queen', 'bio': 'Queen is an English rock band originally consisting of four members: vocalist and pianist Freddie Mercury, guitarist Brian May, bass guitarist John Deacon, and drummer Roger Taylor.\\n\\nThe band formed in London in 1970 after May and Taylor\\'s former band Smile split after having released an album and single. Freddie replaced lead vocalist Tim Staffell, after the latter\\'s departure from the original trio. \\n\\nThere was much deliberation as to what the band\\'s name would be. <a href=\"https://www.last.fm/music/Queen\">Read more on Last.fm</a>', 'url': 'https://www.last.fm/music/queen', 'top_tracks': [{'artist': 'Queen', 'title': 'Bohemian Rhapsody', 'album': 'A Night at the Opera', 'duration': 354000, 'tags': ['classic rock', 'rock', 'Queen', '70s', '80s'], 'url': 'https://www.last.fm/music/queen/_/bohemian%2brhapsody', 'id': 'c4b2398e65b91636aad892102797ecacbb2fd86e'}, {'artist': 'Queen', 'title': 'Another One Bites the Dust', 'album': 'Greatest Hits', 'duration': 294000, 'tags': ['classic rock', 'rock', 'Queen', '80s', 'glam rock'], 'url': 'https://www.last.fm/music/queen/_/another%2bone%2bbites%2bthe%2bdust', 'id': '2f0712301ee47aa1a8b9b7d1246a658a16011c5e'}, {'artist': 'Queen', 'title': \"Don't Stop Me Now\", 'album': 'Jazz', 'duration': 209000, 'tags': ['classic rock', 'rock', 'Queen', '70s', '80s'], 'url': 'https://www.last.fm/music/queen/_/don%2527t%2bstop%2bme%2bnow', 'id': '2eda80be637c6dd0ac6fab102b30b28761d36ab8'}], 'id': '6911adcc6c625bb5c52c5093aa8cdb0545ca63d4'}\n",
            "[Track] {'artist': 'Queen', 'title': 'Ay-Oh - Live Aid', 'album': None, 'duration': 0, 'tags': [], 'url': 'https://www.last.fm/music/queen/_/ay-oh%2b-%2blive%2baid', 'id': 'f24b0a0ce9fe5e7c7854c64addd043b2048612ab'}\n",
            "[Artist] {'artist': 'Queen', 'bio': 'Queen is an English rock band originally consisting of four members: vocalist and pianist Freddie Mercury, guitarist Brian May, bass guitarist John Deacon, and drummer Roger Taylor.\\n\\nThe band formed in London in 1970 after May and Taylor\\'s former band Smile split after having released an album and single. Freddie replaced lead vocalist Tim Staffell, after the latter\\'s departure from the original trio. \\n\\nThere was much deliberation as to what the band\\'s name would be. <a href=\"https://www.last.fm/music/Queen\">Read more on Last.fm</a>', 'url': 'https://www.last.fm/music/queen', 'top_tracks': [{'artist': 'Queen', 'title': 'Bohemian Rhapsody', 'album': 'A Night at the Opera', 'duration': 354000, 'tags': ['classic rock', 'rock', 'Queen', '70s', '80s'], 'url': 'https://www.last.fm/music/queen/_/bohemian%2brhapsody', 'id': 'c4b2398e65b91636aad892102797ecacbb2fd86e'}, {'artist': 'Queen', 'title': 'Another One Bites the Dust', 'album': 'Greatest Hits', 'duration': 294000, 'tags': ['classic rock', 'rock', 'Queen', '80s', 'glam rock'], 'url': 'https://www.last.fm/music/queen/_/another%2bone%2bbites%2bthe%2bdust', 'id': '2f0712301ee47aa1a8b9b7d1246a658a16011c5e'}, {'artist': 'Queen', 'title': \"Don't Stop Me Now\", 'album': 'Jazz', 'duration': 209000, 'tags': ['classic rock', 'rock', 'Queen', '70s', '80s'], 'url': 'https://www.last.fm/music/queen/_/don%2527t%2bstop%2bme%2bnow', 'id': '2eda80be637c6dd0ac6fab102b30b28761d36ab8'}], 'id': '6911adcc6c625bb5c52c5093aa8cdb0545ca63d4'}\n",
            "[Track] {'artist': 'Queen', 'title': 'Ay-Oh - Live Aid', 'album': None, 'duration': 0, 'tags': [], 'url': 'https://www.last.fm/music/queen/_/ay-oh%2b-%2blive%2baid', 'id': 'f24b0a0ce9fe5e7c7854c64addd043b2048612ab'}\n",
            "[Artist] {'artist': 'Queen', 'bio': 'Queen is an English rock band originally consisting of four members: vocalist and pianist Freddie Mercury, guitarist Brian May, bass guitarist John Deacon, and drummer Roger Taylor.\\n\\nThe band formed in London in 1970 after May and Taylor\\'s former band Smile split after having released an album and single. Freddie replaced lead vocalist Tim Staffell, after the latter\\'s departure from the original trio. \\n\\nThere was much deliberation as to what the band\\'s name would be. <a href=\"https://www.last.fm/music/Queen\">Read more on Last.fm</a>', 'url': 'https://www.last.fm/music/queen', 'top_tracks': [{'artist': 'Queen', 'title': 'Bohemian Rhapsody', 'album': 'A Night at the Opera', 'duration': 354000, 'tags': ['classic rock', 'rock', 'Queen', '70s', '80s'], 'url': 'https://www.last.fm/music/queen/_/bohemian%2brhapsody', 'id': 'c4b2398e65b91636aad892102797ecacbb2fd86e'}, {'artist': 'Queen', 'title': 'Another One Bites the Dust', 'album': 'Greatest Hits', 'duration': 294000, 'tags': ['classic rock', 'rock', 'Queen', '80s', 'glam rock'], 'url': 'https://www.last.fm/music/queen/_/another%2bone%2bbites%2bthe%2bdust', 'id': '2f0712301ee47aa1a8b9b7d1246a658a16011c5e'}, {'artist': 'Queen', 'title': \"Don't Stop Me Now\", 'album': 'Jazz', 'duration': 209000, 'tags': ['classic rock', 'rock', 'Queen', '70s', '80s'], 'url': 'https://www.last.fm/music/queen/_/don%2527t%2bstop%2bme%2bnow', 'id': '2eda80be637c6dd0ac6fab102b30b28761d36ab8'}], 'id': '6911adcc6c625bb5c52c5093aa8cdb0545ca63d4'}\n",
            "[Track] {'artist': 'Queen', 'title': 'Ay-Oh - Live Aid', 'album': None, 'duration': 0, 'tags': [], 'url': 'https://www.last.fm/music/queen/_/ay-oh%2b-%2blive%2baid', 'id': 'f24b0a0ce9fe5e7c7854c64addd043b2048612ab'}\n",
            "\n",
            "[User] {'user': 'diabIa', 'playcount': 5217, 'reg_date': '1640125517', 'country': 'Dominican Republic', 'url': 'https://www.last.fm/user/diabia', 'id': '79b276590c7c969055f434c0291928721f2534ee'}\n",
            "[Artist] {'artist': 'Feid', 'bio': 'Salomón Villada Hoyos, better known as Feid, is a Colombian singer and songwriter. Born in Medellín, Colombia, he has worked with several well-known singers such as J Balvin, Sebastian Yatra, Nacho and Mackie. <a href=\"https://www.last.fm/music/Feid\">Read more on Last.fm</a>', 'url': 'https://www.last.fm/music/feid', 'top_tracks': [{'artist': 'Feid', 'title': 'Porfa', 'album': 'Iconos del Verano', 'duration': 232000, 'tags': ['Reggaeton', 'delete groove metal tag'], 'url': 'https://www.last.fm/music/feid/_/porfa', 'id': '8200484d8bb47e2fcefad1ab7bddce2769f83f61'}, {'artist': 'Feid', 'title': 'PORFA Remix ( Feat. Maluma, Nicky Jam, Sech) - Remix', 'album': None, 'duration': 0, 'tags': [], 'url': 'https://www.last.fm/music/feid/_/porfa%2bremix%2b%2528%2bfeat.%2bmaluma%252c%2bnicky%2bjam%252c%2bsech%2529%2b-%2bremix', 'id': '4223e8ffbe42d21c2b32a71afdaf65da4443c240'}, {'artist': 'Feid', 'title': 'CHIMBITA', 'album': 'Perreo Latino Up', 'duration': 156000, 'tags': [], 'url': 'https://www.last.fm/music/feid/_/chimbita', 'id': '659afeed98063538df660922eaea0d31632209b1'}], 'id': 'e0cd0d156507d2a740c4836708a21a3baa490313'}\n",
            "[Track] {'artist': 'Feid', 'title': 'TE MATA', 'album': 'INTER SHIBUYA - LA MAFIA (FERXXO EDITION)', 'duration': 113000, 'tags': [], 'url': 'https://www.last.fm/music/feid/_/te%2bmata', 'id': 'fa571cfc13a1279971fc4d25be15b21a8fec07c3'}\n",
            "[Artist] {'artist': 'IZA', 'bio': 'Isabela Cristina Correia de Lima Lima, known by her stage name IZA, is a Brazilian singer, songwriter, presenter and businesswoman. Born and raised in the neighborhood of Olaria in Rio de Janeiro, she is the daughter of music and arts teacher Isabel Cristina Lima and naval soldier Djama Leite Lima. Her parents are second cousins, which is why the singer was given the surname Lima twice. At age 6 she moved to Natal, Rio Grande do Norte, when her father was transferred to serve at the Natal Naval Base. <a href=\"https://www.last.fm/music/IZA\">Read more on Last.fm</a>', 'url': 'https://www.last.fm/music/iza', 'top_tracks': [{'artist': 'IZA', 'title': 'Dona de Mim', 'album': 'Dona de Mim', 'duration': 208000, 'tags': ['rnb', 'soul', 'mpb', 'Neo Soul', 'Hip-Hop'], 'url': 'https://www.last.fm/music/iza/_/dona%2bde%2bmim', 'id': '1f7a952e1002acf6552b022e3b2092d2587fe4d5'}, {'artist': 'IZA', 'title': 'Meu Talismã', 'album': None, 'duration': 165000, 'tags': ['rnb', 'brazilian', 'trap', '2019', 'Hip-Hop'], 'url': 'https://www.last.fm/music/iza/_/meu%2btalism%25c3%25a3', 'id': 'c2b022815ab0a2bcd07eb73cb9b729b36a4f88e6'}, {'artist': 'IZA', 'title': 'Pesadão (Participação especial Marcelo Falcão)', 'album': 'Pesadão (Participação especial Marcelo Falcão)', 'duration': 199000, 'tags': ['reggae', 'rnb', 'Hip-Hop', 'hip hop', 'pop'], 'url': 'https://www.last.fm/music/iza/_/pesad%25c3%25a3o%2b%2528participa%25c3%25a7%25c3%25a3o%2bespecial%2bmarcelo%2bfalc%25c3%25a3o%2529', 'id': '80c5edc76b490d7a73187419953fe31979ca25dd'}], 'id': 'dbd7555951d24fa1aa9e1e56d957224bbccd81f6'}\n",
            "[Track] {'artist': 'IZA', 'title': 'Pesadão', 'album': 'Deezer Sessions', 'duration': 199000, 'tags': ['Hip-Hop', 'hip hop', 'rap', 'marcelo falcão', 'reggae'], 'url': 'https://www.last.fm/music/iza/_/pesad%25c3%25a3o', 'id': '1c7a08c069eb3d949fc6abe03989deb11e5a492d'}\n",
            "[Artist] {'artist': 'Sofía Reyes', 'bio': 'Sofia Reyes is a Mexican singer and songwriter who has been nominated twice to the Latin American Music Awards, MTV Europe Music Awards, Premios Juventud and Latin GRAMMYs among many others. She has amassed nearly one billion views on YouTube and two billion global streams with hits including 1,2,3 with Jason Derulo & De La Ghetto with more than 461 million streams and R.I.P featuring Rita Ora and Anitta, with more than 190 million streams. Chosen <a href=\"https://www.last.fm/music/Sof%C3%ADa+Reyes\">Read more on Last.fm</a>', 'url': 'https://www.last.fm/music/sof%25c3%25ada%2breyes', 'top_tracks': [{'artist': 'Sofía Reyes', 'title': 'R.I.P. (feat. Rita Ora & Anitta)', 'album': None, 'duration': 187000, 'tags': ['pop', 'spanish', 'female vocalists', 'dance', 'RIP'], 'url': 'https://www.last.fm/music/sof%25c3%25ada%2breyes/_/r.i.p.%2b%2528feat.%2brita%2bora%2b%2526%2banitta%2529', 'id': '01830a7d8f1b8164d810cd6db1470a1c27bef72d'}, {'artist': 'Sofía Reyes', 'title': '1, 2, 3 (feat. Jason Derulo & De La Ghetto)', 'album': None, 'duration': 201000, 'tags': [], 'url': 'https://www.last.fm/music/sof%25c3%25ada%2breyes/_/1%252c%2b2%252c%2b3%2b%2528feat.%2bjason%2bderulo%2b%2526%2bde%2bla%2bghetto%2529', 'id': 'd209e789fa21e0d8d1dea5eb4283e3bed867eea3'}, {'artist': 'Sofía Reyes', 'title': 'Mal de Amores', 'album': 'Mal de Amores - Single', 'duration': 188000, 'tags': [], 'url': 'https://www.last.fm/music/sof%25c3%25ada%2breyes/_/mal%2bde%2bamores', 'id': '56c6c1cf438a1f171f98b4aa85ed50521817008a'}], 'id': 'a0b60b725e73b7244e0631322b817d3bddaa6a3c'}\n",
            "[Track] {'artist': 'Sofía Reyes', 'title': 'IDIOTA', 'album': 'IDIOTA - Single', 'duration': 205000, 'tags': [], 'url': 'https://www.last.fm/music/sof%25c3%25ada%2breyes/_/idiota', 'id': 'd06e653d871a30180f97bafe41d397e6ab874de8'}\n",
            "[Artist] {'artist': 'Natti Natasha', 'bio': 'Natti Natasha (birth name: Natalia Alexandra Gutiérrez) is a chart-topping reggaeton, urban, and Latin pop singer. Mentored by Don Omar, she has not only rung the bell at the top of the Latin pop charts across the Americas and Spain, but has consistently placed in the Top Ten.\\n\\nNatasha was born in Santiago de los Caballeros in the Dominican Republic. Singing in church as a small child, she mightily impressed her mother, who enrolled her at the School of Fine Arts of Santiago at the age eight. <a href=\"https://www.last.fm/music/Natti+Natasha\">Read more on Last.fm</a>', 'url': 'https://www.last.fm/music/natti%2bnatasha', 'top_tracks': [{'artist': 'Natti Natasha', 'title': 'Criminal', 'album': 'Criminal', 'duration': 218000, 'tags': ['latin', 'Reggaeton', 'latin pop', '2010s', 'weed'], 'url': 'https://www.last.fm/music/natti%2bnatasha/_/criminal', 'id': '9307af3c5aea1019150eae013df5b07eb6f71fc5'}, {'artist': 'Natti Natasha', 'title': 'Ram Pam Pam', 'album': None, 'duration': 0, 'tags': ['Becky G'], 'url': 'https://www.last.fm/music/natti%2bnatasha/_/ram%2bpam%2bpam', 'id': '56e319762de6ad77261db9e1a6753fae03438067'}, {'artist': 'Natti Natasha', 'title': 'Amantes de una Noche', 'album': None, 'duration': 225000, 'tags': ['bad bunny'], 'url': 'https://www.last.fm/music/natti%2bnatasha/_/amantes%2bde%2buna%2bnoche', 'id': '41d2aff9ee19bf1b154f80df9f2d2e088e8468df'}], 'id': '18a4179e9dddf33ca878138198a94f4a60754243'}\n",
            "[Track] {'artist': 'Natti Natasha', 'title': 'Me Gusta', 'album': 'Me Gusta (Remix)', 'duration': 197000, 'tags': ['latino', 'pop urbano'], 'url': 'https://www.last.fm/music/natti%2bnatasha/_/me%2bgusta', 'id': '540d20b5c8d54f7c87b33ce16d74ee3f37462187'}\n",
            "[Artist] {'artist': 'Natti Natasha', 'bio': 'Natti Natasha (birth name: Natalia Alexandra Gutiérrez) is a chart-topping reggaeton, urban, and Latin pop singer. Mentored by Don Omar, she has not only rung the bell at the top of the Latin pop charts across the Americas and Spain, but has consistently placed in the Top Ten.\\n\\nNatasha was born in Santiago de los Caballeros in the Dominican Republic. Singing in church as a small child, she mightily impressed her mother, who enrolled her at the School of Fine Arts of Santiago at the age eight. <a href=\"https://www.last.fm/music/Natti+Natasha\">Read more on Last.fm</a>', 'url': 'https://www.last.fm/music/natti%2bnatasha', 'top_tracks': [{'artist': 'Natti Natasha', 'title': 'Criminal', 'album': 'Criminal', 'duration': 218000, 'tags': ['latin', 'Reggaeton', 'latin pop', '2010s', 'weed'], 'url': 'https://www.last.fm/music/natti%2bnatasha/_/criminal', 'id': '9307af3c5aea1019150eae013df5b07eb6f71fc5'}, {'artist': 'Natti Natasha', 'title': 'Ram Pam Pam', 'album': None, 'duration': 0, 'tags': ['Becky G'], 'url': 'https://www.last.fm/music/natti%2bnatasha/_/ram%2bpam%2bpam', 'id': '56e319762de6ad77261db9e1a6753fae03438067'}, {'artist': 'Natti Natasha', 'title': 'Amantes de una Noche', 'album': None, 'duration': 225000, 'tags': ['bad bunny'], 'url': 'https://www.last.fm/music/natti%2bnatasha/_/amantes%2bde%2buna%2bnoche', 'id': '41d2aff9ee19bf1b154f80df9f2d2e088e8468df'}], 'id': '18a4179e9dddf33ca878138198a94f4a60754243'}\n",
            "[Track] {'artist': 'Natti Natasha', 'title': 'Obsesion', 'album': None, 'duration': 0, 'tags': [], 'url': 'https://www.last.fm/music/natti%2bnatasha/_/obsesion', 'id': '0fb36c3f94e49fe6609d9298f921bc03d2620b72'}\n",
            "\n"
          ]
        }
      ]
    },
    {
      "cell_type": "markdown",
      "source": [
        "Missing track"
      ],
      "metadata": {
        "id": "00fVR8O8v-eS"
      }
    },
    {
      "cell_type": "code",
      "source": [
        "source.get('track', 'Rich Nanni', 'Macaroni')"
      ],
      "metadata": {
        "colab": {
          "base_uri": "https://localhost:8080/"
        },
        "id": "S_XAzlj2ulx1",
        "outputId": "4110cb2b-560e-4541-9540-4ee90a0cd428"
      },
      "execution_count": 8,
      "outputs": [
        {
          "output_type": "execute_result",
          "data": {
            "text/plain": [
              "{'album': None,\n",
              " 'artist': 'Rich Nanni',\n",
              " 'duration': 0,\n",
              " 'id': 'cb5617ef265b3fe5e48c859d7016a09dcf4a4215',\n",
              " 'tags': [],\n",
              " 'title': 'Macaroni',\n",
              " 'url': 'https://www.last.fm/music/rich%2bnanni/_/macaroni'}"
            ]
          },
          "metadata": {},
          "execution_count": 8
        }
      ]
    },
    {
      "cell_type": "markdown",
      "source": [
        "# Read from storage"
      ],
      "metadata": {
        "id": "ZZgDraLQwAu7"
      }
    },
    {
      "cell_type": "code",
      "source": [
        "recent_tracks = storage.read('recent_tracks',dir=True)\n",
        "for recent_track in recent_tracks:\n",
        "  print(recent_track)\n",
        "recent_tracks_rdd = sc.parallelize(recent_tracks)"
      ],
      "metadata": {
        "colab": {
          "base_uri": "https://localhost:8080/"
        },
        "id": "Axgy029wvk1J",
        "outputId": "77054f03-eef6-43a0-9e17-e7920f11c087"
      },
      "execution_count": 10,
      "outputs": [
        {
          "output_type": "stream",
          "name": "stdout",
          "text": [
            "['amarxl', {'artist': 'Kim Petras', 'title': 'XXX', 'date': '17 Feb 2022, 14:51', 'album': 'Slut Pop', 'timestamp': '1645109503', 'id': '4918d56108433a5a44194077398663d691a68741'}, {'artist': 'Kim Petras', 'title': 'Treat Me Like a Slut', 'date': '17 Feb 2022, 14:49', 'album': 'Slut Pop', 'timestamp': '1645109385', 'id': '9e41f80918c4172b2b70bbe2bbc3b1042af80290'}, {'artist': 'Kim Petras', 'title': 'Slut Pop', 'date': '17 Feb 2022, 14:47', 'album': 'Slut Pop', 'timestamp': '1645109268', 'id': 'cab054b76d7247c17c2475a09899211dd7bb9090'}, {'artist': 'Kim Petras', 'title': 'Your Wish Is My Command', 'date': '17 Feb 2022, 14:44', 'album': 'Slut Pop', 'timestamp': '1645109093', 'id': 'ead01e99eb5412fd45cc8732fffbac46559c125a'}, {'artist': 'Kim Petras', 'title': 'They Wanna Fuck', 'date': '17 Feb 2022, 14:42', 'album': 'Slut Pop', 'timestamp': '1645108943', 'id': '0edae09d0b08e454cc9c181d6debf6a994a1cee8'}, {'artist': 'Kim Petras', 'title': 'Throat Goat', 'date': '17 Feb 2022, 14:40', 'album': 'Slut Pop', 'timestamp': '1645108803', 'id': '0af9c69909f292930e7f66d2cb8ba0db2696ba1e'}, {'artist': 'Kim Petras', 'title': 'Superpower Bitch', 'date': '17 Feb 2022, 14:37', 'album': 'Slut Pop', 'timestamp': '1645108676', 'id': 'afc99b7f3a550faf05aa7d29efa46bb01d29c4eb'}, {'artist': 'Kim Petras', 'title': 'XXX', 'date': '17 Feb 2022, 14:35', 'album': 'Slut Pop', 'timestamp': '1645108552', 'id': '4918d56108433a5a44194077398663d691a68741'}, {'artist': 'Kim Petras', 'title': 'Treat Me Like a Slut', 'date': '17 Feb 2022, 14:33', 'album': 'Slut Pop', 'timestamp': '1645108433', 'id': '9e41f80918c4172b2b70bbe2bbc3b1042af80290'}, {'artist': 'Kim Petras', 'title': 'Slut Pop', 'date': '17 Feb 2022, 14:31', 'album': 'Slut Pop', 'timestamp': '1645108316', 'id': 'cab054b76d7247c17c2475a09899211dd7bb9090'}, {'artist': 'Kim Petras', 'title': 'Your Wish Is My Command', 'date': '17 Feb 2022, 14:29', 'album': 'Slut Pop', 'timestamp': '1645108141', 'id': 'ead01e99eb5412fd45cc8732fffbac46559c125a'}, {'artist': 'Kim Petras', 'title': 'They Wanna Fuck', 'date': '17 Feb 2022, 14:26', 'album': 'Slut Pop', 'timestamp': '1645107991', 'id': '0edae09d0b08e454cc9c181d6debf6a994a1cee8'}, {'artist': 'Kim Petras', 'title': 'Throat Goat', 'date': '17 Feb 2022, 14:24', 'album': 'Slut Pop', 'timestamp': '1645107852', 'id': '0af9c69909f292930e7f66d2cb8ba0db2696ba1e'}, {'artist': 'Kim Petras', 'title': 'Throat Goat', 'date': '17 Feb 2022, 00:19', 'album': 'Slut Pop', 'timestamp': '1645057179', 'id': '0af9c69909f292930e7f66d2cb8ba0db2696ba1e'}, {'artist': 'Kim Petras', 'title': 'Superpower Bitch', 'date': '17 Feb 2022, 00:17', 'album': 'Slut Pop', 'timestamp': '1645057052', 'id': 'afc99b7f3a550faf05aa7d29efa46bb01d29c4eb'}, {'artist': 'Kim Petras', 'title': 'XXX', 'date': '17 Feb 2022, 00:15', 'album': 'Slut Pop', 'timestamp': '1645056927', 'id': '4918d56108433a5a44194077398663d691a68741'}, {'artist': 'Kim Petras', 'title': 'Treat Me Like a Slut', 'date': '17 Feb 2022, 00:13', 'album': 'Slut Pop', 'timestamp': '1645056810', 'id': '9e41f80918c4172b2b70bbe2bbc3b1042af80290'}, {'artist': 'florentino', 'title': 'Fuego (Florentino Remix)', 'date': '16 Feb 2022, 21:06', 'album': 'Fuego Remixes', 'timestamp': '1645045590', 'id': '543c59f310eaa62d9ca7babbad7f3bed690e2be4'}, {'artist': 'Isabella LoveStory', 'title': 'Mariposa', 'date': '16 Feb 2022, 21:03', 'album': 'Mariposa', 'timestamp': '1645045410', 'id': '0c9531a472447b7e0f91cba7b5a4f27b6d89e68e'}, {'artist': 'ROSALÍA', 'title': 'SAOKO', 'date': '16 Feb 2022, 21:01', 'album': 'SAOKO', 'timestamp': '1645045272', 'id': '7eb26389dc561d2f85578ded82f17b48a9d0f2d2'}, {'artist': 'Nathy Peluso', 'title': 'DELITO', 'date': '16 Feb 2022, 20:57', 'album': 'Calambre', 'timestamp': '1645045068', 'id': '274b6fcb56bf4d535c962f5c0bcb5c950a531a24'}, {'artist': 'Nathy Peluso', 'title': 'CELEBRÉ', 'date': '16 Feb 2022, 20:54', 'album': 'Calambre', 'timestamp': '1645044852', 'id': 'b2c77f9a08024a5519969d12778c11b95b6dbaee'}, {'artist': 'Pabllo Vittar', 'title': 'Salvaje', 'date': '16 Feb 2022, 20:49', 'album': '111', 'timestamp': '1645044550', 'id': '78f4797a9601a37c7215b0e097652a72a7c3d6ff'}, {'artist': 'Ms Nina', 'title': 'El Consejo', 'date': '16 Feb 2022, 20:47', 'album': 'Perreando Por Fuera, Llorando Por Dentro', 'timestamp': '1645044424', 'id': '40b67b87922fedf1d6e11e51324006f3dc285129'}, {'artist': 'Kali Uchis', 'title': 'no eres tu(soy yo)', 'date': '16 Feb 2022, 20:45', 'album': 'Sin Miedo (del Amor y Otros Demonios) ∞', 'timestamp': '1645044303', 'id': '9e9e540c4f2703d63c398975afb0869fb9971523'}, {'artist': 'Nathy Peluso', 'title': 'AMOR SALVAJE', 'date': '16 Feb 2022, 20:41', 'album': 'Calambre', 'timestamp': '1645044109', 'id': '6c8c2edc21eba8cd49b735c7b9bc3f8e7d19b890'}, {'artist': 'TOMASA DEL REAL', 'title': 'Perra Del Futuro', 'date': '16 Feb 2022, 20:38', 'album': 'Bellaca del Año', 'timestamp': '1645043928', 'id': 'a03b1c99105374ca573aaef0fb4744cd7a5cb0d1'}, {'artist': 'Ms Nina', 'title': 'SI QUIERES', 'date': '16 Feb 2022, 20:36', 'album': 'SI QUIERES', 'timestamp': '1645043793', 'id': '5aa27a766e1885ee8a5bc08d080a136c9fb6a682'}, {'artist': 'Isabella LoveStory', 'title': 'Tranki', 'date': '16 Feb 2022, 20:33', 'album': 'Tranki', 'timestamp': '1645043590', 'id': '3c48885ed2cbe15f23502ac6c9f5113e105451f6'}, {'artist': 'Nathy Peluso', 'title': 'SANA SANA', 'date': '16 Feb 2022, 20:30', 'album': 'Calambre', 'timestamp': '1645043411', 'id': 'a8be981458df0b8f15dcdaad6457b028969c1b3c'}, {'artist': 'Ms Nina', 'title': 'Coqueta', 'date': '16 Feb 2022, 20:27', 'album': 'Perreando Por Fuera, Llorando Por Dentro', 'timestamp': '1645043253', 'id': '338ac337b260eb1842a0b7086603e605fb84025c'}, {'artist': 'Kali Uchis', 'title': '¡aquí yo mando!', 'date': '16 Feb 2022, 20:25', 'album': 'Sin Miedo (del Amor y Otros Demonios) ∞', 'timestamp': '1645043111', 'id': '1162d6c24b4ab5404161aa01130debb02d168561'}, {'artist': 'Arca', 'title': 'Mequetrefe', 'date': '16 Feb 2022, 20:22', 'album': 'KiCk i', 'timestamp': '1645042970', 'id': '02f9d2093e81576bd6e6fe5df279c525a39ea2ab'}, {'artist': 'Kali Uchis', 'title': 'te pongo mal(prendelo)', 'date': '16 Feb 2022, 20:19', 'album': 'Sin Miedo (del Amor y Otros Demonios) ∞', 'timestamp': '1645042797', 'id': 'bfb768248f4b793516407335c9a0f65f216d1f1f'}, {'artist': 'Bad Gyal', 'title': 'Tu Moto - Prod. D33J', 'date': '16 Feb 2022, 20:16', 'album': 'Worldwide Angel', 'timestamp': '1645042601', 'id': '590537aa91276cb085130ca37b2c29cc1ffc0a04'}, {'artist': 'Bad Gyal', 'title': 'Blin Blin', 'date': '16 Feb 2022, 20:14', 'album': 'Warm Up', 'timestamp': '1645042456', 'id': 'a487cd9761c2d3124b4951ee2da424d98132af0a'}, {'artist': 'Arca', 'title': 'Rakata', 'date': '16 Feb 2022, 20:11', 'album': 'KICK ii', 'timestamp': '1645042304', 'id': '24bb92fe46ba90ffd3d6e0323186cc31509ef146'}, {'artist': 'TOMASA DEL REAL', 'title': 'Barre Con el Pelo (feat. DJ Blass)', 'date': '16 Feb 2022, 20:08', 'album': 'Bellaca del Año', 'timestamp': '1645042105', 'id': 'f5184745eb76b0083b4ec016cb9827cf412d1e17'}, {'artist': 'ROSALÍA', 'title': 'A Palé', 'date': '16 Feb 2022, 20:06', 'album': 'A Palé', 'timestamp': '1645041960', 'id': 'd91cff06b7276a19d1f25923446bf848c254eba7'}, {'artist': 'Isabella LoveStory', 'title': 'Kitten Heel', 'date': '16 Feb 2022, 20:03', 'album': 'Mariposa', 'timestamp': '1645041808', 'id': '93192f94adae58e734fd8a39082fd2c413501a20'}, {'artist': 'ROSALÍA', 'title': 'Con Altura', 'date': '16 Feb 2022, 20:00', 'album': 'Con Altura', 'timestamp': '1645041646', 'id': 'bd415b0eebf2d552559b91d90e36f0ac316cb154'}, {'artist': 'Isabella LoveStory', 'title': 'Golosa', 'date': '16 Feb 2022, 19:58', 'album': 'Mariposa', 'timestamp': '1645041486', 'id': '61ed37ad81ad968514fbd6164e41c39b0879d0bd'}, {'artist': 'Arca', 'title': 'Tiro', 'date': '16 Feb 2022, 19:55', 'album': 'KICK ii', 'timestamp': '1645041347', 'id': '1cb7a03bb7dd333a66882a893447d91ed0cf4cb9'}, {'artist': 'ROSALÍA', 'title': 'TKN (feat. Travis Scott)', 'date': '16 Feb 2022, 19:53', 'album': 'TKN (feat. Travis Scott)', 'timestamp': '1645041217', 'id': '8507f0597d7f73f874b6e6c34b77bf21d74fe910'}, {'artist': 'Arca', 'title': 'Prada', 'date': '16 Feb 2022, 19:50', 'album': 'KICK ii', 'timestamp': '1645041054', 'id': '1bbf18bc7bf9018584190a6c3292ba645d81a0ff'}, {'artist': 'Arca', 'title': 'KLK', 'date': '16 Feb 2022, 19:47', 'album': 'KiCk i', 'timestamp': '1645040826', 'id': 'dbf2784c9c3bfade1625c0c845f0150bc496bd15'}, {'artist': 'florentino', 'title': 'Fuego (Florentino Remix)', 'date': '16 Feb 2022, 19:43', 'album': 'Fuego Remixes', 'timestamp': '1645040632', 'id': '543c59f310eaa62d9ca7babbad7f3bed690e2be4'}, {'artist': 'Isabella LoveStory', 'title': 'Mariposa', 'date': '16 Feb 2022, 19:40', 'album': 'Mariposa', 'timestamp': '1645040452', 'id': '0c9531a472447b7e0f91cba7b5a4f27b6d89e68e'}, {'artist': 'ROSALÍA', 'title': 'SAOKO', 'date': '16 Feb 2022, 19:38', 'album': 'SAOKO', 'timestamp': '1645040316', 'id': '7eb26389dc561d2f85578ded82f17b48a9d0f2d2'}, {'artist': 'Kim Petras', 'title': 'Your Wish Is My Command', 'date': '15 Feb 2022, 23:49', 'album': 'Slut Pop', 'timestamp': '1644968992', 'id': 'ead01e99eb5412fd45cc8732fffbac46559c125a'}]\n",
            "['bellagecs', {'artist': 'Maddie Zahm', 'title': 'Fat Funny Friend', 'date': '17 Feb 2022, 04:25', 'album': 'Fat Funny Friend', 'timestamp': '1645071913', 'id': '37f16ef1fd5221487b64514f32960a65b7189335'}, {'artist': 'Maddie Zahm', 'title': 'Fat Funny Friend', 'date': '17 Feb 2022, 04:21', 'album': 'Fat Funny Friend', 'timestamp': '1645071698', 'id': '37f16ef1fd5221487b64514f32960a65b7189335'}, {'artist': 'Kim Petras', 'title': 'XXX', 'date': '17 Feb 2022, 04:19', 'album': 'Slut Pop', 'timestamp': '1645071559', 'id': '4918d56108433a5a44194077398663d691a68741'}, {'artist': 'Emeline', 'title': 'what it means to be a girl', 'date': '17 Feb 2022, 04:17', 'album': 'what it means to be a girl / this is how I learn to say no', 'timestamp': '1645071443', 'id': 'eea687747ff0e1a990d5ea468cacba6a02f2fa1b'}, {'artist': 'Emeline', 'title': 'this is how i learn to say no', 'date': '17 Feb 2022, 04:13', 'album': 'what it means to be a girl / this is how I learn to say no', 'timestamp': '1645071226', 'id': '4c3e9ac54ccb5dde6ab1ecb7003f90fcdd52f124'}, {'artist': 'pinkpantheress', 'title': 'Attracted to You', 'date': '17 Feb 2022, 04:11', 'album': 'Attracted to you', 'timestamp': '1645071102', 'id': 'd11ab8160413cb32691550e4bcbca6fcffa2b540'}, {'artist': 'pinkpantheress', 'title': 'Attracted to You', 'date': '17 Feb 2022, 04:10', 'album': 'Attracted to you', 'timestamp': '1645071037', 'id': 'd11ab8160413cb32691550e4bcbca6fcffa2b540'}, {'artist': \"Olivia O'Brien\", 'title': 'Complicated', 'date': '17 Feb 2022, 01:16', 'album': 'Complicated', 'timestamp': '1645060575', 'id': '9d2f7dca65047be38add3fe9dd66cb3eb540b4f7'}, {'artist': 'Kacey Musgraves', 'title': 'justified', 'date': '17 Feb 2022, 01:14', 'album': 'star-crossed', 'timestamp': '1645060461', 'id': '679c8ef9f048614afa3a377488ddcc39654d0b59'}, {'artist': 'Beyoncé', 'title': 'Freakum Dress', 'date': '17 Feb 2022, 01:07', 'album': \"B'Day Deluxe Edition\", 'timestamp': '1645060045', 'id': '5b01b1c1914e454f12aa2c6e1867adc150d91c8f'}, {'artist': 'Killboy', 'title': 'LOVERBOY', 'date': '17 Feb 2022, 01:02', 'album': 'LOVERBOY', 'timestamp': '1645059766', 'id': 'c94a69d68a483bc8e1168d196a75e9f62519363c'}, {'artist': 'Kim Petras', 'title': 'Throat Goat', 'date': '17 Feb 2022, 01:00', 'album': 'Slut Pop', 'timestamp': '1645059630', 'id': '0af9c69909f292930e7f66d2cb8ba0db2696ba1e'}, {'artist': 'Kim Petras', 'title': 'They Wanna Fuck', 'date': '16 Feb 2022, 05:26', 'album': 'Slut Pop', 'timestamp': '1644989208', 'id': '0edae09d0b08e454cc9c181d6debf6a994a1cee8'}, {'artist': 'Kim Petras', 'title': 'Throat Goat', 'date': '16 Feb 2022, 05:24', 'album': 'Slut Pop', 'timestamp': '1644989067', 'id': '0af9c69909f292930e7f66d2cb8ba0db2696ba1e'}, {'artist': 'Anitta', 'title': \"Boys Don't Cry\", 'date': '16 Feb 2022, 05:22', 'album': \"Boys Don't Cry\", 'timestamp': '1644988947', 'id': '4099ebac7f0f9b91760341891811d527ea4c605f'}, {'artist': 'Olivia Rodrigo', 'title': 'drivers license', 'date': '16 Feb 2022, 05:19', 'album': 'SOUR', 'timestamp': '1644988774', 'id': 'd937b5c71d10bcdcc9d0ccebe327f48914664487'}, {'artist': 'Olivia Rodrigo', 'title': 'traitor', 'date': '16 Feb 2022, 05:15', 'album': 'SOUR', 'timestamp': '1644988547', 'id': '0b7bb5e9aef71386b5b664c603f9d9bd9c3b305e'}, {'artist': 'Olivia Rodrigo', 'title': 'enough for you', 'date': '16 Feb 2022, 05:12', 'album': 'SOUR', 'timestamp': '1644988343', 'id': '890ab66fbe406dffb833c22a6ca514e9733ad4ee'}, {'artist': 'Olivia Rodrigo', 'title': 'traitor', 'date': '16 Feb 2022, 05:08', 'album': 'SOUR', 'timestamp': '1644988114', 'id': '0b7bb5e9aef71386b5b664c603f9d9bd9c3b305e'}, {'artist': 'Olivia Rodrigo', 'title': 'deja vu', 'date': '16 Feb 2022, 05:04', 'album': 'SOUR', 'timestamp': '1644987882', 'id': 'ac4041523540c736257aa5a65be5cd45ebdd1d0c'}, {'artist': 'Olivia Rodrigo', 'title': 'good 4 u', 'date': '16 Feb 2022, 05:02', 'album': 'SOUR', 'timestamp': '1644987776', 'id': '3ba1ec1448d3ea1c09d647b7ffc24e9342a9cfd9'}, {'artist': 'Madison Beer', 'title': 'Reckless', 'date': '16 Feb 2022, 04:59', 'album': 'Reckless', 'timestamp': '1644987576', 'id': '16dd24a57b1947de778571b30a26cfcd098b7b78'}, {'artist': 'PinkPantheress', 'title': 'All my friends know', 'date': '16 Feb 2022, 04:57', 'album': 'to hell with it', 'timestamp': '1644987454', 'id': 'cb2be86da6a024bf7c2e6ae5c46288a94b4339eb'}, {'artist': 'Sara Kays', 'title': 'Remember That Night?', 'date': '16 Feb 2022, 04:50', 'album': 'Remember That Night?', 'timestamp': '1644987055', 'id': '1a7667cf0d9d46967a81b45ca9ff5a09b4c368ce'}, {'artist': 'Kacey Musgraves', 'title': 'Lonely Weekend', 'date': '16 Feb 2022, 04:48', 'album': 'Golden Hour', 'timestamp': '1644986925', 'id': 'ddb7221f54c62c5251dfcd07ce97d7e6aad11c42'}, {'artist': 'Gracie Abrams', 'title': 'Mean It', 'date': '16 Feb 2022, 04:47', 'album': 'Mean It', 'timestamp': '1644986821', 'id': '33ca97a6282b2cbfdd4960ed9b367890fc9684bb'}, {'artist': 'Killboy', 'title': 'LOVERBOY', 'date': '16 Feb 2022, 04:44', 'album': 'LOVERBOY', 'timestamp': '1644986663', 'id': 'c94a69d68a483bc8e1168d196a75e9f62519363c'}, {'artist': 'Kim Petras', 'title': 'Treat Me Like a Slut', 'date': '16 Feb 2022, 04:42', 'album': 'Slut Pop', 'timestamp': '1644986577', 'id': '9e41f80918c4172b2b70bbe2bbc3b1042af80290'}, {'artist': 'Blu Cantrell', 'title': \"Hit 'Em Up Style (Oops!)\", 'date': '16 Feb 2022, 02:40', 'album': 'So Blu', 'timestamp': '1644979202', 'id': '937526fe4ecff0e8c789ec1fb1a6ad0f4a009b82'}, {'artist': 'Maddie Zahm', 'title': 'Fat Funny Friend', 'date': '15 Feb 2022, 23:07', 'album': 'Fat Funny Friend', 'timestamp': '1644966458', 'id': '37f16ef1fd5221487b64514f32960a65b7189335'}, {'artist': 'Halsey', 'title': 'Gasoline', 'date': '15 Feb 2022, 23:04', 'album': 'BADLANDS (Deluxe)', 'timestamp': '1644966278', 'id': '4fcbc8f51d16d6654015b4b03fbfb7a942b431f1'}, {'artist': 'Ariana Grande', 'title': 'breathin', 'date': '15 Feb 2022, 23:02', 'album': 'Sweetener', 'timestamp': '1644966169', 'id': '26c3ce4609320f7ada8fa1cca666240fc656602e'}, {'artist': 'Miley Cyrus', 'title': 'Prisoner (feat. Dua Lipa)', 'date': '15 Feb 2022, 22:56', 'album': 'Future Nostalgia (The Moonlight Edition)', 'timestamp': '1644965783', 'id': '76d083c7c8d117e160a82a9ceebb194e050ce978'}, {'artist': 'Emei', 'title': 'Late To The Party', 'date': '15 Feb 2022, 22:51', 'album': 'Late To The Party', 'timestamp': '1644965462', 'id': '20ae3aa4ac9afe56cefee1f5afc79f8b4368a1c5'}, {'artist': 'Killboy', 'title': 'LOVERBOY', 'date': '15 Feb 2022, 22:48', 'album': 'LOVERBOY', 'timestamp': '1644965314', 'id': 'c94a69d68a483bc8e1168d196a75e9f62519363c'}, {'artist': 'Anitta', 'title': \"Boys Don't Cry\", 'date': '15 Feb 2022, 21:36', 'album': \"Boys Don't Cry\", 'timestamp': '1644960989', 'id': '4099ebac7f0f9b91760341891811d527ea4c605f'}, {'artist': 'Kim Petras', 'title': 'Treat Me Like a Slut', 'date': '15 Feb 2022, 21:33', 'album': 'Slut Pop', 'timestamp': '1644960799', 'id': '9e41f80918c4172b2b70bbe2bbc3b1042af80290'}, {'artist': 'Killboy', 'title': 'LOVERBOY', 'date': '15 Feb 2022, 21:33', 'album': 'LOVERBOY', 'timestamp': '1644960799', 'id': 'c94a69d68a483bc8e1168d196a75e9f62519363c'}, {'artist': 'Kim Petras', 'title': 'Treat Me Like a Slut', 'date': '15 Feb 2022, 21:30', 'album': 'Slut Pop', 'timestamp': '1644960635', 'id': '9e41f80918c4172b2b70bbe2bbc3b1042af80290'}, {'artist': 'Killboy', 'title': 'LOVERBOY', 'date': '15 Feb 2022, 19:31', 'album': 'LOVERBOY', 'timestamp': '1644953495', 'id': 'c94a69d68a483bc8e1168d196a75e9f62519363c'}, {'artist': 'Kim Petras', 'title': 'XXX', 'date': '15 Feb 2022, 03:58', 'album': 'Slut Pop', 'timestamp': '1644897538', 'id': '4918d56108433a5a44194077398663d691a68741'}, {'artist': 'Killboy', 'title': 'LOVERBOY', 'date': '15 Feb 2022, 03:57', 'album': 'LOVERBOY', 'timestamp': '1644897421', 'id': 'c94a69d68a483bc8e1168d196a75e9f62519363c'}, {'artist': 'Killboy', 'title': 'LOVERBOY', 'date': '15 Feb 2022, 03:53', 'album': 'LOVERBOY', 'timestamp': '1644897190', 'id': 'c94a69d68a483bc8e1168d196a75e9f62519363c'}, {'artist': 'Kim Petras', 'title': 'Treat Me Like a Slut', 'date': '15 Feb 2022, 03:51', 'album': 'Slut Pop', 'timestamp': '1644897106', 'id': '9e41f80918c4172b2b70bbe2bbc3b1042af80290'}, {'artist': 'Kim Petras', 'title': 'XXX', 'date': '15 Feb 2022, 03:49', 'album': 'Slut Pop', 'timestamp': '1644896983', 'id': '4918d56108433a5a44194077398663d691a68741'}, {'artist': 'Kim Petras', 'title': 'Treat Me Like a Slut', 'date': '15 Feb 2022, 02:51', 'album': 'Slut Pop', 'timestamp': '1644893469', 'id': '9e41f80918c4172b2b70bbe2bbc3b1042af80290'}, {'artist': 'PinkPantheress', 'title': 'All my friends know', 'date': '15 Feb 2022, 02:49', 'album': 'to hell with it', 'timestamp': '1644893377', 'id': 'cb2be86da6a024bf7c2e6ae5c46288a94b4339eb'}, {'artist': 'PinkPantheress', 'title': 'Reason', 'date': '15 Feb 2022, 02:45', 'album': 'to hell with it', 'timestamp': '1644893117', 'id': 'a46e1dc044f7cd50c7baa9b0950fad9d0af4ae45'}, {'artist': 'Megan Thee Stallion', 'title': \"Megan's Piano\", 'date': '15 Feb 2022, 02:41', 'album': 'Something for Thee Hotties', 'timestamp': '1644892887', 'id': '73490d468f6ddec024919234ad24ff9e2325ae52'}, {'artist': 'SZA', 'title': 'I Hate U', 'date': '15 Feb 2022, 02:37', 'album': 'i hate u', 'timestamp': '1644892665', 'id': '419e2cac6154158c672bcc77cc3eb9a58f881e10'}]\n",
            "['c4zt96', {'artist': 'Queens of the Stone Age', 'title': 'I Appear Missing', 'date': '17 Feb 2022, 05:02', 'album': '...Like Clockwork', 'timestamp': '1645074178', 'id': '8581023ebcd2cef5c8bdfbc6ab008f0bbe7d62bc'}, {'artist': 'Queens of the Stone Age', 'title': 'Smooth Sailing', 'date': '17 Feb 2022, 04:58', 'album': '...Like Clockwork', 'timestamp': '1645073888', 'id': '9aa23307911ed56dd938fc10a370f7ca3c7b8ea4'}, {'artist': 'Queens of the Stone Age', 'title': 'Fairweather Friends', 'date': '17 Feb 2022, 04:54', 'album': '...Like Clockwork', 'timestamp': '1645073664', 'id': '16184acb9c2a4f99becdec220462c72bb5bbfaec'}, {'artist': 'Queens of the Stone Age', 'title': 'Kalopsia', 'date': '17 Feb 2022, 04:49', 'album': '...Like Clockwork', 'timestamp': '1645073386', 'id': '6db3aaf0029b1d8f3881da2f5d653ec5cfe2dc9f'}, {'artist': 'Queens of the Stone Age', 'title': 'My God Is the Sun', 'date': '17 Feb 2022, 04:45', 'album': '...Like Clockwork', 'timestamp': '1645073151', 'id': 'f08ee408861ca76ad120c23124aec16390d9a3bf'}, {'artist': 'Queens of the Stone Age', 'title': 'If I Had a Tail', 'date': '17 Feb 2022, 04:40', 'album': '...Like Clockwork', 'timestamp': '1645072855', 'id': '84c8b06f1c0abfa3abe29ceee3a806e2ca93653e'}, {'artist': 'Queens of the Stone Age', 'title': 'The Vampyre of Time and Memory', 'date': '17 Feb 2022, 04:37', 'album': '...Like Clockwork', 'timestamp': '1645072641', 'id': 'e2a9ade7b9452415b03a48c17a38a331b27f89ea'}, {'artist': 'Queens of the Stone Age', 'title': 'I Sat by the Ocean', 'date': '17 Feb 2022, 04:33', 'album': '...Like Clockwork', 'timestamp': '1645072405', 'id': 'cee0ef56b16d5b81c00eaa0343103141670d533f'}, {'artist': 'Queens of the Stone Age', 'title': 'Keep Your Eyes Peeled', 'date': '17 Feb 2022, 04:28', 'album': '...Like Clockwork', 'timestamp': '1645072101', 'id': '72cf46d6381b591718c604b1a9c5ef7b018421d4'}, {'artist': 'Queens of the Stone Age', 'title': '…Like Clockwork', 'date': '17 Feb 2022, 04:22', 'album': '...Like Clockwork', 'timestamp': '1645071775', 'id': '929faaf6e6b15ed22b4e38dd4627387d147280cf'}, {'artist': 'Queens of the Stone Age', 'title': 'I Appear Missing', 'date': '17 Feb 2022, 04:16', 'album': '...Like Clockwork', 'timestamp': '1645071417', 'id': '8581023ebcd2cef5c8bdfbc6ab008f0bbe7d62bc'}, {'artist': 'gorduratrans', 'title': 'Sozinho e babaca', 'date': '17 Feb 2022, 03:59', 'album': 'repertório infindável de dolorosas piadas', 'timestamp': '1645070375', 'id': '7236e0fc7a0349a41d0d761ae14da15f03286eb2'}, {'artist': 'gorduratrans', 'title': 'VCNVQND', 'date': '17 Feb 2022, 03:55', 'album': 'repertório infindável de dolorosas piadas', 'timestamp': '1645070130', 'id': '059e3c3140e3f4c5fac3c96db54344fc9a79d488'}, {'artist': 'Title Fight', 'title': 'Murder Your Memory', 'date': '17 Feb 2022, 03:52', 'album': 'Hyperview', 'timestamp': '1645069957', 'id': '34aba4c71622b6ad6b636bf6c5826169864ea082'}, {'artist': 'Title Fight', 'title': 'Crescent-Shaped Depression', 'date': '17 Feb 2022, 03:43', 'album': 'Shed', 'timestamp': '1645069410', 'id': 'bf8b3b1f5acca063a902e2245300ac064c7ae1f7'}, {'artist': 'Mac Miller', 'title': 'Jet Fuel', 'date': '17 Feb 2022, 03:23', 'album': 'Swimming', 'timestamp': '1645068226', 'id': '81a0855cabfb02ede9fa4e594944a57dc9cc73fa'}, {'artist': 'The Weeknd', 'title': 'Faith', 'date': '17 Feb 2022, 03:19', 'album': 'After Hours', 'timestamp': '1645067944', 'id': '3bcda3d7111c8513f5b18eba151e32ec635df8a4'}, {'artist': 'Red Hot Chili Peppers', 'title': 'Easily', 'date': '17 Feb 2022, 03:15', 'album': 'Californication', 'timestamp': '1645067725', 'id': 'd5b4b280e22c9c117b4c78b94bcdb73b72ee373c'}, {'artist': 'Tor Miller', 'title': 'Carter & Cash', 'date': '17 Feb 2022, 03:11', 'album': 'American English', 'timestamp': '1645067488', 'id': '9c7b730e9f1c1087921285c7281c9d2da46552dc'}, {'artist': 'Frank Ocean', 'title': 'Solo', 'date': '17 Feb 2022, 03:07', 'album': 'Blonde', 'timestamp': '1645067230', 'id': '0608a924541f9eaa30cf5345de0e51dd70b161b0'}, {'artist': 'Maverick Sabre', 'title': 'Slow down', 'date': '17 Feb 2022, 03:03', 'album': 'When I Wake Up', 'timestamp': '1645067019', 'id': '38c4ba51cb264cd2de54b756f3f4236889639493'}, {'artist': 'Lilly Wood & The Prick', 'title': 'Prayer in C - Robin Schulz Radio Edit', 'date': '17 Feb 2022, 03:00', 'album': 'Prayer In C', 'timestamp': '1645066830', 'id': 'ee1a0258f2eebe097e2ceebfb1eaf69845723f0b'}, {'artist': 'Meg Myers', 'title': 'Desire', 'date': '17 Feb 2022, 02:54', 'album': 'Sorry', 'timestamp': '1645066485', 'id': '6963d8a1611a54e32838e595273ae16f7f79f066'}, {'artist': 'David Bowie', 'title': 'Ashes to Ashes - 2017 Remaster', 'date': '17 Feb 2022, 02:49', 'album': 'Scary Monsters (And Super Creeps) [2017 Remaster]', 'timestamp': '1645066193', 'id': 'd88c2e1874d224634a136916f2bb3fe47d5e5e0f'}, {'artist': 'Jake Bugg', 'title': 'Trouble Town', 'date': '17 Feb 2022, 02:46', 'album': 'Jake Bugg', 'timestamp': '1645066000', 'id': 'b5b85449e8389999c2f900af7386144c4a9ee133'}, {'artist': 'Jake Bugg', 'title': 'Broken', 'date': '17 Feb 2022, 02:42', 'album': 'Jake Bugg', 'timestamp': '1645065754', 'id': '7fa70b2cdfc4e8d477352e6074964eca59a16e45'}, {'artist': 'Jake Bugg', 'title': 'Country Song', 'date': '17 Feb 2022, 02:40', 'album': 'Jake Bugg', 'timestamp': '1645065644', 'id': '1c1fa0e8f352b50d19fe40c0b307dddb9da3f410'}, {'artist': 'Jake Bugg', 'title': 'Simple as This', 'date': '17 Feb 2022, 02:37', 'album': 'Jake Bugg', 'timestamp': '1645065444', 'id': 'e11662eba8bb162f104934d9dc718911145ece6e'}, {'artist': 'Jake Bugg', 'title': 'Seen It All', 'date': '17 Feb 2022, 02:34', 'album': 'Jake Bugg', 'timestamp': '1645065274', 'id': '295e549fb3f000684ee1f6be300de07a1f651d3b'}, {'artist': 'Thrice', 'title': 'In Exile', 'date': '17 Feb 2022, 02:20', 'album': 'Beggars', 'timestamp': '1645064450', 'id': 'e48154e1ef1c015f00bc2dfbdd692fd31847f8c3'}, {'artist': 'Underoath', 'title': 'Loneliness', 'date': '17 Feb 2022, 02:16', 'album': 'Erase Me (Deluxe Edition)', 'timestamp': '1645064195', 'id': '78d4d4fcfdc55ead3fd82e1ffc74a1b9742112a6'}, {'artist': 'Thrice', 'title': 'In Exile', 'date': '17 Feb 2022, 02:12', 'album': 'Beggars', 'timestamp': '1645063962', 'id': 'e48154e1ef1c015f00bc2dfbdd692fd31847f8c3'}, {'artist': 'Fivio Foreign', 'title': 'City of Gods', 'date': '16 Feb 2022, 05:38', 'album': 'City of Gods', 'timestamp': '1644989926', 'id': 'c74fcdbf890b4b0c202712290099a31d141944d1'}, {'artist': 'Brokencyde', 'title': 'Schitzo', 'date': '16 Feb 2022, 05:31', 'album': \"I'm Not A Fan But The Kids Like It\", 'timestamp': '1644989466', 'id': '03019faa333a6dd818ef726f80805d9f788f0061'}, {'artist': 'Brokencyde', 'title': 'Booty Call', 'date': '16 Feb 2022, 05:29', 'album': \"I'm Not A Fan But The Kids Like It\", 'timestamp': '1644989356', 'id': '1f9d4ad0347f5defa6ec74de4e7aedcc2341670a'}, {'artist': 'Title Fight', 'title': 'Crescent-Shaped Depression', 'date': '16 Feb 2022, 05:10', 'album': 'Shed', 'timestamp': '1644988224', 'id': 'bf8b3b1f5acca063a902e2245300ac064c7ae1f7'}, {'artist': 'Title Fight', 'title': 'Crescent-Shaped Depression', 'date': '16 Feb 2022, 04:57', 'album': 'Shed', 'timestamp': '1644987437', 'id': 'bf8b3b1f5acca063a902e2245300ac064c7ae1f7'}, {'artist': 'Sia', 'title': 'Waving Goodbye', 'date': '16 Feb 2022, 04:50', 'album': 'The Neon Demon (Bande originale du film)', 'timestamp': '1644987036', 'id': '38d019d90ce56eccac4b635a516dfd2a4fea8d2b'}, {'artist': 'Green Day', 'title': 'She', 'date': '16 Feb 2022, 04:10', 'album': 'Dookie', 'timestamp': '1644984657', 'id': 'e695809f7a2a82a0f757783d64fcfdfdf7e54fbc'}, {'artist': 'Green Day', 'title': 'When I Come Around', 'date': '16 Feb 2022, 04:07', 'album': 'Dookie', 'timestamp': '1644984479', 'id': 'a209c132e33c7fb88bb164c4ea56b46ce8800785'}, {'artist': 'Elis Regina', 'title': 'Como Nossos Pais', 'date': '16 Feb 2022, 04:00', 'album': 'Falso Brilhante', 'timestamp': '1644984033', 'id': 'efba295897a4880602b6d20bebb5ff18b006899c'}, {'artist': 'Elis Regina', 'title': 'Como Nossos Pais', 'date': '16 Feb 2022, 03:44', 'album': 'Falso Brilhante', 'timestamp': '1644983066', 'id': 'efba295897a4880602b6d20bebb5ff18b006899c'}, {'artist': 'Red Hot Chili Peppers', 'title': 'The Getaway', 'date': '16 Feb 2022, 01:03', 'album': 'The Getaway', 'timestamp': '1644973396', 'id': 'be8b34d2239fbbc55646c1831f62f95dbe497496'}, {'artist': 'blink-182', 'title': \"What's My Age Again?\", 'date': '15 Feb 2022, 20:58', 'album': 'Enema of the State', 'timestamp': '1644958735', 'id': '9b965bc5fc01815c20eab60fce7b3590b139fa9e'}, {'artist': 'Mac Miller', 'title': 'Jet Fuel', 'date': '15 Feb 2022, 20:14', 'album': 'Swimming', 'timestamp': '1644956046', 'id': '81a0855cabfb02ede9fa4e594944a57dc9cc73fa'}, {'artist': 'Mac Miller', 'title': 'Jet Fuel', 'date': '15 Feb 2022, 20:08', 'album': 'Swimming', 'timestamp': '1644955702', 'id': '81a0855cabfb02ede9fa4e594944a57dc9cc73fa'}, {'artist': 'Mac Miller', 'title': 'Jet Fuel', 'date': '15 Feb 2022, 20:03', 'album': 'Swimming', 'timestamp': '1644955411', 'id': '81a0855cabfb02ede9fa4e594944a57dc9cc73fa'}, {'artist': 'Pusha T', 'title': 'Diet Coke', 'date': '15 Feb 2022, 19:54', 'album': 'Diet Coke', 'timestamp': '1644954848', 'id': 'ff33d424381ad6bd6323a61054115246be562566'}, {'artist': 'Pusha T', 'title': 'Diet Coke', 'date': '15 Feb 2022, 19:51', 'album': 'Diet Coke', 'timestamp': '1644954668', 'id': 'ff33d424381ad6bd6323a61054115246be562566'}, {'artist': 'Pusha T', 'title': 'Diet Coke', 'date': '15 Feb 2022, 19:48', 'album': 'Diet Coke', 'timestamp': '1644954489', 'id': 'ff33d424381ad6bd6323a61054115246be562566'}]\n",
            "['Springyaurora', {'artist': 'Queen', 'title': 'We Will Rock You - Remastered 2011', 'date': '17 Feb 2022, 15:43', 'album': 'News of the World (2011 Remaster)', 'timestamp': '1645112583', 'id': '6d76974a90a35bf904c910d080be5b4628d4093f'}, {'artist': 'Queen', 'title': 'We Will Rock You - Remastered 2011', 'date': '17 Feb 2022, 15:41', 'album': 'News of the World (2011 Remaster)', 'timestamp': '1645112461', 'id': '6d76974a90a35bf904c910d080be5b4628d4093f'}, {'artist': 'Queen', 'title': 'Love Of My Life - Remastered 2011', 'date': '17 Feb 2022, 15:37', 'album': 'A Night At The Opera (Deluxe Edition 2011 Remaster)', 'timestamp': '1645112243', 'id': '380cc9099208d58eccec5ae345a5db28f1b46df7'}, {'artist': 'Queen', 'title': 'Killer Queen - Remastered 2011', 'date': '17 Feb 2022, 15:34', 'album': 'Sheer Heart Attack (Deluxe Edition 2011 Remaster)', 'timestamp': '1645112064', 'id': '1db455fbcf2764e1876d7aedd3757bd8c743dd9b'}, {'artist': 'Queen', 'title': 'Good Old-Fashioned Lover Boy - Remastered 2011', 'date': '17 Feb 2022, 15:31', 'album': 'A Day At The Races (Deluxe Edition 2011 Remaster)', 'timestamp': '1645111890', 'id': '728cb7aafc99ec4d7a3c29d28f129bf9916c3656'}, {'artist': 'Queen', 'title': 'Somebody to Love', 'date': '17 Feb 2022, 15:26', 'album': 'Bohemian Rhapsody (The Original Soundtrack)', 'timestamp': '1645111568', 'id': 'd45d6f1008f1de1c0265df38c50056a47ba5ec46'}, {'artist': 'Queen', 'title': 'Keep Yourself Alive - Live At The Rainbow', 'date': '17 Feb 2022, 15:22', 'album': 'Bohemian Rhapsody (The Original Soundtrack)', 'timestamp': '1645111332', 'id': 'c9db05bd151c62a9e754aa0d8caad2b8617c5dea'}, {'artist': 'Queen', 'title': 'Killer Queen', 'date': '17 Feb 2022, 15:19', 'album': 'Bohemian Rhapsody (The Original Soundtrack)', 'timestamp': '1645111152', 'id': 'c59d906ef59d86238bfd0c917ade325a2cfe2801'}, {'artist': 'Queen', 'title': 'Ay-Oh - Live Aid', 'date': '17 Feb 2022, 15:18', 'album': 'Bohemian Rhapsody (The Original Soundtrack)', 'timestamp': '1645111111', 'id': 'f24b0a0ce9fe5e7c7854c64addd043b2048612ab'}, {'artist': 'Queen', 'title': 'Ay-Oh - Live Aid', 'date': '17 Feb 2022, 15:17', 'album': 'Bohemian Rhapsody (The Original Soundtrack)', 'timestamp': '1645111069', 'id': 'f24b0a0ce9fe5e7c7854c64addd043b2048612ab'}, {'artist': 'Queen', 'title': 'Ay-Oh - Live Aid', 'date': '17 Feb 2022, 15:17', 'album': 'Bohemian Rhapsody (The Original Soundtrack)', 'timestamp': '1645111028', 'id': 'f24b0a0ce9fe5e7c7854c64addd043b2048612ab'}, {'artist': 'Queen', 'title': 'Ay-Oh - Live Aid', 'date': '17 Feb 2022, 15:16', 'album': 'Bohemian Rhapsody (The Original Soundtrack)', 'timestamp': '1645110986', 'id': 'f24b0a0ce9fe5e7c7854c64addd043b2048612ab'}, {'artist': 'Queen', 'title': 'Big Spender - Live At The Hammersmith Odeon, London / 1975', 'date': '17 Feb 2022, 15:15', 'album': 'A Night At The Odeon', 'timestamp': '1645110903', 'id': '62826aaf58967a172be07a90974522b7a34e8245'}, {'artist': 'Adam Lambert', 'title': 'Give The People What They Want', 'date': '17 Feb 2022, 15:12', 'album': 'Playmobil: The Movie (Original Motion Picture Soundtrack)', 'timestamp': '1645110757', 'id': '4e77ed7ac8d2f7f5bc01139891825e71314cc3d4'}, {'artist': 'Adam Lambert', 'title': 'Give The People What They Want', 'date': '17 Feb 2022, 15:10', 'album': 'Playmobil: The Movie (Original Motion Picture Soundtrack)', 'timestamp': '1645110611', 'id': '4e77ed7ac8d2f7f5bc01139891825e71314cc3d4'}, {'artist': 'Adam Lambert', 'title': 'Give The People What They Want', 'date': '17 Feb 2022, 15:07', 'album': 'Playmobil: The Movie (Original Motion Picture Soundtrack)', 'timestamp': '1645110466', 'id': '4e77ed7ac8d2f7f5bc01139891825e71314cc3d4'}, {'artist': 'Adam Lambert', 'title': 'Give The People What They Want', 'date': '17 Feb 2022, 15:05', 'album': 'Playmobil: The Movie (Original Motion Picture Soundtrack)', 'timestamp': '1645110321', 'id': '4e77ed7ac8d2f7f5bc01139891825e71314cc3d4'}, {'artist': 'Adam Lambert', 'title': 'Give The People What They Want', 'date': '17 Feb 2022, 15:02', 'album': 'Playmobil: The Movie (Original Motion Picture Soundtrack)', 'timestamp': '1645110175', 'id': '4e77ed7ac8d2f7f5bc01139891825e71314cc3d4'}, {'artist': 'Adam Lambert', 'title': 'Give The People What They Want', 'date': '17 Feb 2022, 15:00', 'album': 'Playmobil: The Movie (Original Motion Picture Soundtrack)', 'timestamp': '1645110030', 'id': '4e77ed7ac8d2f7f5bc01139891825e71314cc3d4'}, {'artist': 'Adam Lambert', 'title': 'Give The People What They Want', 'date': '17 Feb 2022, 14:58', 'album': 'Playmobil: The Movie (Original Motion Picture Soundtrack)', 'timestamp': '1645109885', 'id': '4e77ed7ac8d2f7f5bc01139891825e71314cc3d4'}, {'artist': 'TIX', 'title': 'Delux', 'date': '17 Feb 2022, 14:55', 'album': 'Delux', 'timestamp': '1645109724', 'id': 'c8f4af0b1123007e63520dae022de4e064f2ca39'}, {'artist': 'TIX', 'title': 'Delux', 'date': '17 Feb 2022, 14:52', 'album': 'Delux', 'timestamp': '1645109564', 'id': 'c8f4af0b1123007e63520dae022de4e064f2ca39'}, {'artist': 'TIX', 'title': 'Delux', 'date': '17 Feb 2022, 14:50', 'album': 'Delux', 'timestamp': '1645109404', 'id': 'c8f4af0b1123007e63520dae022de4e064f2ca39'}, {'artist': 'TIX', 'title': 'Delux', 'date': '17 Feb 2022, 14:47', 'album': 'Delux', 'timestamp': '1645109244', 'id': 'c8f4af0b1123007e63520dae022de4e064f2ca39'}, {'artist': 'TIX', 'title': 'Delux', 'date': '17 Feb 2022, 14:44', 'album': 'Delux', 'timestamp': '1645109084', 'id': 'c8f4af0b1123007e63520dae022de4e064f2ca39'}, {'artist': 'I DONT KNOW HOW BUT THEY FOUND ME', 'title': 'Leave Me Alone', 'date': '17 Feb 2022, 14:41', 'album': 'RAZZMATAZZ', 'timestamp': '1645108868', 'id': '2218426846423cb5df780fe675620d7bd5434f2f'}, {'artist': 'YUNGBLUD', 'title': '21st Century Liability', 'date': '17 Feb 2022, 14:37', 'album': '21st Century Liability', 'timestamp': '1645108679', 'id': '2bd71f024f73ba354d58670b5717e6193b034b29'}, {'artist': 'Foster the People', 'title': 'Houdini', 'date': '17 Feb 2022, 14:34', 'album': 'Torches', 'timestamp': '1645108475', 'id': '1d2b0f5d9d2bfed54de81072382a20ad13afe011'}, {'artist': 'I DONT KNOW HOW BUT THEY FOUND ME', 'title': 'Sugar Pills', 'date': '17 Feb 2022, 14:31', 'album': 'RAZZMATAZZ', 'timestamp': '1645108288', 'id': '3b04f5271221872c10965a9c29aecbade332dfe9'}, {'artist': 'Adam Lambert', 'title': 'Give The People What They Want', 'date': '17 Feb 2022, 14:29', 'album': 'Playmobil: The Movie (Original Motion Picture Soundtrack)', 'timestamp': '1645108143', 'id': '4e77ed7ac8d2f7f5bc01139891825e71314cc3d4'}, {'artist': 'Moshi Monsters', 'title': 'Sweet Tooth Stomp', 'date': '17 Feb 2022, 14:25', 'album': 'Moshi Monsters: The Movie (Original Motion Picture Soundtrack)', 'timestamp': '1645107909', 'id': '5c55d22272d54b74f16a5a9293c8505f8a4169b2'}, {'artist': 'TIX', 'title': 'Delux', 'date': '17 Feb 2022, 14:22', 'album': 'Delux', 'timestamp': '1645107749', 'id': 'c8f4af0b1123007e63520dae022de4e064f2ca39'}, {'artist': 'TIX', 'title': 'Delux', 'date': '17 Feb 2022, 14:19', 'album': 'Delux', 'timestamp': '1645107589', 'id': 'c8f4af0b1123007e63520dae022de4e064f2ca39'}, {'artist': 'Moshi Monsters', 'title': 'Sweet Tooth Stomp', 'date': '17 Feb 2022, 14:15', 'album': 'Moshi Monsters: The Movie (Original Motion Picture Soundtrack)', 'timestamp': '1645107355', 'id': '5c55d22272d54b74f16a5a9293c8505f8a4169b2'}, {'artist': 'Moshi Monsters', 'title': 'Sweet Tooth Stomp', 'date': '17 Feb 2022, 14:12', 'album': 'Moshi Monsters: The Movie (Original Motion Picture Soundtrack)', 'timestamp': '1645107121', 'id': '5c55d22272d54b74f16a5a9293c8505f8a4169b2'}, {'artist': 'YUNGBLUD', 'title': 'the freak show', 'date': '17 Feb 2022, 14:07', 'album': 'weird!', 'timestamp': '1645106853', 'id': '81aad2ec51276bfa49c40c8c1be96559b736b216'}, {'artist': 'Candace', 'title': 'Busted', 'date': '17 Feb 2022, 14:05', 'album': 'Phineas and Ferb', 'timestamp': '1645106756', 'id': 'e349a1c132af69f76dc1cb3236469276c73037b5'}, {'artist': 'Candace', 'title': 'Busted', 'date': '17 Feb 2022, 14:04', 'album': 'Phineas and Ferb', 'timestamp': '1645106655', 'id': 'e349a1c132af69f76dc1cb3236469276c73037b5'}, {'artist': 'Moshi Monsters', 'title': 'Sweet Tooth Stomp', 'date': '17 Feb 2022, 14:00', 'album': 'Moshi Monsters: The Movie (Original Motion Picture Soundtrack)', 'timestamp': '1645106422', 'id': '5c55d22272d54b74f16a5a9293c8505f8a4169b2'}, {'artist': 'Moshi Monsters', 'title': 'Sweet Tooth Stomp', 'date': '17 Feb 2022, 13:56', 'album': 'Moshi Monsters: The Movie (Original Motion Picture Soundtrack)', 'timestamp': '1645106188', 'id': '5c55d22272d54b74f16a5a9293c8505f8a4169b2'}, {'artist': 'Moshi Monsters', 'title': 'Sweet Tooth Stomp', 'date': '17 Feb 2022, 13:52', 'album': 'Moshi Monsters: The Movie (Original Motion Picture Soundtrack)', 'timestamp': '1645105956', 'id': '5c55d22272d54b74f16a5a9293c8505f8a4169b2'}, {'artist': 'Moshi Monsters', 'title': 'Sweet Tooth Stomp', 'date': '17 Feb 2022, 13:48', 'album': 'Moshi Monsters: The Movie (Original Motion Picture Soundtrack)', 'timestamp': '1645105721', 'id': '5c55d22272d54b74f16a5a9293c8505f8a4169b2'}, {'artist': 'YUNGBLUD', 'title': 'the freak show', 'date': '17 Feb 2022, 13:44', 'album': 'weird!', 'timestamp': '1645105453', 'id': '81aad2ec51276bfa49c40c8c1be96559b736b216'}, {'artist': 'TIX', 'title': 'Delux', 'date': '17 Feb 2022, 13:41', 'album': 'Delux', 'timestamp': '1645105293', 'id': 'c8f4af0b1123007e63520dae022de4e064f2ca39'}, {'artist': 'Adam Lambert', 'title': 'Give The People What They Want', 'date': '17 Feb 2022, 13:39', 'album': 'Playmobil: The Movie (Original Motion Picture Soundtrack)', 'timestamp': '1645105147', 'id': '4e77ed7ac8d2f7f5bc01139891825e71314cc3d4'}, {'artist': 'Royal & the Serpent', 'title': 'Overwhelmed', 'date': '17 Feb 2022, 13:36', 'album': 'Overwhelmed', 'timestamp': '1645104989', 'id': '9c260b1556e04ebefcfbfbb3da7f3099e940b8c9'}, {'artist': 'Set It Off', 'title': 'Killer In The Mirror', 'date': '17 Feb 2022, 13:32', 'album': 'Midnight', 'timestamp': '1645104772', 'id': '9c6e7715724f81ee7ac0ae82c67e5da84ab49d5e'}, {'artist': 'YUNGBLUD', 'title': 'strawberry lipstick', 'date': '17 Feb 2022, 13:30', 'album': 'weird!', 'timestamp': '1645104608', 'id': 'c9513ef36eb41a0e382f384b0cfffd09cf05861b'}, {'artist': 'Set It Off', 'title': 'Distance Disturbs Me', 'date': '17 Feb 2022, 13:26', 'album': 'Cinematics (Deluxe)', 'timestamp': '1645104418', 'id': '158d5427effeaa6a14a18e33e25ae4c39c7b03a2'}, {'artist': 'You And What Army', 'title': 'Lucidity', 'date': '17 Feb 2022, 13:23', 'album': 'You and What Army', 'timestamp': '1645104231', 'id': '90d29e6af7447a4ef48ef77e0910ef7cedee44bf'}]\n",
            "['diabIa', {'artist': 'Feid', 'title': 'TE MATA', 'date': '17 Feb 2022, 05:41', 'album': 'INTER SHIBUYA - LA MAFIA', 'timestamp': '1645076484', 'id': 'fa571cfc13a1279971fc4d25be15b21a8fec07c3'}, {'artist': 'IZA', 'title': 'Pesadão', 'date': '17 Feb 2022, 05:39', 'album': 'Dona de Mim', 'timestamp': '1645076378', 'id': '1c7a08c069eb3d949fc6abe03989deb11e5a492d'}, {'artist': 'Sofía Reyes', 'title': 'IDIOTA', 'date': '17 Feb 2022, 05:35', 'album': 'Mal de Amores', 'timestamp': '1645076122', 'id': 'd06e653d871a30180f97bafe41d397e6ab874de8'}, {'artist': 'Natti Natasha', 'title': 'Me Gusta', 'date': '17 Feb 2022, 05:32', 'album': 'ilumiNATTI', 'timestamp': '1645075976', 'id': '540d20b5c8d54f7c87b33ce16d74ee3f37462187'}, {'artist': 'Natti Natasha', 'title': 'Obsesion', 'date': '17 Feb 2022, 05:30', 'album': 'ilumiNATTI', 'timestamp': '1645075809', 'id': '0fb36c3f94e49fe6609d9298f921bc03d2620b72'}, {'artist': 'Anitta', 'title': 'No Chão Novinha', 'date': '17 Feb 2022, 05:24', 'album': 'No Chão Novinha', 'timestamp': '1645075491', 'id': 'c9b62d9d373356f0861557c8a85dfe42e8ee7eb3'}, {'artist': 'Anitta', 'title': 'No Chão Novinha', 'date': '17 Feb 2022, 05:21', 'album': 'No Chão Novinha', 'timestamp': '1645075292', 'id': 'c9b62d9d373356f0861557c8a85dfe42e8ee7eb3'}, {'artist': 'Karol G', 'title': 'BICHOTA', 'date': '17 Feb 2022, 05:11', 'album': 'KG0516', 'timestamp': '1645074711', 'id': 'af9187f33ce2a1e860ac6efa27e1ca222bcf6bc7'}, {'artist': 'Isabela Merced', 'title': \"Don't Go\", 'date': '17 Feb 2022, 05:06', 'album': \"Don't Go\", 'timestamp': '1645074412', 'id': 'cb07d631c17bf6b39140972a6bb68f1ab52ed52b'}, {'artist': 'Natti Natasha', 'title': 'Imposible Amor', 'date': '17 Feb 2022, 04:58', 'album': 'Nattividad', 'timestamp': '1645073917', 'id': 'd536eac88ebb09f99ab6b5f2774f7d3e1ac2748b'}, {'artist': 'Rauw Alejandro', 'title': 'Brazilera', 'date': '17 Feb 2022, 04:55', 'album': 'VICE VERSA', 'timestamp': '1645073733', 'id': '2788152f9fd991cd3ef915886f2a9d66fb6184ec'}, {'artist': 'Dennis', 'title': 'Te Prometo', 'date': '17 Feb 2022, 04:46', 'album': 'Te Prometo', 'timestamp': '1645073177', 'id': '196ea914b20743142f4a08ef508071790c8cdce8'}, {'artist': 'Karol G', 'title': 'Ahora Me Llama', 'date': '17 Feb 2022, 04:43', 'album': 'Unstoppable', 'timestamp': '1645072994', 'id': 'f41bea295c76503067b357f6116105c6db821062'}, {'artist': 'Isabela Merced', 'title': \"Don't Go\", 'date': '17 Feb 2022, 04:37', 'album': \"Don't Go\", 'timestamp': '1645072662', 'id': 'cb07d631c17bf6b39140972a6bb68f1ab52ed52b'}, {'artist': 'Tini', 'title': 'Fantasi', 'date': '17 Feb 2022, 01:47', 'album': 'Fantasi', 'timestamp': '1645062443', 'id': 'eb9d5c37f713b4eeb4e8a854f4912b296b1042a5'}, {'artist': 'Isabela Merced', 'title': 'PAPI', 'date': '17 Feb 2022, 00:47', 'album': 'PAPI', 'timestamp': '1645058863', 'id': 'a8e366513a71d950f3d55455565f0d8491a5fd4c'}, {'artist': 'Beyoncé', 'title': '7/11', 'date': '17 Feb 2022, 00:45', 'album': 'BEYONCÉ [Platinum Edition]', 'timestamp': '1645058741', 'id': '53c3bdaba27ccff2695de314d321be055350a52b'}, {'artist': 'Ciara', 'title': 'Level Up', 'date': '17 Feb 2022, 00:42', 'album': 'Beauty Marks', 'timestamp': '1645058536', 'id': '6d2d81087d941c2ced9b2a9ae7cda32749524c54'}, {'artist': 'Fetty Wap', 'title': 'Trap Queen', 'date': '17 Feb 2022, 00:35', 'album': 'Fetty Wap (Deluxe)', 'timestamp': '1645058129', 'id': '99ad2aece57e4e24982c508f423b9323806509f9'}, {'artist': 'Fetty Wap', 'title': '679 (Feat. Monty)', 'date': '17 Feb 2022, 00:32', 'album': 'Fetty Wap (Deluxe)', 'timestamp': '1645057961', 'id': '8427733480d469597c8ede174ddc77156a9c0dd4'}, {'artist': 'Rae Sremmurd', 'title': 'Come Get Her', 'date': '17 Feb 2022, 00:29', 'album': 'SremmLife', 'timestamp': '1645057796', 'id': 'e1930a606668870ab03a23514230ad11ce299f9d'}, {'artist': 'Nicki Minaj', 'title': 'Moment 4 Life', 'date': '17 Feb 2022, 00:26', 'album': 'Pink Friday (Complete Edition)', 'timestamp': '1645057589', 'id': '23613b68bf17ad99d97046b103fd1acd7d4fee8c'}, {'artist': 'Nicki Minaj', 'title': 'Super Bass', 'date': '17 Feb 2022, 00:23', 'album': 'Pink Friday (Complete Edition)', 'timestamp': '1645057388', 'id': 'b4ae27e64fca6139cdd9c07e077130ad2de57717'}, {'artist': 'David Guetta', 'title': 'Turn Me On (feat. Nicki Minaj)', 'date': '17 Feb 2022, 00:19', 'album': 'Nothing but the Beat 2.0', 'timestamp': '1645057187', 'id': 'ff468eaaa9b28018ae7c6688e2b3a9de2e7babd8'}, {'artist': 'Rihanna', 'title': \"Don't Stop the Music\", 'date': '17 Feb 2022, 00:15', 'album': 'Good Girl Gone Bad', 'timestamp': '1645056931', 'id': '892769e1aabc39c52428b2d96e0ed7c725c1e1e9'}, {'artist': 'Rihanna', 'title': 'Work', 'date': '17 Feb 2022, 00:11', 'album': 'ANTI (Deluxe)', 'timestamp': '1645056711', 'id': '8b01fc54dc48063db5e4d3673c90c3d0e83e6194'}, {'artist': 'Rihanna', 'title': 'Man Down', 'date': '17 Feb 2022, 00:08', 'album': 'Loud', 'timestamp': '1645056486', 'id': '75b27f6eed19d673b3e8a581dd61bcd42fc594aa'}, {'artist': 'Rihanna', 'title': \"What's My Name?\", 'date': '17 Feb 2022, 00:03', 'album': 'Loud', 'timestamp': '1645056222', 'id': '32828568bbbd6df962baedcfca4fe6477d9e31d8'}, {'artist': 'Beyoncé', 'title': 'Crazy in Love (feat. JAY-Z)', 'date': '17 Feb 2022, 00:00', 'album': 'Dangerously in Love', 'timestamp': '1645056036', 'id': 'bb3d7b1059889d9b1121551da9301ccdc6c37dda'}, {'artist': 'Kelly Rowland', 'title': 'Work (Freemasons Radio Edit)', 'date': '16 Feb 2022, 23:57', 'album': 'Playlist: The Very Best Of Kelly Rowland', 'timestamp': '1645055845', 'id': '85db1886955abc7b41a5bc5323238f4883eceb95'}, {'artist': 'Britney Spears', 'title': 'Gimme More', 'date': '16 Feb 2022, 23:53', 'album': 'Blackout', 'timestamp': '1645055601', 'id': '982bc524e86fb6b11dbc4668148b70b94738a9d1'}, {'artist': 'Bruno Mars', 'title': \"That's What I Like\", 'date': '16 Feb 2022, 23:49', 'album': '24K Magic', 'timestamp': '1645055393', 'id': '24ec2ca2bde6e9001fa88c6df4ec03fe63cc467b'}, {'artist': 'Megan Thee Stallion', 'title': 'Big Ole Freak', 'date': '16 Feb 2022, 23:47', 'album': 'Tina Snow', 'timestamp': '1645055220', 'id': 'aef86df25a47ba135c80bdb97b9658e83dcc61e2'}, {'artist': 'Beyoncé', 'title': 'Sweet Dreams', 'date': '16 Feb 2022, 23:43', 'album': 'I Am...Sasha Fierce', 'timestamp': '1645055018', 'id': '235533933d3950ffcdbdb841677283198b9d4061'}, {'artist': 'Rihanna', 'title': 'Pon de Replay', 'date': '16 Feb 2022, 23:39', 'album': 'Music of the Sun', 'timestamp': '1645054796', 'id': 'c5e0179efcb4ac430fe7ca6f1cea1ff984c792a7'}, {'artist': 'Nelly', 'title': 'Dilemma', 'date': '16 Feb 2022, 23:35', 'album': 'Simply Deep', 'timestamp': '1645054506', 'id': 'fa6630d16f3ae73ab487604dcd69f3ef3471d506'}, {'artist': 'Fantasia', 'title': 'When I See U', 'date': '16 Feb 2022, 23:31', 'album': 'Fantasia', 'timestamp': '1645054288', 'id': '9839eeecea4e9ba6569002358961d25a01ba64fc'}, {'artist': 'Mary J. Blige', 'title': 'Be Without You - Kendu Mix', 'date': '16 Feb 2022, 23:27', 'album': 'The Breakthrough', 'timestamp': '1645054070', 'id': 'b3e7ca50a848439fb83c90d401917dc19b0fa0f5'}, {'artist': 'Mary J. Blige', 'title': 'Family Affair', 'date': '16 Feb 2022, 23:23', 'album': 'No More Drama', 'timestamp': '1645053830', 'id': '0a5719878f8d31f41d7ac52c7bbce91433a063fd'}, {'artist': 'Brandy', 'title': 'Afrodisiac', 'date': '16 Feb 2022, 23:20', 'album': 'Afrodisiac', 'timestamp': '1645053601', 'id': '70c1e214f8096363908273bbcd43fac501a4a6b2'}, {'artist': 'Beyoncé', 'title': 'Baby Boy (feat. Sean Paul)', 'date': '16 Feb 2022, 23:17', 'album': 'Dangerously in Love', 'timestamp': '1645053451', 'id': '4aa62222fb4d5f14f328a807eb1c3381bd94a459'}, {'artist': 'Beyoncé', 'title': 'Naughty Girl', 'date': '16 Feb 2022, 23:14', 'album': 'Dangerously in Love', 'timestamp': '1645053260', 'id': 'f0b85951ceb94740e9d02e9df8a4f0885b210162'}, {'artist': 'Karol G', 'title': 'SEJODIOTO', 'date': '16 Feb 2022, 23:11', 'album': 'SEJODIOTO', 'timestamp': '1645053100', 'id': '0fc263fa5e36f83c4ced6b751c805b10011da8e1'}, {'artist': 'Maluma', 'title': 'Cositas de la USA', 'date': '16 Feb 2022, 23:08', 'album': 'Cositas de la USA', 'timestamp': '1645052910', 'id': '5ba665ff739063abdb07875b9a2026021faef71b'}, {'artist': 'Tini', 'title': 'Bar', 'date': '16 Feb 2022, 23:05', 'album': 'BAR', 'timestamp': '1645052749', 'id': '8eee720fbe3015c06699ee851a502dc3eb9a0f1e'}, {'artist': 'FMK', 'title': 'Tranquila', 'date': '16 Feb 2022, 23:03', 'album': 'Tranquila', 'timestamp': '1645052599', 'id': 'f2e9fdf73670b43c0082a589ed791b97cb12f248'}, {'artist': 'Sofía Reyes', 'title': 'Marte', 'date': '16 Feb 2022, 23:00', 'album': 'Mal de Amores', 'timestamp': '1645052453', 'id': '44dc78f90d056bd6b953a1d1141d13d2f03ccfd3'}, {'artist': 'Danny Ocean', 'title': 'Me Rehúso', 'date': '16 Feb 2022, 22:57', 'album': '54+1', 'timestamp': '1645052253', 'id': '02ea699815e47f005f5fdccf507d68ac123f85bd'}, {'artist': 'Sebastian Yatra', 'title': 'Melancólicos Anónimos', 'date': '16 Feb 2022, 22:54', 'album': 'Dharma', 'timestamp': '1645052069', 'id': '9bc7c0f6115e2cad4cac936efb25d3b8dc322a0f'}, {'artist': 'Don Omar', 'title': 'Dutty Love', 'date': '16 Feb 2022, 22:51', 'album': 'Don Omar Presents MTO2: New Generation', 'timestamp': '1645051890', 'id': '8e218d957fd1c3a5243a9d8cffb0660a1df6f409'}]\n"
          ]
        }
      ]
    },
    {
      "cell_type": "code",
      "source": [
        "tracks = storage.read('tracks',dir=True)\n",
        "tracks_rdd = sc.parallelize(tracks)\n",
        "tracks_rdd.take(1)"
      ],
      "metadata": {
        "colab": {
          "base_uri": "https://localhost:8080/"
        },
        "id": "KBvst47ZBT4Q",
        "outputId": "3d3405a8-5b0b-486d-9f1f-2071e2508653"
      },
      "execution_count": 11,
      "outputs": [
        {
          "output_type": "execute_result",
          "data": {
            "text/plain": [
              "[{'album': 'Me Rehúso',\n",
              "  'artist': 'Danny Ocean',\n",
              "  'duration': 206000,\n",
              "  'id': '02ea699815e47f005f5fdccf507d68ac123f85bd',\n",
              "  'tags': ['pop', 'latin', 'summer', 'party', 'latin pop'],\n",
              "  'title': 'Me Rehúso',\n",
              "  'url': 'https://www.last.fm/music/danny%2bocean/_/me%2breh%25c3%25baso'}]"
            ]
          },
          "metadata": {},
          "execution_count": 11
        }
      ]
    },
    {
      "cell_type": "code",
      "source": [
        "tracks_rdd.count()"
      ],
      "metadata": {
        "colab": {
          "base_uri": "https://localhost:8080/"
        },
        "id": "MNTAa0FVa9Dh",
        "outputId": "cb9659eb-2051-4320-e777-de633db71a74"
      },
      "execution_count": 12,
      "outputs": [
        {
          "output_type": "execute_result",
          "data": {
            "text/plain": [
              "174"
            ]
          },
          "metadata": {},
          "execution_count": 12
        }
      ]
    },
    {
      "cell_type": "code",
      "source": [
        "artists = storage.read('artists',dir=True)\n",
        "artists_rdd = sc.parallelize(artists)\n",
        "artists_rdd.take(1)"
      ],
      "metadata": {
        "colab": {
          "base_uri": "https://localhost:8080/"
        },
        "id": "rsDuz3t5IhGU",
        "outputId": "e0fb4be1-005f-4a51-b3c9-2564b3b56897"
      },
      "execution_count": 13,
      "outputs": [
        {
          "output_type": "execute_result",
          "data": {
            "text/plain": [
              "[{'artist': 'Kim Petras',\n",
              "  'bio': 'Kim Petras (born August 27, 1992) is a German singer and songwriter. Between 2016 and 2020, she released music as an independent artist under her own imprint, BunHead Records, before signing with Republic Records.\\n\\nPetras began recording music as a teenager, releasing her debut EP One Piece of Tape in 2011. She independently released her debut single in 2017, \"I Don\\'t Want It at All\", which went on to top several viral music charts on Spotify. The song was followed by Billboard-charting singles \"Feeling of Falling\" (with Cheat Codes) <a href=\"https://www.last.fm/music/Kim+Petras\">Read more on Last.fm</a>',\n",
              "  'id': '015b6e8359bdf7f09ef4c3aac6e97e7d43553aea',\n",
              "  'top_tracks': [{'album': 'ERA 1',\n",
              "    'artist': 'Kim Petras',\n",
              "    'duration': 227000,\n",
              "    'id': '47df2ab45a07ee23217fb25b69bdf7a282cabac3',\n",
              "    'tags': ['pop', 'synthpop', 'seen live', 'electropop', 'dance-pop'],\n",
              "    'title': 'Heart to Break',\n",
              "    'url': 'https://www.last.fm/music/kim%2bpetras/_/heart%2bto%2bbreak'},\n",
              "   {'album': 'Clarity',\n",
              "    'artist': 'Kim Petras',\n",
              "    'duration': 189000,\n",
              "    'id': '85c5836506aac37722d4d1d5a38bd696270168f1',\n",
              "    'tags': ['electropop',\n",
              "     'seen live',\n",
              "     'pop',\n",
              "     'love at first listen',\n",
              "     'contemporary rnb'],\n",
              "    'title': 'Icy',\n",
              "    'url': 'https://www.last.fm/music/kim%2bpetras/_/icy'},\n",
              "   {'album': \"I Don't Want It at All\",\n",
              "    'artist': 'Kim Petras',\n",
              "    'duration': 250000,\n",
              "    'id': '98e8574799e941435f6b0ff6ffc0bd6c1c4db395',\n",
              "    'tags': ['pop', 'synthpop', 'bubblegum pop', 'seen live', 'german'],\n",
              "    'title': \"I Don't Want It at All\",\n",
              "    'url': 'https://www.last.fm/music/kim%2bpetras/_/i%2bdon%2527t%2bwant%2bit%2bat%2ball'}],\n",
              "  'url': 'https://www.last.fm/music/kim%2bpetras'}]"
            ]
          },
          "metadata": {},
          "execution_count": 13
        }
      ]
    },
    {
      "cell_type": "markdown",
      "source": [
        "# User features\n",
        "\n",
        "1. Extract listening sessions from users:\n",
        "  * list of concatenated songs with a play events +-10 sec after the actual song completed\n",
        "2. Know statistics about these sessions:\n",
        "  * average number of tracks\n",
        "  * average session per user\n",
        "  * session lengths"
      ],
      "metadata": {
        "id": "0ExEFLWwwGVI"
      }
    },
    {
      "cell_type": "markdown",
      "source": [
        "## Extract listening sessions"
      ],
      "metadata": {
        "id": "9h7rjUio1ijA"
      }
    },
    {
      "cell_type": "code",
      "source": [
        "def to_datetime(x):\n",
        "  timestamp_date = lambda ts: datetime.datetime.fromtimestamp(int(ts))\n",
        "  date_date = lambda ts: datetime.datetime.strptime(ts, '%d %b %Y, %H:%M')\n",
        "  x[1]['date'] = date_date(x[1]['date'])\n",
        "  x[1]['timestamp'] = timestamp_date(x[1]['timestamp'])\n",
        "  return x\n",
        "\n",
        "sessions = recent_tracks_rdd.flatMap(lambda x: [(x[0],y) for y in x[1:]]) \\\n",
        "                            .map(lambda x: to_datetime(x))\n",
        "sessions.take(1)  "
      ],
      "metadata": {
        "colab": {
          "base_uri": "https://localhost:8080/"
        },
        "id": "vkOEwB_2xm7T",
        "outputId": "96e08c5f-77be-4fb7-e9cc-f9109ffb1920"
      },
      "execution_count": 276,
      "outputs": [
        {
          "output_type": "execute_result",
          "data": {
            "text/plain": [
              "[('amarxl',\n",
              "  {'album': 'Slut Pop',\n",
              "   'artist': 'Kim Petras',\n",
              "   'date': datetime.datetime(2022, 2, 17, 14, 51),\n",
              "   'id': '4918d56108433a5a44194077398663d691a68741',\n",
              "   'timestamp': datetime.datetime(2022, 2, 17, 14, 51, 43),\n",
              "   'title': 'XXX'})]"
            ]
          },
          "metadata": {},
          "execution_count": 276
        }
      ]
    },
    {
      "cell_type": "code",
      "source": [
        "def timestamp_to_delta(ts1, ts2):\n",
        "  return int((ts2 - ts1).total_seconds() * 1000)\n",
        "\n",
        "\n",
        "sessions = sessions.join(sessions) \\\n",
        "                   .filter(lambda x: x[1][0]['date'] < x[1][1]['date']) \\\n",
        "                   .map(lambda x: ((x[0], x[1][0]['title'], x[1][0]['artist'], x[1][0]['date']), timestamp_to_delta(x[1][0]['timestamp'], x[1][1]['timestamp']))) \\\n",
        "                   .reduceByKey(lambda x,y: min(x,y))\n",
        "\n",
        "sessions.take(1)  "
      ],
      "metadata": {
        "colab": {
          "base_uri": "https://localhost:8080/"
        },
        "id": "64juIG58LCdC",
        "outputId": "7dcf4c73-c81e-4b54-b7a5-7d8ded593796"
      },
      "execution_count": 277,
      "outputs": [
        {
          "output_type": "execute_result",
          "data": {
            "text/plain": [
              "[(('bellagecs',\n",
              "   'Fat Funny Friend',\n",
              "   'Maddie Zahm',\n",
              "   datetime.datetime(2022, 2, 17, 4, 21)),\n",
              "  215000)]"
            ]
          },
          "metadata": {},
          "execution_count": 277
        }
      ]
    },
    {
      "cell_type": "code",
      "source": [
        "sessions = sessions.map(lambda x: ((x[0][1], x[0][2]), (x[0][0], x[0][3], x[1])))\n",
        "sessions.take(100)"
      ],
      "metadata": {
        "colab": {
          "base_uri": "https://localhost:8080/"
        },
        "id": "k8BRmS0lRPXc",
        "outputId": "c8857fa9-1e9d-46ba-cb04-e04afc5c5c38"
      },
      "execution_count": 278,
      "outputs": [
        {
          "output_type": "execute_result",
          "data": {
            "text/plain": [
              "[(('Fat Funny Friend', 'Maddie Zahm'),\n",
              "  ('bellagecs', datetime.datetime(2022, 2, 17, 4, 21), 215000)),\n",
              " (('this is how i learn to say no', 'Emeline'),\n",
              "  ('bellagecs', datetime.datetime(2022, 2, 17, 4, 13), 217000)),\n",
              " (('Attracted to You', 'pinkpantheress'),\n",
              "  ('bellagecs', datetime.datetime(2022, 2, 17, 4, 11), 124000)),\n",
              " (('Complicated', \"Olivia O'Brien\"),\n",
              "  ('bellagecs', datetime.datetime(2022, 2, 17, 1, 16), 10462000)),\n",
              " (('Freakum Dress', 'Beyoncé'),\n",
              "  ('bellagecs', datetime.datetime(2022, 2, 17, 1, 7), 416000)),\n",
              " (('Reckless', 'Madison Beer'),\n",
              "  ('bellagecs', datetime.datetime(2022, 2, 16, 4, 59), 200000)),\n",
              " (('LOVERBOY', 'Killboy'),\n",
              "  ('bellagecs', datetime.datetime(2022, 2, 16, 4, 44), 158000)),\n",
              " (('Prisoner (feat. Dua Lipa)', 'Miley Cyrus'),\n",
              "  ('bellagecs', datetime.datetime(2022, 2, 15, 22, 56), 386000)),\n",
              " (('Late To The Party', 'Emei'),\n",
              "  ('bellagecs', datetime.datetime(2022, 2, 15, 22, 51), 321000)),\n",
              " (('Treat Me Like a Slut', 'Kim Petras'),\n",
              "  ('bellagecs', datetime.datetime(2022, 2, 15, 21, 33), 190000)),\n",
              " (('Reason', 'PinkPantheress'),\n",
              "  ('bellagecs', datetime.datetime(2022, 2, 15, 2, 45), 260000)),\n",
              " (('I Hate U', 'SZA'),\n",
              "  ('bellagecs', datetime.datetime(2022, 2, 15, 2, 37), 222000)),\n",
              " (('Kalopsia', 'Queens of the Stone Age'),\n",
              "  ('c4zt96', datetime.datetime(2022, 2, 17, 4, 49), 278000)),\n",
              " (('Murder Your Memory', 'Title Fight'),\n",
              "  ('c4zt96', datetime.datetime(2022, 2, 17, 3, 52), 173000)),\n",
              " (('Carter & Cash', 'Tor Miller'),\n",
              "  ('c4zt96', datetime.datetime(2022, 2, 17, 3, 11), 237000)),\n",
              " (('Simple as This', 'Jake Bugg'),\n",
              "  ('c4zt96', datetime.datetime(2022, 2, 17, 2, 37), 200000)),\n",
              " (('In Exile', 'Thrice'),\n",
              "  ('c4zt96', datetime.datetime(2022, 2, 17, 2, 20), 824000)),\n",
              " (('City of Gods', 'Fivio Foreign'),\n",
              "  ('c4zt96', datetime.datetime(2022, 2, 16, 5, 38), 74036000)),\n",
              " (('Booty Call', 'Brokencyde'),\n",
              "  ('c4zt96', datetime.datetime(2022, 2, 16, 5, 29), 110000)),\n",
              " (('She', 'Green Day'),\n",
              "  ('c4zt96', datetime.datetime(2022, 2, 16, 4, 10), 2379000)),\n",
              " (('When I Come Around', 'Green Day'),\n",
              "  ('c4zt96', datetime.datetime(2022, 2, 16, 4, 7), 178000)),\n",
              " (('The Getaway', 'Red Hot Chili Peppers'),\n",
              "  ('c4zt96', datetime.datetime(2022, 2, 16, 1, 3), 9670000)),\n",
              " (('XXX', 'Kim Petras'),\n",
              "  ('amarxl', datetime.datetime(2022, 2, 17, 14, 35), 124000)),\n",
              " (('Throat Goat', 'Kim Petras'),\n",
              "  ('amarxl', datetime.datetime(2022, 2, 17, 14, 24), 139000)),\n",
              " (('Throat Goat', 'Kim Petras'),\n",
              "  ('amarxl', datetime.datetime(2022, 2, 17, 0, 19), 50673000)),\n",
              " (('Salvaje', 'Pabllo Vittar'),\n",
              "  ('amarxl', datetime.datetime(2022, 2, 16, 20, 49), 302000)),\n",
              " (('AMOR SALVAJE', 'Nathy Peluso'),\n",
              "  ('amarxl', datetime.datetime(2022, 2, 16, 20, 41), 194000)),\n",
              " (('Tranki', 'Isabella LoveStory'),\n",
              "  ('amarxl', datetime.datetime(2022, 2, 16, 20, 33), 203000)),\n",
              " (('Coqueta', 'Ms Nina'),\n",
              "  ('amarxl', datetime.datetime(2022, 2, 16, 20, 27), 158000)),\n",
              " (('Con Altura', 'ROSALÍA'),\n",
              "  ('amarxl', datetime.datetime(2022, 2, 16, 20, 0), 162000)),\n",
              " (('Prada', 'Arca'),\n",
              "  ('amarxl', datetime.datetime(2022, 2, 16, 19, 50), 163000)),\n",
              " (('KLK', 'Arca'), ('amarxl', datetime.datetime(2022, 2, 16, 19, 47), 228000)),\n",
              " (('SAOKO', 'ROSALÍA'),\n",
              "  ('amarxl', datetime.datetime(2022, 2, 16, 19, 38), 136000)),\n",
              " (('Killer Queen - Remastered 2011', 'Queen'),\n",
              "  ('Springyaurora', datetime.datetime(2022, 2, 17, 15, 34), 179000)),\n",
              " (('Somebody to Love', 'Queen'),\n",
              "  ('Springyaurora', datetime.datetime(2022, 2, 17, 15, 26), 322000)),\n",
              " (('Killer Queen', 'Queen'),\n",
              "  ('Springyaurora', datetime.datetime(2022, 2, 17, 15, 19), 180000)),\n",
              " (('Give The People What They Want', 'Adam Lambert'),\n",
              "  ('Springyaurora', datetime.datetime(2022, 2, 17, 15, 0), 145000)),\n",
              " (('Sugar Pills', 'I DONT KNOW HOW BUT THEY FOUND ME'),\n",
              "  ('Springyaurora', datetime.datetime(2022, 2, 17, 14, 31), 187000)),\n",
              " (('Delux', 'TIX'),\n",
              "  ('Springyaurora', datetime.datetime(2022, 2, 17, 14, 22), 160000)),\n",
              " (('Sweet Tooth Stomp', 'Moshi Monsters'),\n",
              "  ('Springyaurora', datetime.datetime(2022, 2, 17, 14, 15), 234000)),\n",
              " (('Overwhelmed', 'Royal & the Serpent'),\n",
              "  ('Springyaurora', datetime.datetime(2022, 2, 17, 13, 36), 158000)),\n",
              " (('Obsesion', 'Natti Natasha'),\n",
              "  ('diabIa', datetime.datetime(2022, 2, 17, 5, 30), 167000)),\n",
              " (('No Chão Novinha', 'Anitta'),\n",
              "  ('diabIa', datetime.datetime(2022, 2, 17, 5, 24), 318000)),\n",
              " (('BICHOTA', 'Karol G'),\n",
              "  ('diabIa', datetime.datetime(2022, 2, 17, 5, 11), 581000)),\n",
              " ((\"Don't Go\", 'Isabela Merced'),\n",
              "  ('diabIa', datetime.datetime(2022, 2, 17, 5, 6), 299000)),\n",
              " (('Imposible Amor', 'Natti Natasha'),\n",
              "  ('diabIa', datetime.datetime(2022, 2, 17, 4, 58), 495000)),\n",
              " ((\"Don't Go\", 'Isabela Merced'),\n",
              "  ('diabIa', datetime.datetime(2022, 2, 17, 4, 37), 332000)),\n",
              " (('PAPI', 'Isabela Merced'),\n",
              "  ('diabIa', datetime.datetime(2022, 2, 17, 0, 47), 3580000)),\n",
              " (('7/11', 'Beyoncé'),\n",
              "  ('diabIa', datetime.datetime(2022, 2, 17, 0, 45), 122000)),\n",
              " (('679 (Feat. Monty)', 'Fetty Wap'),\n",
              "  ('diabIa', datetime.datetime(2022, 2, 17, 0, 32), 168000)),\n",
              " (('Super Bass', 'Nicki Minaj'),\n",
              "  ('diabIa', datetime.datetime(2022, 2, 17, 0, 23), 201000)),\n",
              " ((\"Don't Stop the Music\", 'Rihanna'),\n",
              "  ('diabIa', datetime.datetime(2022, 2, 17, 0, 15), 256000)),\n",
              " (('Man Down', 'Rihanna'),\n",
              "  ('diabIa', datetime.datetime(2022, 2, 17, 0, 8), 225000)),\n",
              " (('Work (Freemasons Radio Edit)', 'Kelly Rowland'),\n",
              "  ('diabIa', datetime.datetime(2022, 2, 16, 23, 57), 191000)),\n",
              " (('Pon de Replay', 'Rihanna'),\n",
              "  ('diabIa', datetime.datetime(2022, 2, 16, 23, 39), 222000)),\n",
              " (('SEJODIOTO', 'Karol G'),\n",
              "  ('diabIa', datetime.datetime(2022, 2, 16, 23, 11), 160000)),\n",
              " (('XXX', 'Kim Petras'),\n",
              "  ('bellagecs', datetime.datetime(2022, 2, 17, 4, 19), 139000)),\n",
              " (('what it means to be a girl', 'Emeline'),\n",
              "  ('bellagecs', datetime.datetime(2022, 2, 17, 4, 17), 116000)),\n",
              " (('justified', 'Kacey Musgraves'),\n",
              "  ('bellagecs', datetime.datetime(2022, 2, 17, 1, 14), 114000)),\n",
              " ((\"Boys Don't Cry\", 'Anitta'),\n",
              "  ('bellagecs', datetime.datetime(2022, 2, 16, 5, 22), 120000)),\n",
              " (('traitor', 'Olivia Rodrigo'),\n",
              "  ('bellagecs', datetime.datetime(2022, 2, 16, 5, 15), 227000)),\n",
              " (('deja vu', 'Olivia Rodrigo'),\n",
              "  ('bellagecs', datetime.datetime(2022, 2, 16, 5, 4), 232000)),\n",
              " (('Lonely Weekend', 'Kacey Musgraves'),\n",
              "  ('bellagecs', datetime.datetime(2022, 2, 16, 4, 48), 130000)),\n",
              " (('Mean It', 'Gracie Abrams'),\n",
              "  ('bellagecs', datetime.datetime(2022, 2, 16, 4, 47), 104000)),\n",
              " (('Treat Me Like a Slut', 'Kim Petras'),\n",
              "  ('bellagecs', datetime.datetime(2022, 2, 15, 21, 30), 164000)),\n",
              " (('XXX', 'Kim Petras'),\n",
              "  ('bellagecs', datetime.datetime(2022, 2, 15, 3, 49), 123000)),\n",
              " (('All my friends know', 'PinkPantheress'),\n",
              "  ('bellagecs', datetime.datetime(2022, 2, 15, 2, 49), 92000)),\n",
              " (('If I Had a Tail', 'Queens of the Stone Age'),\n",
              "  ('c4zt96', datetime.datetime(2022, 2, 17, 4, 40), 296000)),\n",
              " (('…Like Clockwork', 'Queens of the Stone Age'),\n",
              "  ('c4zt96', datetime.datetime(2022, 2, 17, 4, 22), 326000)),\n",
              " (('I Appear Missing', 'Queens of the Stone Age'),\n",
              "  ('c4zt96', datetime.datetime(2022, 2, 17, 4, 16), 358000)),\n",
              " (('Sozinho e babaca', 'gorduratrans'),\n",
              "  ('c4zt96', datetime.datetime(2022, 2, 17, 3, 59), 1042000)),\n",
              " (('Crescent-Shaped Depression', 'Title Fight'),\n",
              "  ('c4zt96', datetime.datetime(2022, 2, 17, 3, 43), 547000)),\n",
              " (('Jet Fuel', 'Mac Miller'),\n",
              "  ('c4zt96', datetime.datetime(2022, 2, 17, 3, 23), 1184000)),\n",
              " (('Faith', 'The Weeknd'),\n",
              "  ('c4zt96', datetime.datetime(2022, 2, 17, 3, 19), 282000)),\n",
              " (('Solo', 'Frank Ocean'),\n",
              "  ('c4zt96', datetime.datetime(2022, 2, 17, 3, 7), 258000)),\n",
              " (('Country Song', 'Jake Bugg'),\n",
              "  ('c4zt96', datetime.datetime(2022, 2, 17, 2, 40), 110000)),\n",
              " (('Seen It All', 'Jake Bugg'),\n",
              "  ('c4zt96', datetime.datetime(2022, 2, 17, 2, 34), 170000)),\n",
              " (('Schitzo', 'Brokencyde'),\n",
              "  ('c4zt96', datetime.datetime(2022, 2, 16, 5, 31), 460000)),\n",
              " (('Como Nossos Pais', 'Elis Regina'),\n",
              "  ('c4zt96', datetime.datetime(2022, 2, 16, 4, 0), 446000)),\n",
              " (('Jet Fuel', 'Mac Miller'),\n",
              "  ('c4zt96', datetime.datetime(2022, 2, 15, 20, 8), 344000)),\n",
              " (('Jet Fuel', 'Mac Miller'),\n",
              "  ('c4zt96', datetime.datetime(2022, 2, 15, 20, 3), 291000)),\n",
              " (('Slut Pop', 'Kim Petras'),\n",
              "  ('amarxl', datetime.datetime(2022, 2, 17, 14, 47), 117000)),\n",
              " (('They Wanna Fuck', 'Kim Petras'),\n",
              "  ('amarxl', datetime.datetime(2022, 2, 17, 14, 42), 150000)),\n",
              " (('Slut Pop', 'Kim Petras'),\n",
              "  ('amarxl', datetime.datetime(2022, 2, 17, 14, 31), 117000)),\n",
              " (('They Wanna Fuck', 'Kim Petras'),\n",
              "  ('amarxl', datetime.datetime(2022, 2, 17, 14, 26), 150000)),\n",
              " (('XXX', 'Kim Petras'),\n",
              "  ('amarxl', datetime.datetime(2022, 2, 17, 0, 15), 125000)),\n",
              " (('Treat Me Like a Slut', 'Kim Petras'),\n",
              "  ('amarxl', datetime.datetime(2022, 2, 17, 0, 13), 117000)),\n",
              " (('SAOKO', 'ROSALÍA'),\n",
              "  ('amarxl', datetime.datetime(2022, 2, 16, 21, 1), 138000)),\n",
              " (('CELEBRÉ', 'Nathy Peluso'),\n",
              "  ('amarxl', datetime.datetime(2022, 2, 16, 20, 54), 216000)),\n",
              " (('Mequetrefe', 'Arca'),\n",
              "  ('amarxl', datetime.datetime(2022, 2, 16, 20, 22), 141000)),\n",
              " (('te pongo mal(prendelo)', 'Kali Uchis'),\n",
              "  ('amarxl', datetime.datetime(2022, 2, 16, 20, 19), 173000)),\n",
              " (('Rakata', 'Arca'),\n",
              "  ('amarxl', datetime.datetime(2022, 2, 16, 20, 11), 152000)),\n",
              " (('Kitten Heel', 'Isabella LoveStory'),\n",
              "  ('amarxl', datetime.datetime(2022, 2, 16, 20, 3), 152000)),\n",
              " (('Golosa', 'Isabella LoveStory'),\n",
              "  ('amarxl', datetime.datetime(2022, 2, 16, 19, 58), 160000)),\n",
              " (('TKN (feat. Travis Scott)', 'ROSALÍA'),\n",
              "  ('amarxl', datetime.datetime(2022, 2, 16, 19, 53), 130000)),\n",
              " (('Fuego (Florentino Remix)', 'florentino'),\n",
              "  ('amarxl', datetime.datetime(2022, 2, 16, 19, 43), 194000)),\n",
              " (('Your Wish Is My Command', 'Kim Petras'),\n",
              "  ('amarxl', datetime.datetime(2022, 2, 15, 23, 49), 71324000)),\n",
              " (('Good Old-Fashioned Lover Boy - Remastered 2011', 'Queen'),\n",
              "  ('Springyaurora', datetime.datetime(2022, 2, 17, 15, 31), 174000)),\n",
              " (('Keep Yourself Alive - Live At The Rainbow', 'Queen'),\n",
              "  ('Springyaurora', datetime.datetime(2022, 2, 17, 15, 22), 236000)),\n",
              " (('Ay-Oh - Live Aid', 'Queen'),\n",
              "  ('Springyaurora', datetime.datetime(2022, 2, 17, 15, 17), 42000))]"
            ]
          },
          "metadata": {},
          "execution_count": 278
        }
      ]
    },
    {
      "cell_type": "code",
      "source": [
        "tr_rdd = tracks_rdd.map(lambda x: ((x['title'],x['artist']),x['duration']))\n",
        "tr_rdd.take(1)"
      ],
      "metadata": {
        "colab": {
          "base_uri": "https://localhost:8080/"
        },
        "id": "U7xEI462Ry62",
        "outputId": "0a7f70f1-75bd-4a80-b206-b579fdbb8572"
      },
      "execution_count": 279,
      "outputs": [
        {
          "output_type": "execute_result",
          "data": {
            "text/plain": [
              "[(('Me Rehúso', 'Danny Ocean'), 206000)]"
            ]
          },
          "metadata": {},
          "execution_count": 279
        }
      ]
    },
    {
      "cell_type": "code",
      "source": [
        "sessions_tracks = sessions.join(tr_rdd)\\\n",
        "                          .mapValues(lambda x: (x[0][0], x[0][1], x[1], x[0][2]))\n",
        "sessions_tracks.take(10) # sx from listening session, dx from track"
      ],
      "metadata": {
        "colab": {
          "base_uri": "https://localhost:8080/"
        },
        "id": "pzb7lGvMRvNb",
        "outputId": "d131d9e0-2bd6-4f61-c59e-0108728524be"
      },
      "execution_count": 280,
      "outputs": [
        {
          "output_type": "execute_result",
          "data": {
            "text/plain": [
              "[(('Reason', 'PinkPantheress'),\n",
              "  ('bellagecs', datetime.datetime(2022, 2, 15, 2, 45), 0, 260000)),\n",
              " (('Murder Your Memory', 'Title Fight'),\n",
              "  ('c4zt96', datetime.datetime(2022, 2, 17, 3, 52), 156000, 173000)),\n",
              " (('Booty Call', 'Brokencyde'),\n",
              "  ('c4zt96', datetime.datetime(2022, 2, 16, 5, 29), 204000, 110000)),\n",
              " (('XXX', 'Kim Petras'),\n",
              "  ('amarxl', datetime.datetime(2022, 2, 17, 14, 35), 0, 124000)),\n",
              " (('XXX', 'Kim Petras'),\n",
              "  ('bellagecs', datetime.datetime(2022, 2, 17, 4, 19), 0, 139000)),\n",
              " (('XXX', 'Kim Petras'),\n",
              "  ('bellagecs', datetime.datetime(2022, 2, 15, 3, 49), 0, 123000)),\n",
              " (('XXX', 'Kim Petras'),\n",
              "  ('amarxl', datetime.datetime(2022, 2, 17, 0, 15), 0, 125000)),\n",
              " (('XXX', 'Kim Petras'),\n",
              "  ('bellagecs', datetime.datetime(2022, 2, 15, 3, 58), 0, 55957000)),\n",
              " (('Sweet Tooth Stomp', 'Moshi Monsters'),\n",
              "  ('Springyaurora', datetime.datetime(2022, 2, 17, 14, 15), 233000, 234000)),\n",
              " (('Sweet Tooth Stomp', 'Moshi Monsters'),\n",
              "  ('Springyaurora', datetime.datetime(2022, 2, 17, 14, 25), 233000, 234000))]"
            ]
          },
          "metadata": {},
          "execution_count": 280
        }
      ]
    },
    {
      "cell_type": "markdown",
      "source": [
        "**Problem**: missing duration for some tracks\n",
        "\n",
        "**Fix**: take max duration per artist to fill missing values"
      ],
      "metadata": {
        "id": "5CknWXfxGnn_"
      }
    },
    {
      "cell_type": "code",
      "source": [
        "artist_max = sessions_tracks.map(lambda x: (x[0][1], x[1][2])) \\\n",
        "                            .reduceByKey(lambda x,y: max(x,y))\n",
        "artist_max.take(10)"
      ],
      "metadata": {
        "colab": {
          "base_uri": "https://localhost:8080/"
        },
        "id": "tRKMzQm_HCgA",
        "outputId": "873e0e5a-57ae-4803-c9f9-cfa5bec77862"
      },
      "execution_count": 281,
      "outputs": [
        {
          "output_type": "execute_result",
          "data": {
            "text/plain": [
              "[('Kelly Rowland', 191000),\n",
              " ('Jake Bugg', 247000),\n",
              " ('Miley Cyrus', 169000),\n",
              " ('Mac Miller', 345000),\n",
              " ('ROSALÍA', 0),\n",
              " ('I DONT KNOW HOW BUT THEY FOUND ME', 215000),\n",
              " ('Sofía Reyes', 205000),\n",
              " ('Meg Myers', 284000),\n",
              " ('pinkpantheress', 0),\n",
              " ('Sia', 0)]"
            ]
          },
          "metadata": {},
          "execution_count": 281
        }
      ]
    },
    {
      "cell_type": "markdown",
      "source": [
        "If still 0 after looking in the listening session, get one duration from the artist top tracks."
      ],
      "metadata": {
        "id": "1TsAzMd4MIuD"
      }
    },
    {
      "cell_type": "code",
      "source": [
        "artist_max = artists_rdd.map(lambda x: (x['artist'], max([int(track['duration']) for track in x['top_tracks'] ]) )) \\\n",
        "                        .join(artist_max) \\\n",
        "                        .mapValues(lambda x: x[1] if x[1] != 0 else x[0])\n",
        "artist_max.take(10)"
      ],
      "metadata": {
        "colab": {
          "base_uri": "https://localhost:8080/"
        },
        "id": "Q9SSWJGEUNpu",
        "outputId": "032b7249-33c7-4d97-81a1-e5a4fa609b94"
      },
      "execution_count": 282,
      "outputs": [
        {
          "output_type": "execute_result",
          "data": {
            "text/plain": [
              "[('ROSALÍA', 0),\n",
              " ('Natti Natasha', 197000),\n",
              " ('Brokencyde', 267000),\n",
              " ('Fivio Foreign', 235000),\n",
              " ('Kali Uchis', 180000),\n",
              " ('Candace', 98000),\n",
              " ('Mary J. Blige', 266000),\n",
              " ('Jake Bugg', 247000),\n",
              " ('Meg Myers', 284000),\n",
              " ('Pusha T', 214000)]"
            ]
          },
          "metadata": {},
          "execution_count": 282
        }
      ]
    },
    {
      "cell_type": "markdown",
      "source": [
        "Now merge duration per track in `tr_rdd`."
      ],
      "metadata": {
        "id": "t-zrO7Hzbh1e"
      }
    },
    {
      "cell_type": "code",
      "source": [
        "tr_rdd.filter(lambda x: x[1] == 0).take(3)"
      ],
      "metadata": {
        "colab": {
          "base_uri": "https://localhost:8080/"
        },
        "id": "TVXdBe0ebpw_",
        "outputId": "e84d245b-e022-468e-eddd-8a92ab171593"
      },
      "execution_count": 283,
      "outputs": [
        {
          "output_type": "execute_result",
          "data": {
            "text/plain": [
              "[(('Throat Goat', 'Kim Petras'), 0),\n",
              " (('They Wanna Fuck', 'Kim Petras'), 0),\n",
              " (('Obsesion', 'Natti Natasha'), 0)]"
            ]
          },
          "metadata": {},
          "execution_count": 283
        }
      ]
    },
    {
      "cell_type": "code",
      "source": [
        "fixed_tr_rdd = tr_rdd.map(lambda x: (x[0][1], (x[0][0], x[1]))) \\\n",
        "                     .join(artist_max) \\\n",
        "                     .map(lambda x: ((x[1][0][0],x[0]), max(x[1][0][1], x[1][1]))) \n",
        "fixed_tr_rdd.take(5)"
      ],
      "metadata": {
        "colab": {
          "base_uri": "https://localhost:8080/"
        },
        "id": "04S_FTVdcKXi",
        "outputId": "9c24946c-c0d4-4fba-8cd5-e11fc6355afe"
      },
      "execution_count": 284,
      "outputs": [
        {
          "output_type": "execute_result",
          "data": {
            "text/plain": [
              "[(('Family Affair', 'Mary J. Blige'), 266000),\n",
              " (('Be Without You - Kendu Mix', 'Mary J. Blige'), 266000),\n",
              " (('Throat Goat', 'Kim Petras'), 250000),\n",
              " (('They Wanna Fuck', 'Kim Petras'), 250000),\n",
              " (('XXX', 'Kim Petras'), 250000)]"
            ]
          },
          "metadata": {},
          "execution_count": 284
        }
      ]
    },
    {
      "cell_type": "markdown",
      "source": [
        "There are still some zeros, but we can't do much about it.\n",
        "\n",
        "Finally compute the listening sessions."
      ],
      "metadata": {
        "id": "RVuRoh4jbqKj"
      }
    },
    {
      "cell_type": "code",
      "source": [
        "sessions_tracks = sessions.join(fixed_tr_rdd)\\\n",
        "                          .mapValues(lambda x: (x[0][0], x[0][1], x[1], x[0][2]))\n",
        "sessions_tracks.take(10) # sx from listening session, dx from track"
      ],
      "metadata": {
        "colab": {
          "base_uri": "https://localhost:8080/"
        },
        "id": "rwyzi5ffeX_t",
        "outputId": "cc04478f-3575-4535-f220-445c84f1dcdb"
      },
      "execution_count": 295,
      "outputs": [
        {
          "output_type": "execute_result",
          "data": {
            "text/plain": [
              "[(('Booty Call', 'Brokencyde'),\n",
              "  ('c4zt96', datetime.datetime(2022, 2, 16, 5, 29), 267000, 110000)),\n",
              " (('Killer Queen - Remastered 2011', 'Queen'),\n",
              "  ('Springyaurora', datetime.datetime(2022, 2, 17, 15, 34), 295000, 179000)),\n",
              " (('BICHOTA', 'Karol G'),\n",
              "  ('diabIa', datetime.datetime(2022, 2, 17, 5, 11), 234000, 581000)),\n",
              " ((\"Don't Go\", 'Isabela Merced'),\n",
              "  ('diabIa', datetime.datetime(2022, 2, 17, 5, 6), 167000, 299000)),\n",
              " ((\"Don't Go\", 'Isabela Merced'),\n",
              "  ('diabIa', datetime.datetime(2022, 2, 17, 4, 37), 167000, 332000)),\n",
              " (('Seen It All', 'Jake Bugg'),\n",
              "  ('c4zt96', datetime.datetime(2022, 2, 17, 2, 34), 247000, 170000)),\n",
              " (('Como Nossos Pais', 'Elis Regina'),\n",
              "  ('c4zt96', datetime.datetime(2022, 2, 16, 4, 0), 261000, 446000)),\n",
              " (('Como Nossos Pais', 'Elis Regina'),\n",
              "  ('c4zt96', datetime.datetime(2022, 2, 16, 3, 44), 261000, 967000)),\n",
              " (('no eres tu(soy yo)', 'Kali Uchis'),\n",
              "  ('amarxl', datetime.datetime(2022, 2, 16, 20, 45), 180000, 121000)),\n",
              " (('Lucidity', 'You And What Army'),\n",
              "  ('Springyaurora', datetime.datetime(2022, 2, 17, 13, 23), 186000, 187000))]"
            ]
          },
          "metadata": {},
          "execution_count": 295
        }
      ]
    },
    {
      "cell_type": "code",
      "source": [
        "sessions_tracks = sessions_tracks.mapValues(lambda x: (x[0], (x[3]-x[2])//1000, x[2]//1000, x[1])) \\\n",
        "                                 .groupBy(lambda x: x[1][0]) \\\n",
        "                                 .map(lambda x : (x[0], list(x[1])))\n",
        "sessions_tracks.take(1)"
      ],
      "metadata": {
        "colab": {
          "base_uri": "https://localhost:8080/"
        },
        "id": "u0xyDxgwj2sM",
        "outputId": "8ea32aeb-3d47-41ca-f218-513de48ec4cf"
      },
      "execution_count": 296,
      "outputs": [
        {
          "output_type": "execute_result",
          "data": {
            "text/plain": [
              "[('amarxl',\n",
              "  [(('no eres tu(soy yo)', 'Kali Uchis'),\n",
              "    ('amarxl', -59, 180, datetime.datetime(2022, 2, 16, 20, 45))),\n",
              "   (('Blin Blin', 'Bad Gyal'),\n",
              "    ('amarxl', 145, 0, datetime.datetime(2022, 2, 16, 20, 14))),\n",
              "   (('Treat Me Like a Slut', 'Kim Petras'),\n",
              "    ('amarxl', -133, 250, datetime.datetime(2022, 2, 17, 0, 13))),\n",
              "   (('Treat Me Like a Slut', 'Kim Petras'),\n",
              "    ('amarxl', -131, 250, datetime.datetime(2022, 2, 17, 14, 33))),\n",
              "   (('Treat Me Like a Slut', 'Kim Petras'),\n",
              "    ('amarxl', -132, 250, datetime.datetime(2022, 2, 17, 14, 49))),\n",
              "   (('Prada', 'Arca'),\n",
              "    ('amarxl', -64, 227, datetime.datetime(2022, 2, 16, 19, 50))),\n",
              "   (('Slut Pop', 'Kim Petras'),\n",
              "    ('amarxl', -133, 250, datetime.datetime(2022, 2, 17, 14, 47))),\n",
              "   (('Slut Pop', 'Kim Petras'),\n",
              "    ('amarxl', -133, 250, datetime.datetime(2022, 2, 17, 14, 31))),\n",
              "   (('TKN (feat. Travis Scott)', 'ROSALÍA'),\n",
              "    ('amarxl', 130, 0, datetime.datetime(2022, 2, 16, 19, 53))),\n",
              "   (('Fuego (Florentino Remix)', 'florentino'),\n",
              "    ('amarxl', -47, 241, datetime.datetime(2022, 2, 16, 19, 43))),\n",
              "   (('Fuego (Florentino Remix)', 'florentino'),\n",
              "    ('amarxl', 10979, 241, datetime.datetime(2022, 2, 16, 21, 6))),\n",
              "   (('Barre Con el Pelo (feat. DJ Blass)', 'TOMASA DEL REAL'),\n",
              "    ('amarxl', -21, 220, datetime.datetime(2022, 2, 16, 20, 8))),\n",
              "   (('A Palé', 'ROSALÍA'),\n",
              "    ('amarxl', 145, 0, datetime.datetime(2022, 2, 16, 20, 6))),\n",
              "   (('Tu Moto - Prod. D33J', 'Bad Gyal'),\n",
              "    ('amarxl', 196, 0, datetime.datetime(2022, 2, 16, 20, 16))),\n",
              "   (('XXX', 'Kim Petras'),\n",
              "    ('amarxl', -126, 250, datetime.datetime(2022, 2, 17, 14, 35))),\n",
              "   (('XXX', 'Kim Petras'),\n",
              "    ('amarxl', -125, 250, datetime.datetime(2022, 2, 17, 0, 15))),\n",
              "   (('AMOR SALVAJE', 'Nathy Peluso'),\n",
              "    ('amarxl', -22, 216, datetime.datetime(2022, 2, 16, 20, 41))),\n",
              "   (('Tranki', 'Isabella LoveStory'),\n",
              "    ('amarxl', 24, 179, datetime.datetime(2022, 2, 16, 20, 33))),\n",
              "   (('Throat Goat', 'Kim Petras'),\n",
              "    ('amarxl', -111, 250, datetime.datetime(2022, 2, 17, 14, 24))),\n",
              "   (('Throat Goat', 'Kim Petras'),\n",
              "    ('amarxl', 50423, 250, datetime.datetime(2022, 2, 17, 0, 19))),\n",
              "   (('Throat Goat', 'Kim Petras'),\n",
              "    ('amarxl', -110, 250, datetime.datetime(2022, 2, 17, 14, 40))),\n",
              "   (('Mequetrefe', 'Arca'),\n",
              "    ('amarxl', -86, 227, datetime.datetime(2022, 2, 16, 20, 22))),\n",
              "   (('te pongo mal(prendelo)', 'Kali Uchis'),\n",
              "    ('amarxl', -7, 180, datetime.datetime(2022, 2, 16, 20, 19))),\n",
              "   (('They Wanna Fuck', 'Kim Petras'),\n",
              "    ('amarxl', -100, 250, datetime.datetime(2022, 2, 17, 14, 42))),\n",
              "   (('They Wanna Fuck', 'Kim Petras'),\n",
              "    ('amarxl', -100, 250, datetime.datetime(2022, 2, 17, 14, 26))),\n",
              "   (('Mariposa', 'Isabella LoveStory'),\n",
              "    ('amarxl', 1, 179, datetime.datetime(2022, 2, 16, 21, 3))),\n",
              "   (('Mariposa', 'Isabella LoveStory'),\n",
              "    ('amarxl', 1, 179, datetime.datetime(2022, 2, 16, 19, 40))),\n",
              "   (('Coqueta', 'Ms Nina'),\n",
              "    ('amarxl', -3, 161, datetime.datetime(2022, 2, 16, 20, 27))),\n",
              "   (('Superpower Bitch', 'Kim Petras'),\n",
              "    ('amarxl', -123, 250, datetime.datetime(2022, 2, 17, 14, 37))),\n",
              "   (('Superpower Bitch', 'Kim Petras'),\n",
              "    ('amarxl', -123, 250, datetime.datetime(2022, 2, 17, 0, 17))),\n",
              "   (('El Consejo', 'Ms Nina'),\n",
              "    ('amarxl', -35, 161, datetime.datetime(2022, 2, 16, 20, 47))),\n",
              "   (('Tiro', 'Arca'),\n",
              "    ('amarxl', -88, 227, datetime.datetime(2022, 2, 16, 19, 55))),\n",
              "   (('CELEBRÉ', 'Nathy Peluso'),\n",
              "    ('amarxl', 0, 216, datetime.datetime(2022, 2, 16, 20, 54))),\n",
              "   (('Your Wish Is My Command', 'Kim Petras'),\n",
              "    ('amarxl', 71074, 250, datetime.datetime(2022, 2, 15, 23, 49))),\n",
              "   (('Your Wish Is My Command', 'Kim Petras'),\n",
              "    ('amarxl', -75, 250, datetime.datetime(2022, 2, 17, 14, 44))),\n",
              "   (('Your Wish Is My Command', 'Kim Petras'),\n",
              "    ('amarxl', -75, 250, datetime.datetime(2022, 2, 17, 14, 29))),\n",
              "   (('¡aquí yo mando!', 'Kali Uchis'),\n",
              "    ('amarxl', -38, 180, datetime.datetime(2022, 2, 16, 20, 25))),\n",
              "   (('SAOKO', 'ROSALÍA'),\n",
              "    ('amarxl', 136, 0, datetime.datetime(2022, 2, 16, 19, 38))),\n",
              "   (('SAOKO', 'ROSALÍA'),\n",
              "    ('amarxl', 138, 0, datetime.datetime(2022, 2, 16, 21, 1))),\n",
              "   (('Golosa', 'Isabella LoveStory'),\n",
              "    ('amarxl', -19, 179, datetime.datetime(2022, 2, 16, 19, 58))),\n",
              "   (('SANA SANA', 'Nathy Peluso'),\n",
              "    ('amarxl', -37, 216, datetime.datetime(2022, 2, 16, 20, 30))),\n",
              "   (('Con Altura', 'ROSALÍA'),\n",
              "    ('amarxl', 162, 0, datetime.datetime(2022, 2, 16, 20, 0))),\n",
              "   (('Perra Del Futuro', 'TOMASA DEL REAL'),\n",
              "    ('amarxl', -39, 220, datetime.datetime(2022, 2, 16, 20, 38))),\n",
              "   (('Rakata', 'Arca'),\n",
              "    ('amarxl', -75, 227, datetime.datetime(2022, 2, 16, 20, 11))),\n",
              "   (('Kitten Heel', 'Isabella LoveStory'),\n",
              "    ('amarxl', -27, 179, datetime.datetime(2022, 2, 16, 20, 3))),\n",
              "   (('Salvaje', 'Pabllo Vittar'),\n",
              "    ('amarxl', 133, 169, datetime.datetime(2022, 2, 16, 20, 49))),\n",
              "   (('KLK', 'Arca'),\n",
              "    ('amarxl', 1, 227, datetime.datetime(2022, 2, 16, 19, 47))),\n",
              "   (('DELITO', 'Nathy Peluso'),\n",
              "    ('amarxl', -12, 216, datetime.datetime(2022, 2, 16, 20, 57))),\n",
              "   (('SI QUIERES', 'Ms Nina'),\n",
              "    ('amarxl', -26, 161, datetime.datetime(2022, 2, 16, 20, 36)))])]"
            ]
          },
          "metadata": {},
          "execution_count": 296
        }
      ]
    },
    {
      "cell_type": "markdown",
      "source": [
        "If the song has a value `< threshold` (let's say 15 seconds), it means that it is the last song of the listening session, so from the next song we create a new listening session."
      ],
      "metadata": {
        "id": "9hVNlMHYoyyn"
      }
    },
    {
      "cell_type": "code",
      "source": [
        "threshold = 15 # seconds\n",
        "\n",
        "def get_sessions_per_user(x):\n",
        "  all_tracks = sorted(x[1], key=lambda x: x[1][3])\n",
        "  sessions = []\n",
        "  temp = []\n",
        "  for track in all_tracks:\n",
        "    temp.append(track)\n",
        "    if track[1][1] < threshold:\n",
        "      sessions.append(temp)\n",
        "      temp = []\n",
        "  return sessions\n",
        "\n",
        "user_sessions = sessions_tracks.map(lambda x: (x[0],get_sessions_per_user(x)))\n",
        "user_sessions.take(2)"
      ],
      "metadata": {
        "colab": {
          "base_uri": "https://localhost:8080/"
        },
        "id": "9LOa9Mm-ox5t",
        "outputId": "344cef0c-1daa-475f-987f-08079ff709ab"
      },
      "execution_count": 297,
      "outputs": [
        {
          "output_type": "execute_result",
          "data": {
            "text/plain": [
              "[('amarxl',\n",
              "  [[(('Your Wish Is My Command', 'Kim Petras'),\n",
              "     ('amarxl', 71074, 250, datetime.datetime(2022, 2, 15, 23, 49))),\n",
              "    (('SAOKO', 'ROSALÍA'),\n",
              "     ('amarxl', 136, 0, datetime.datetime(2022, 2, 16, 19, 38))),\n",
              "    (('Mariposa', 'Isabella LoveStory'),\n",
              "     ('amarxl', 1, 179, datetime.datetime(2022, 2, 16, 19, 40)))],\n",
              "   [(('Fuego (Florentino Remix)', 'florentino'),\n",
              "     ('amarxl', -47, 241, datetime.datetime(2022, 2, 16, 19, 43)))],\n",
              "   [(('KLK', 'Arca'),\n",
              "     ('amarxl', 1, 227, datetime.datetime(2022, 2, 16, 19, 47)))],\n",
              "   [(('Prada', 'Arca'),\n",
              "     ('amarxl', -64, 227, datetime.datetime(2022, 2, 16, 19, 50)))],\n",
              "   [(('TKN (feat. Travis Scott)', 'ROSALÍA'),\n",
              "     ('amarxl', 130, 0, datetime.datetime(2022, 2, 16, 19, 53))),\n",
              "    (('Tiro', 'Arca'),\n",
              "     ('amarxl', -88, 227, datetime.datetime(2022, 2, 16, 19, 55)))],\n",
              "   [(('Golosa', 'Isabella LoveStory'),\n",
              "     ('amarxl', -19, 179, datetime.datetime(2022, 2, 16, 19, 58)))],\n",
              "   [(('Con Altura', 'ROSALÍA'),\n",
              "     ('amarxl', 162, 0, datetime.datetime(2022, 2, 16, 20, 0))),\n",
              "    (('Kitten Heel', 'Isabella LoveStory'),\n",
              "     ('amarxl', -27, 179, datetime.datetime(2022, 2, 16, 20, 3)))],\n",
              "   [(('A Palé', 'ROSALÍA'),\n",
              "     ('amarxl', 145, 0, datetime.datetime(2022, 2, 16, 20, 6))),\n",
              "    (('Barre Con el Pelo (feat. DJ Blass)', 'TOMASA DEL REAL'),\n",
              "     ('amarxl', -21, 220, datetime.datetime(2022, 2, 16, 20, 8)))],\n",
              "   [(('Rakata', 'Arca'),\n",
              "     ('amarxl', -75, 227, datetime.datetime(2022, 2, 16, 20, 11)))],\n",
              "   [(('Blin Blin', 'Bad Gyal'),\n",
              "     ('amarxl', 145, 0, datetime.datetime(2022, 2, 16, 20, 14))),\n",
              "    (('Tu Moto - Prod. D33J', 'Bad Gyal'),\n",
              "     ('amarxl', 196, 0, datetime.datetime(2022, 2, 16, 20, 16))),\n",
              "    (('te pongo mal(prendelo)', 'Kali Uchis'),\n",
              "     ('amarxl', -7, 180, datetime.datetime(2022, 2, 16, 20, 19)))],\n",
              "   [(('Mequetrefe', 'Arca'),\n",
              "     ('amarxl', -86, 227, datetime.datetime(2022, 2, 16, 20, 22)))],\n",
              "   [(('¡aquí yo mando!', 'Kali Uchis'),\n",
              "     ('amarxl', -38, 180, datetime.datetime(2022, 2, 16, 20, 25)))],\n",
              "   [(('Coqueta', 'Ms Nina'),\n",
              "     ('amarxl', -3, 161, datetime.datetime(2022, 2, 16, 20, 27)))],\n",
              "   [(('SANA SANA', 'Nathy Peluso'),\n",
              "     ('amarxl', -37, 216, datetime.datetime(2022, 2, 16, 20, 30)))],\n",
              "   [(('Tranki', 'Isabella LoveStory'),\n",
              "     ('amarxl', 24, 179, datetime.datetime(2022, 2, 16, 20, 33))),\n",
              "    (('SI QUIERES', 'Ms Nina'),\n",
              "     ('amarxl', -26, 161, datetime.datetime(2022, 2, 16, 20, 36)))],\n",
              "   [(('Perra Del Futuro', 'TOMASA DEL REAL'),\n",
              "     ('amarxl', -39, 220, datetime.datetime(2022, 2, 16, 20, 38)))],\n",
              "   [(('AMOR SALVAJE', 'Nathy Peluso'),\n",
              "     ('amarxl', -22, 216, datetime.datetime(2022, 2, 16, 20, 41)))],\n",
              "   [(('no eres tu(soy yo)', 'Kali Uchis'),\n",
              "     ('amarxl', -59, 180, datetime.datetime(2022, 2, 16, 20, 45)))],\n",
              "   [(('El Consejo', 'Ms Nina'),\n",
              "     ('amarxl', -35, 161, datetime.datetime(2022, 2, 16, 20, 47)))],\n",
              "   [(('Salvaje', 'Pabllo Vittar'),\n",
              "     ('amarxl', 133, 169, datetime.datetime(2022, 2, 16, 20, 49))),\n",
              "    (('CELEBRÉ', 'Nathy Peluso'),\n",
              "     ('amarxl', 0, 216, datetime.datetime(2022, 2, 16, 20, 54)))],\n",
              "   [(('DELITO', 'Nathy Peluso'),\n",
              "     ('amarxl', -12, 216, datetime.datetime(2022, 2, 16, 20, 57)))],\n",
              "   [(('SAOKO', 'ROSALÍA'),\n",
              "     ('amarxl', 138, 0, datetime.datetime(2022, 2, 16, 21, 1))),\n",
              "    (('Mariposa', 'Isabella LoveStory'),\n",
              "     ('amarxl', 1, 179, datetime.datetime(2022, 2, 16, 21, 3)))],\n",
              "   [(('Fuego (Florentino Remix)', 'florentino'),\n",
              "     ('amarxl', 10979, 241, datetime.datetime(2022, 2, 16, 21, 6))),\n",
              "    (('Treat Me Like a Slut', 'Kim Petras'),\n",
              "     ('amarxl', -133, 250, datetime.datetime(2022, 2, 17, 0, 13)))],\n",
              "   [(('XXX', 'Kim Petras'),\n",
              "     ('amarxl', -125, 250, datetime.datetime(2022, 2, 17, 0, 15)))],\n",
              "   [(('Superpower Bitch', 'Kim Petras'),\n",
              "     ('amarxl', -123, 250, datetime.datetime(2022, 2, 17, 0, 17)))],\n",
              "   [(('Throat Goat', 'Kim Petras'),\n",
              "     ('amarxl', 50423, 250, datetime.datetime(2022, 2, 17, 0, 19))),\n",
              "    (('Throat Goat', 'Kim Petras'),\n",
              "     ('amarxl', -111, 250, datetime.datetime(2022, 2, 17, 14, 24)))],\n",
              "   [(('They Wanna Fuck', 'Kim Petras'),\n",
              "     ('amarxl', -100, 250, datetime.datetime(2022, 2, 17, 14, 26)))],\n",
              "   [(('Your Wish Is My Command', 'Kim Petras'),\n",
              "     ('amarxl', -75, 250, datetime.datetime(2022, 2, 17, 14, 29)))],\n",
              "   [(('Slut Pop', 'Kim Petras'),\n",
              "     ('amarxl', -133, 250, datetime.datetime(2022, 2, 17, 14, 31)))],\n",
              "   [(('Treat Me Like a Slut', 'Kim Petras'),\n",
              "     ('amarxl', -131, 250, datetime.datetime(2022, 2, 17, 14, 33)))],\n",
              "   [(('XXX', 'Kim Petras'),\n",
              "     ('amarxl', -126, 250, datetime.datetime(2022, 2, 17, 14, 35)))],\n",
              "   [(('Superpower Bitch', 'Kim Petras'),\n",
              "     ('amarxl', -123, 250, datetime.datetime(2022, 2, 17, 14, 37)))],\n",
              "   [(('Throat Goat', 'Kim Petras'),\n",
              "     ('amarxl', -110, 250, datetime.datetime(2022, 2, 17, 14, 40)))],\n",
              "   [(('They Wanna Fuck', 'Kim Petras'),\n",
              "     ('amarxl', -100, 250, datetime.datetime(2022, 2, 17, 14, 42)))],\n",
              "   [(('Your Wish Is My Command', 'Kim Petras'),\n",
              "     ('amarxl', -75, 250, datetime.datetime(2022, 2, 17, 14, 44)))],\n",
              "   [(('Slut Pop', 'Kim Petras'),\n",
              "     ('amarxl', -133, 250, datetime.datetime(2022, 2, 17, 14, 47)))],\n",
              "   [(('Treat Me Like a Slut', 'Kim Petras'),\n",
              "     ('amarxl', -132, 250, datetime.datetime(2022, 2, 17, 14, 49)))]]),\n",
              " ('Springyaurora',\n",
              "  [[(('Lucidity', 'You And What Army'),\n",
              "     ('Springyaurora', 1, 186, datetime.datetime(2022, 2, 17, 13, 23)))],\n",
              "   [(('Distance Disturbs Me', 'Set It Off'),\n",
              "     ('Springyaurora', -25, 215, datetime.datetime(2022, 2, 17, 13, 26)))],\n",
              "   [(('strawberry lipstick', 'YUNGBLUD'),\n",
              "     ('Springyaurora', 164, 0, datetime.datetime(2022, 2, 17, 13, 30))),\n",
              "    (('Killer In The Mirror', 'Set It Off'),\n",
              "     ('Springyaurora', 2, 215, datetime.datetime(2022, 2, 17, 13, 32)))],\n",
              "   [(('Overwhelmed', 'Royal & the Serpent'),\n",
              "     ('Springyaurora', -1, 159, datetime.datetime(2022, 2, 17, 13, 36)))],\n",
              "   [(('Give The People What They Want', 'Adam Lambert'),\n",
              "     ('Springyaurora', 1, 145, datetime.datetime(2022, 2, 17, 13, 39)))],\n",
              "   [(('Delux', 'TIX'),\n",
              "     ('Springyaurora', 160, 0, datetime.datetime(2022, 2, 17, 13, 41))),\n",
              "    (('the freak show', 'YUNGBLUD'),\n",
              "     ('Springyaurora', 268, 0, datetime.datetime(2022, 2, 17, 13, 44))),\n",
              "    (('Sweet Tooth Stomp', 'Moshi Monsters'),\n",
              "     ('Springyaurora', 2, 233, datetime.datetime(2022, 2, 17, 13, 48)))],\n",
              "   [(('Sweet Tooth Stomp', 'Moshi Monsters'),\n",
              "     ('Springyaurora', -1, 233, datetime.datetime(2022, 2, 17, 13, 52)))],\n",
              "   [(('Sweet Tooth Stomp', 'Moshi Monsters'),\n",
              "     ('Springyaurora', 1, 233, datetime.datetime(2022, 2, 17, 13, 56)))],\n",
              "   [(('Sweet Tooth Stomp', 'Moshi Monsters'),\n",
              "     ('Springyaurora', 0, 233, datetime.datetime(2022, 2, 17, 14, 0)))],\n",
              "   [(('Busted', 'Candace'),\n",
              "     ('Springyaurora', 3, 98, datetime.datetime(2022, 2, 17, 14, 4)))],\n",
              "   [(('Busted', 'Candace'),\n",
              "     ('Springyaurora', -1, 98, datetime.datetime(2022, 2, 17, 14, 5)))],\n",
              "   [(('the freak show', 'YUNGBLUD'),\n",
              "     ('Springyaurora', 268, 0, datetime.datetime(2022, 2, 17, 14, 7))),\n",
              "    (('Sweet Tooth Stomp', 'Moshi Monsters'),\n",
              "     ('Springyaurora', 1, 233, datetime.datetime(2022, 2, 17, 14, 12)))],\n",
              "   [(('Sweet Tooth Stomp', 'Moshi Monsters'),\n",
              "     ('Springyaurora', 1, 233, datetime.datetime(2022, 2, 17, 14, 15)))],\n",
              "   [(('Delux', 'TIX'),\n",
              "     ('Springyaurora', 160, 0, datetime.datetime(2022, 2, 17, 14, 19))),\n",
              "    (('Delux', 'TIX'),\n",
              "     ('Springyaurora', 160, 0, datetime.datetime(2022, 2, 17, 14, 22))),\n",
              "    (('Sweet Tooth Stomp', 'Moshi Monsters'),\n",
              "     ('Springyaurora', 1, 233, datetime.datetime(2022, 2, 17, 14, 25)))],\n",
              "   [(('Give The People What They Want', 'Adam Lambert'),\n",
              "     ('Springyaurora', 0, 145, datetime.datetime(2022, 2, 17, 14, 29)))],\n",
              "   [(('Sugar Pills', 'I DONT KNOW HOW BUT THEY FOUND ME'),\n",
              "     ('Springyaurora', -28, 215, datetime.datetime(2022, 2, 17, 14, 31)))],\n",
              "   [(('Houdini', 'Foster the People'),\n",
              "     ('Springyaurora', 2, 202, datetime.datetime(2022, 2, 17, 14, 34)))],\n",
              "   [(('21st Century Liability', 'YUNGBLUD'),\n",
              "     ('Springyaurora', 189, 0, datetime.datetime(2022, 2, 17, 14, 37))),\n",
              "    (('Leave Me Alone', 'I DONT KNOW HOW BUT THEY FOUND ME'),\n",
              "     ('Springyaurora', 1, 215, datetime.datetime(2022, 2, 17, 14, 41)))],\n",
              "   [(('Delux', 'TIX'),\n",
              "     ('Springyaurora', 160, 0, datetime.datetime(2022, 2, 17, 14, 44))),\n",
              "    (('Delux', 'TIX'),\n",
              "     ('Springyaurora', 160, 0, datetime.datetime(2022, 2, 17, 14, 47))),\n",
              "    (('Delux', 'TIX'),\n",
              "     ('Springyaurora', 160, 0, datetime.datetime(2022, 2, 17, 14, 50))),\n",
              "    (('Delux', 'TIX'),\n",
              "     ('Springyaurora', 160, 0, datetime.datetime(2022, 2, 17, 14, 52))),\n",
              "    (('Delux', 'TIX'),\n",
              "     ('Springyaurora', 161, 0, datetime.datetime(2022, 2, 17, 14, 55))),\n",
              "    (('Give The People What They Want', 'Adam Lambert'),\n",
              "     ('Springyaurora', 0, 145, datetime.datetime(2022, 2, 17, 14, 58)))],\n",
              "   [(('Give The People What They Want', 'Adam Lambert'),\n",
              "     ('Springyaurora', 0, 145, datetime.datetime(2022, 2, 17, 15, 0)))],\n",
              "   [(('Give The People What They Want', 'Adam Lambert'),\n",
              "     ('Springyaurora', 1, 145, datetime.datetime(2022, 2, 17, 15, 2)))],\n",
              "   [(('Give The People What They Want', 'Adam Lambert'),\n",
              "     ('Springyaurora', 0, 145, datetime.datetime(2022, 2, 17, 15, 5)))],\n",
              "   [(('Give The People What They Want', 'Adam Lambert'),\n",
              "     ('Springyaurora', 0, 145, datetime.datetime(2022, 2, 17, 15, 7)))],\n",
              "   [(('Give The People What They Want', 'Adam Lambert'),\n",
              "     ('Springyaurora', 1, 145, datetime.datetime(2022, 2, 17, 15, 10)))],\n",
              "   [(('Give The People What They Want', 'Adam Lambert'),\n",
              "     ('Springyaurora', 1, 145, datetime.datetime(2022, 2, 17, 15, 12)))],\n",
              "   [(('Big Spender - Live At The Hammersmith Odeon, London / 1975', 'Queen'),\n",
              "     ('Springyaurora', -212, 295, datetime.datetime(2022, 2, 17, 15, 15)))],\n",
              "   [(('Ay-Oh - Live Aid', 'Queen'),\n",
              "     ('Springyaurora', -253, 295, datetime.datetime(2022, 2, 17, 15, 16)))],\n",
              "   [(('Ay-Oh - Live Aid', 'Queen'),\n",
              "     ('Springyaurora', -253, 295, datetime.datetime(2022, 2, 17, 15, 17)))],\n",
              "   [(('Ay-Oh - Live Aid', 'Queen'),\n",
              "     ('Springyaurora', -254, 295, datetime.datetime(2022, 2, 17, 15, 18)))],\n",
              "   [(('Killer Queen', 'Queen'),\n",
              "     ('Springyaurora', -115, 295, datetime.datetime(2022, 2, 17, 15, 19)))],\n",
              "   [(('Keep Yourself Alive - Live At The Rainbow', 'Queen'),\n",
              "     ('Springyaurora', -59, 295, datetime.datetime(2022, 2, 17, 15, 22)))],\n",
              "   [(('Somebody to Love', 'Queen'),\n",
              "     ('Springyaurora', 27, 295, datetime.datetime(2022, 2, 17, 15, 26))),\n",
              "    (('Good Old-Fashioned Lover Boy - Remastered 2011', 'Queen'),\n",
              "     ('Springyaurora', -121, 295, datetime.datetime(2022, 2, 17, 15, 31)))],\n",
              "   [(('Killer Queen - Remastered 2011', 'Queen'),\n",
              "     ('Springyaurora', -116, 295, datetime.datetime(2022, 2, 17, 15, 34)))],\n",
              "   [(('Love Of My Life - Remastered 2011', 'Queen'),\n",
              "     ('Springyaurora', -77, 295, datetime.datetime(2022, 2, 17, 15, 37)))],\n",
              "   [(('We Will Rock You - Remastered 2011', 'Queen'),\n",
              "     ('Springyaurora', -173, 295, datetime.datetime(2022, 2, 17, 15, 41)))]])]"
            ]
          },
          "metadata": {},
          "execution_count": 297
        }
      ]
    },
    {
      "cell_type": "markdown",
      "source": [
        "## Statistics about listening sessions"
      ],
      "metadata": {
        "id": "nW8NOumW1mGa"
      }
    },
    {
      "cell_type": "markdown",
      "source": [
        "average number of tracks\n",
        "\n",
        "average session per user\n",
        "\n",
        "session lengths"
      ],
      "metadata": {
        "id": "m4AwK3Eh29SA"
      }
    },
    {
      "cell_type": "code",
      "source": [
        "def avg_tracks(x):\n",
        "  r,c = 0, 1\n",
        "  for y in x:\n",
        "    r += len(y)\n",
        "    c += 1\n",
        "  return r/c\n",
        "\n",
        "user_sessions.map(lambda x: (x[0], avg_tracks(x[1]))) \\\n",
        "             .take(5)"
      ],
      "metadata": {
        "colab": {
          "base_uri": "https://localhost:8080/"
        },
        "id": "9tkgqIye1llW",
        "outputId": "4da6ca8c-82fb-4022-e7e1-256f80e6753a"
      },
      "execution_count": 248,
      "outputs": [
        {
          "output_type": "execute_result",
          "data": {
            "text/plain": [
              "[('amarxl', 1.7619047619047619),\n",
              " ('Springyaurora', 1.5714285714285714),\n",
              " ('diabIa', 2.1818181818181817),\n",
              " ('c4zt96', 1.28125),\n",
              " ('bellagecs', 1.75)]"
            ]
          },
          "metadata": {},
          "execution_count": 248
        }
      ]
    },
    {
      "cell_type": "code",
      "source": [
        "def avg_session_len(x):\n",
        "  r,c = 0, 1\n",
        "  for y in x:\n",
        "    r += y[0][1][2]\n",
        "    c += 1\n",
        "  return r/c/1000\n",
        "\n",
        "user_sessions.map(lambda x: (x[0], avg_session_len(x[1])))\\\n",
        "             .take(5)"
      ],
      "metadata": {
        "colab": {
          "base_uri": "https://localhost:8080/"
        },
        "id": "IYAbmh1m17Xv",
        "outputId": "9dea0796-f57a-4027-9b07-f2f052132336"
      },
      "execution_count": 251,
      "outputs": [
        {
          "output_type": "execute_result",
          "data": {
            "text/plain": [
              "[('amarxl', 4.071428571428571),\n",
              " ('Springyaurora', 0.17142857142857143),\n",
              " ('diabIa', 0.6818181818181819),\n",
              " ('c4zt96', 3.556875),\n",
              " ('bellagecs', 0.9407142857142856)]"
            ]
          },
          "metadata": {},
          "execution_count": 251
        }
      ]
    }
  ]
}