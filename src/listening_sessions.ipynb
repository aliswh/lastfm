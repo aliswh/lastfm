{
  "nbformat": 4,
  "nbformat_minor": 0,
  "metadata": {
    "colab": {
      "name": "listening_sessions.ipynb",
      "provenance": [],
      "collapsed_sections": []
    },
    "kernelspec": {
      "name": "python3",
      "display_name": "Python 3"
    },
    "language_info": {
      "name": "python"
    }
  },
  "cells": [
    {
      "cell_type": "markdown",
      "source": [
        "# Set up"
      ],
      "metadata": {
        "id": "kSTLvF2Yvxic"
      }
    },
    {
      "cell_type": "code",
      "execution_count": 1,
      "metadata": {
        "colab": {
          "base_uri": "https://localhost:8080/"
        },
        "id": "hWdcAYpcuP4_",
        "outputId": "42b6f6ea-7923-4e64-e100-fc5c34e642ad"
      },
      "outputs": [
        {
          "output_type": "stream",
          "name": "stdout",
          "text": [
            "Cloning into 'lastfm'...\n",
            "remote: Enumerating objects: 171, done.\u001b[K\n",
            "remote: Counting objects: 100% (171/171), done.\u001b[K\n",
            "remote: Compressing objects: 100% (119/119), done.\u001b[K\n",
            "remote: Total 171 (delta 84), reused 128 (delta 49), pack-reused 0\u001b[K\n",
            "Receiving objects: 100% (171/171), 26.36 KiB | 550.00 KiB/s, done.\n",
            "Resolving deltas: 100% (84/84), done.\n",
            "Already up to date.\n",
            "Requirement already satisfied: google-cloud-storage in /usr/local/lib/python3.7/dist-packages (from -r requirements.txt (line 1)) (1.18.1)\n",
            "Requirement already satisfied: requests in /usr/local/lib/python3.7/dist-packages (from -r requirements.txt (line 2)) (2.23.0)\n",
            "Collecting pylast\n",
            "  Downloading pylast-4.5.0-py3-none-any.whl (25 kB)\n",
            "Collecting pyspark\n",
            "  Downloading pyspark-3.2.1.tar.gz (281.4 MB)\n",
            "\u001b[K     |████████████████████████████████| 281.4 MB 41 kB/s \n",
            "\u001b[?25hRequirement already satisfied: google-resumable-media<0.5.0dev,>=0.3.1 in /usr/local/lib/python3.7/dist-packages (from google-cloud-storage->-r requirements.txt (line 1)) (0.4.1)\n",
            "Requirement already satisfied: google-auth>=1.2.0 in /usr/local/lib/python3.7/dist-packages (from google-cloud-storage->-r requirements.txt (line 1)) (1.35.0)\n",
            "Requirement already satisfied: google-cloud-core<2.0dev,>=1.0.0 in /usr/local/lib/python3.7/dist-packages (from google-cloud-storage->-r requirements.txt (line 1)) (1.0.3)\n",
            "Requirement already satisfied: cachetools<5.0,>=2.0.0 in /usr/local/lib/python3.7/dist-packages (from google-auth>=1.2.0->google-cloud-storage->-r requirements.txt (line 1)) (4.2.4)\n",
            "Requirement already satisfied: pyasn1-modules>=0.2.1 in /usr/local/lib/python3.7/dist-packages (from google-auth>=1.2.0->google-cloud-storage->-r requirements.txt (line 1)) (0.2.8)\n",
            "Requirement already satisfied: rsa<5,>=3.1.4 in /usr/local/lib/python3.7/dist-packages (from google-auth>=1.2.0->google-cloud-storage->-r requirements.txt (line 1)) (4.8)\n",
            "Requirement already satisfied: setuptools>=40.3.0 in /usr/local/lib/python3.7/dist-packages (from google-auth>=1.2.0->google-cloud-storage->-r requirements.txt (line 1)) (57.4.0)\n",
            "Requirement already satisfied: six>=1.9.0 in /usr/local/lib/python3.7/dist-packages (from google-auth>=1.2.0->google-cloud-storage->-r requirements.txt (line 1)) (1.15.0)\n",
            "Requirement already satisfied: google-api-core<2.0.0dev,>=1.14.0 in /usr/local/lib/python3.7/dist-packages (from google-cloud-core<2.0dev,>=1.0.0->google-cloud-storage->-r requirements.txt (line 1)) (1.26.3)\n",
            "Requirement already satisfied: googleapis-common-protos<2.0dev,>=1.6.0 in /usr/local/lib/python3.7/dist-packages (from google-api-core<2.0.0dev,>=1.14.0->google-cloud-core<2.0dev,>=1.0.0->google-cloud-storage->-r requirements.txt (line 1)) (1.54.0)\n",
            "Requirement already satisfied: protobuf>=3.12.0 in /usr/local/lib/python3.7/dist-packages (from google-api-core<2.0.0dev,>=1.14.0->google-cloud-core<2.0dev,>=1.0.0->google-cloud-storage->-r requirements.txt (line 1)) (3.17.3)\n",
            "Requirement already satisfied: packaging>=14.3 in /usr/local/lib/python3.7/dist-packages (from google-api-core<2.0.0dev,>=1.14.0->google-cloud-core<2.0dev,>=1.0.0->google-cloud-storage->-r requirements.txt (line 1)) (21.3)\n",
            "Requirement already satisfied: pytz in /usr/local/lib/python3.7/dist-packages (from google-api-core<2.0.0dev,>=1.14.0->google-cloud-core<2.0dev,>=1.0.0->google-cloud-storage->-r requirements.txt (line 1)) (2018.9)\n",
            "Requirement already satisfied: urllib3!=1.25.0,!=1.25.1,<1.26,>=1.21.1 in /usr/local/lib/python3.7/dist-packages (from requests->-r requirements.txt (line 2)) (1.24.3)\n",
            "Requirement already satisfied: idna<3,>=2.5 in /usr/local/lib/python3.7/dist-packages (from requests->-r requirements.txt (line 2)) (2.10)\n",
            "Requirement already satisfied: certifi>=2017.4.17 in /usr/local/lib/python3.7/dist-packages (from requests->-r requirements.txt (line 2)) (2021.10.8)\n",
            "Requirement already satisfied: chardet<4,>=3.0.2 in /usr/local/lib/python3.7/dist-packages (from requests->-r requirements.txt (line 2)) (3.0.4)\n",
            "Requirement already satisfied: pyparsing!=3.0.5,>=2.0.2 in /usr/local/lib/python3.7/dist-packages (from packaging>=14.3->google-api-core<2.0.0dev,>=1.14.0->google-cloud-core<2.0dev,>=1.0.0->google-cloud-storage->-r requirements.txt (line 1)) (3.0.7)\n",
            "Requirement already satisfied: pyasn1<0.5.0,>=0.4.6 in /usr/local/lib/python3.7/dist-packages (from pyasn1-modules>=0.2.1->google-auth>=1.2.0->google-cloud-storage->-r requirements.txt (line 1)) (0.4.8)\n",
            "Requirement already satisfied: importlib-metadata in /usr/local/lib/python3.7/dist-packages (from pylast->-r requirements.txt (line 3)) (4.11.0)\n",
            "Collecting py4j==0.10.9.3\n",
            "  Downloading py4j-0.10.9.3-py2.py3-none-any.whl (198 kB)\n",
            "\u001b[K     |████████████████████████████████| 198 kB 46.0 MB/s \n",
            "\u001b[?25hRequirement already satisfied: typing-extensions>=3.6.4 in /usr/local/lib/python3.7/dist-packages (from importlib-metadata->pylast->-r requirements.txt (line 3)) (3.10.0.2)\n",
            "Requirement already satisfied: zipp>=0.5 in /usr/local/lib/python3.7/dist-packages (from importlib-metadata->pylast->-r requirements.txt (line 3)) (3.7.0)\n",
            "Building wheels for collected packages: pyspark\n",
            "  Building wheel for pyspark (setup.py) ... \u001b[?25l\u001b[?25hdone\n",
            "  Created wheel for pyspark: filename=pyspark-3.2.1-py2.py3-none-any.whl size=281853642 sha256=699f366156e37aa8b2632754da905c7d5bcf2b4e61a5b32338021797063ab7aa\n",
            "  Stored in directory: /root/.cache/pip/wheels/9f/f5/07/7cd8017084dce4e93e84e92efd1e1d5334db05f2e83bcef74f\n",
            "Successfully built pyspark\n",
            "Installing collected packages: py4j, pyspark, pylast\n",
            "Successfully installed py4j-0.10.9.3 pylast-4.5.0 pyspark-3.2.1\n"
          ]
        }
      ],
      "source": [
        "!git clone https://github.com/aliswh/lastfm\n",
        "!cd lastfm; git pull\n",
        "!cd lastfm; pip install -r requirements.txt"
      ]
    },
    {
      "cell_type": "code",
      "source": [
        "from py4j.java_gateway import UserHelpAutoCompletion\n",
        "import pyspark\n",
        "from pyspark.sql import  SparkSession\n",
        "from lastfm.src.ingestion_layer.googlestorage import *\n",
        "from lastfm.src.ingestion_layer.pylastsource import *\n",
        "from lastfm.src.ingestion_layer.config import *\n",
        "import json\n",
        "import datetime"
      ],
      "metadata": {
        "id": "-pW4kQBBuZ_3"
      },
      "execution_count": 2,
      "outputs": []
    },
    {
      "cell_type": "markdown",
      "source": [
        "# PySpark Context"
      ],
      "metadata": {
        "id": "gKoBrPKAv0Eu"
      }
    },
    {
      "cell_type": "code",
      "source": [
        "sc = pyspark.SparkContext(\"local[*]\")\n",
        "spark = SparkSession(sc)\n",
        "\n",
        "storage = GoogleStorage('./lastfm/src/ingestion_layer/creds.json',bucket_name)\n",
        "source = PyLastSource(AUTH_DATA)"
      ],
      "metadata": {
        "id": "BUEgdaBfudUP"
      },
      "execution_count": 3,
      "outputs": []
    },
    {
      "cell_type": "markdown",
      "source": [
        "Batch job"
      ],
      "metadata": {
        "id": "tFzdYjjMwDvf"
      }
    },
    {
      "cell_type": "code",
      "source": [
        "SEED_USER = 'dars4'\n",
        "users = source.get('user_pool',SEED_USER,MAX=3)\n",
        "for dict_user in users:\n",
        "    print(dict_user)\n",
        "    storage.write(json.dumps(dict_user), f\"users/user_{dict_user['id']}\")\n",
        "    json_recent_tracks = json.dumps(source.get('recent_tracks',dict_user['user'],limit=10))\n",
        "    storage.write(json_recent_tracks, f\"recent_tracks/user_recent_tracks_{dict_user['id']}\")\n",
        "    dict_recent_tracks = json.loads(json_recent_tracks)\n",
        "    for track in dict_recent_tracks[1:]:\n",
        "        print(track)\n",
        "        json_track = source.get('track', track['artist'], track['title'])\n",
        "        storage.write(json.dumps(json_track), f\"tracks/track_{json_track['id']}\")"
      ],
      "metadata": {
        "colab": {
          "base_uri": "https://localhost:8080/"
        },
        "id": "EjgDiWw6ufhz",
        "outputId": "4294483c-a33e-4a53-87f6-4223de02c71d"
      },
      "execution_count": 17,
      "outputs": [
        {
          "output_type": "stream",
          "name": "stdout",
          "text": [
            "{'user': 'c4zt96', 'playcount': 11580, 'reg_date': '1627094549', 'country': 'Brazil', 'url': 'https://www.last.fm/user/c4zt96', 'id': '0d84bc5dedacad885f9fa1df8a0b8d8ca8467c80'}\n",
            "{'artist': 'Queens of the Stone Age', 'title': 'I Appear Missing', 'date': '17 Feb 2022, 05:02', 'album': '...Like Clockwork', 'timestamp': '1645074178', 'id': '8581023ebcd2cef5c8bdfbc6ab008f0bbe7d62bc'}\n",
            "{'artist': 'Queens of the Stone Age', 'title': 'Smooth Sailing', 'date': '17 Feb 2022, 04:58', 'album': '...Like Clockwork', 'timestamp': '1645073888', 'id': '9aa23307911ed56dd938fc10a370f7ca3c7b8ea4'}\n",
            "{'artist': 'Queens of the Stone Age', 'title': 'Fairweather Friends', 'date': '17 Feb 2022, 04:54', 'album': '...Like Clockwork', 'timestamp': '1645073664', 'id': '16184acb9c2a4f99becdec220462c72bb5bbfaec'}\n",
            "{'artist': 'Queens of the Stone Age', 'title': 'Kalopsia', 'date': '17 Feb 2022, 04:49', 'album': '...Like Clockwork', 'timestamp': '1645073386', 'id': '6db3aaf0029b1d8f3881da2f5d653ec5cfe2dc9f'}\n",
            "{'artist': 'Queens of the Stone Age', 'title': 'My God Is the Sun', 'date': '17 Feb 2022, 04:45', 'album': '...Like Clockwork', 'timestamp': '1645073151', 'id': 'f08ee408861ca76ad120c23124aec16390d9a3bf'}\n",
            "{'artist': 'Queens of the Stone Age', 'title': 'If I Had a Tail', 'date': '17 Feb 2022, 04:40', 'album': '...Like Clockwork', 'timestamp': '1645072855', 'id': '84c8b06f1c0abfa3abe29ceee3a806e2ca93653e'}\n",
            "{'artist': 'Queens of the Stone Age', 'title': 'The Vampyre of Time and Memory', 'date': '17 Feb 2022, 04:37', 'album': '...Like Clockwork', 'timestamp': '1645072641', 'id': 'e2a9ade7b9452415b03a48c17a38a331b27f89ea'}\n",
            "{'artist': 'Queens of the Stone Age', 'title': 'I Sat by the Ocean', 'date': '17 Feb 2022, 04:33', 'album': '...Like Clockwork', 'timestamp': '1645072405', 'id': 'cee0ef56b16d5b81c00eaa0343103141670d533f'}\n",
            "{'artist': 'Queens of the Stone Age', 'title': 'Keep Your Eyes Peeled', 'date': '17 Feb 2022, 04:28', 'album': '...Like Clockwork', 'timestamp': '1645072101', 'id': '72cf46d6381b591718c604b1a9c5ef7b018421d4'}\n",
            "{'artist': 'Queens of the Stone Age', 'title': '…Like Clockwork', 'date': '17 Feb 2022, 04:22', 'album': '...Like Clockwork', 'timestamp': '1645071775', 'id': '929faaf6e6b15ed22b4e38dd4627387d147280cf'}\n",
            "{'user': 'amarxl', 'playcount': 67709, 'reg_date': '1552278200', 'country': None, 'url': 'https://www.last.fm/user/amarxl', 'id': '01066bc9c378046fb890a81932ba1857dd7fc6fe'}\n",
            "{'artist': 'Kim Petras', 'title': 'Superpower Bitch', 'date': '17 Feb 2022, 00:17', 'album': 'Slut Pop', 'timestamp': '1645057052', 'id': 'afc99b7f3a550faf05aa7d29efa46bb01d29c4eb'}\n",
            "{'artist': 'Kim Petras', 'title': 'XXX', 'date': '17 Feb 2022, 00:15', 'album': 'Slut Pop', 'timestamp': '1645056927', 'id': '4918d56108433a5a44194077398663d691a68741'}\n",
            "{'artist': 'Kim Petras', 'title': 'Treat Me Like a Slut', 'date': '17 Feb 2022, 00:13', 'album': 'Slut Pop', 'timestamp': '1645056810', 'id': '9e41f80918c4172b2b70bbe2bbc3b1042af80290'}\n",
            "{'artist': 'florentino', 'title': 'Fuego (Florentino Remix)', 'date': '16 Feb 2022, 21:06', 'album': 'Fuego Remixes', 'timestamp': '1645045590', 'id': '543c59f310eaa62d9ca7babbad7f3bed690e2be4'}\n",
            "{'artist': 'Isabella Lovestory', 'title': 'Mariposa', 'date': '16 Feb 2022, 21:03', 'album': 'Mariposa', 'timestamp': '1645045410', 'id': '8bca9f3eb3940485e934f71a9d118f00960dc849'}\n",
            "{'artist': 'ROSALÍA', 'title': 'SAOKO', 'date': '16 Feb 2022, 21:01', 'album': 'SAOKO', 'timestamp': '1645045272', 'id': '7eb26389dc561d2f85578ded82f17b48a9d0f2d2'}\n",
            "{'artist': 'Nathy Peluso', 'title': 'DELITO', 'date': '16 Feb 2022, 20:57', 'album': 'Calambre', 'timestamp': '1645045068', 'id': '274b6fcb56bf4d535c962f5c0bcb5c950a531a24'}\n",
            "{'artist': 'Nathy Peluso', 'title': 'CELEBRÉ', 'date': '16 Feb 2022, 20:54', 'album': 'Calambre', 'timestamp': '1645044852', 'id': 'b2c77f9a08024a5519969d12778c11b95b6dbaee'}\n",
            "{'artist': 'Pabllo Vittar', 'title': 'Salvaje', 'date': '16 Feb 2022, 20:49', 'album': '111', 'timestamp': '1645044550', 'id': '78f4797a9601a37c7215b0e097652a72a7c3d6ff'}\n",
            "{'artist': 'Ms Nina', 'title': 'El Consejo', 'date': '16 Feb 2022, 20:47', 'album': 'Perreando Por Fuera, Llorando Por Dentro', 'timestamp': '1645044424', 'id': '40b67b87922fedf1d6e11e51324006f3dc285129'}\n",
            "{'user': 'bellagecs', 'playcount': 57192, 'reg_date': '1516432356', 'country': 'United States', 'url': 'https://www.last.fm/user/bellagecs', 'id': '0c14e14d27825b4f580aeb5c7b71e6bb6c41913f'}\n",
            "{'artist': 'Maddie Zahm', 'title': 'Fat Funny Friend', 'date': '17 Feb 2022, 04:25', 'album': 'Fat Funny Friend', 'timestamp': '1645071913', 'id': '37f16ef1fd5221487b64514f32960a65b7189335'}\n",
            "{'artist': 'Maddie Zahm', 'title': 'Fat Funny Friend', 'date': '17 Feb 2022, 04:21', 'album': 'Fat Funny Friend', 'timestamp': '1645071698', 'id': '37f16ef1fd5221487b64514f32960a65b7189335'}\n",
            "{'artist': 'Kim Petras', 'title': 'XXX', 'date': '17 Feb 2022, 04:19', 'album': 'Slut Pop', 'timestamp': '1645071559', 'id': '4918d56108433a5a44194077398663d691a68741'}\n",
            "{'artist': 'Emeline', 'title': 'what it means to be a girl', 'date': '17 Feb 2022, 04:17', 'album': 'what it means to be a girl / this is how I learn to say no', 'timestamp': '1645071443', 'id': 'eea687747ff0e1a990d5ea468cacba6a02f2fa1b'}\n",
            "{'artist': 'Emeline', 'title': 'this is how i learn to say no', 'date': '17 Feb 2022, 04:13', 'album': 'what it means to be a girl / this is how I learn to say no', 'timestamp': '1645071226', 'id': '4c3e9ac54ccb5dde6ab1ecb7003f90fcdd52f124'}\n",
            "{'artist': 'pinkpantheress', 'title': 'Attracted to You', 'date': '17 Feb 2022, 04:11', 'album': 'Attracted to you', 'timestamp': '1645071102', 'id': 'd11ab8160413cb32691550e4bcbca6fcffa2b540'}\n",
            "{'artist': 'pinkpantheress', 'title': 'Attracted to You', 'date': '17 Feb 2022, 04:10', 'album': 'Attracted to you', 'timestamp': '1645071037', 'id': 'd11ab8160413cb32691550e4bcbca6fcffa2b540'}\n",
            "{'artist': \"Olivia O'Brien\", 'title': 'Complicated', 'date': '17 Feb 2022, 01:16', 'album': 'Complicated', 'timestamp': '1645060575', 'id': '9d2f7dca65047be38add3fe9dd66cb3eb540b4f7'}\n",
            "{'artist': 'Kacey Musgraves', 'title': 'justified', 'date': '17 Feb 2022, 01:14', 'album': 'star-crossed', 'timestamp': '1645060461', 'id': '679c8ef9f048614afa3a377488ddcc39654d0b59'}\n",
            "{'artist': 'Beyoncé', 'title': 'Freakum Dress', 'date': '17 Feb 2022, 01:07', 'album': \"B'Day Deluxe Edition\", 'timestamp': '1645060045', 'id': '5b01b1c1914e454f12aa2c6e1867adc150d91c8f'}\n"
          ]
        }
      ]
    },
    {
      "cell_type": "markdown",
      "source": [
        "Missing track"
      ],
      "metadata": {
        "id": "00fVR8O8v-eS"
      }
    },
    {
      "cell_type": "code",
      "source": [
        "source.get('track', 'Rich Nanni', 'Macaroni')"
      ],
      "metadata": {
        "colab": {
          "base_uri": "https://localhost:8080/"
        },
        "id": "S_XAzlj2ulx1",
        "outputId": "93423c15-5e75-48ae-b0b3-ed918f4fd250"
      },
      "execution_count": 18,
      "outputs": [
        {
          "output_type": "execute_result",
          "data": {
            "text/plain": [
              "{'album': None,\n",
              " 'artist': 'Rich Nanni',\n",
              " 'duration': None,\n",
              " 'id': 'cb5617ef265b3fe5e48c859d7016a09dcf4a4215',\n",
              " 'tags': None,\n",
              " 'title': 'Macaroni',\n",
              " 'url': 'https://www.last.fm/music/rich%2bnanni/_/macaroni'}"
            ]
          },
          "metadata": {},
          "execution_count": 18
        }
      ]
    },
    {
      "cell_type": "markdown",
      "source": [
        "# Read from storage"
      ],
      "metadata": {
        "id": "ZZgDraLQwAu7"
      }
    },
    {
      "cell_type": "code",
      "source": [
        "recent_tracks = storage.read('recent_tracks',dir=True)\n",
        "for recent_track in recent_tracks:\n",
        "  print(recent_track)\n",
        "recent_tracks_rdd = sc.parallelize(recent_tracks)"
      ],
      "metadata": {
        "colab": {
          "base_uri": "https://localhost:8080/"
        },
        "id": "Axgy029wvk1J",
        "outputId": "3609e514-5cd8-4081-8ac9-dca04b994aa5"
      },
      "execution_count": 19,
      "outputs": [
        {
          "output_type": "stream",
          "name": "stdout",
          "text": [
            "['amarxl', {'artist': 'Kim Petras', 'title': 'Superpower Bitch', 'date': '17 Feb 2022, 00:17', 'album': 'Slut Pop', 'timestamp': '1645057052', 'id': 'afc99b7f3a550faf05aa7d29efa46bb01d29c4eb'}, {'artist': 'Kim Petras', 'title': 'XXX', 'date': '17 Feb 2022, 00:15', 'album': 'Slut Pop', 'timestamp': '1645056927', 'id': '4918d56108433a5a44194077398663d691a68741'}, {'artist': 'Kim Petras', 'title': 'Treat Me Like a Slut', 'date': '17 Feb 2022, 00:13', 'album': 'Slut Pop', 'timestamp': '1645056810', 'id': '9e41f80918c4172b2b70bbe2bbc3b1042af80290'}, {'artist': 'florentino', 'title': 'Fuego (Florentino Remix)', 'date': '16 Feb 2022, 21:06', 'album': 'Fuego Remixes', 'timestamp': '1645045590', 'id': '543c59f310eaa62d9ca7babbad7f3bed690e2be4'}, {'artist': 'Isabella Lovestory', 'title': 'Mariposa', 'date': '16 Feb 2022, 21:03', 'album': 'Mariposa', 'timestamp': '1645045410', 'id': '8bca9f3eb3940485e934f71a9d118f00960dc849'}, {'artist': 'ROSALÍA', 'title': 'SAOKO', 'date': '16 Feb 2022, 21:01', 'album': 'SAOKO', 'timestamp': '1645045272', 'id': '7eb26389dc561d2f85578ded82f17b48a9d0f2d2'}, {'artist': 'Nathy Peluso', 'title': 'DELITO', 'date': '16 Feb 2022, 20:57', 'album': 'Calambre', 'timestamp': '1645045068', 'id': '274b6fcb56bf4d535c962f5c0bcb5c950a531a24'}, {'artist': 'Nathy Peluso', 'title': 'CELEBRÉ', 'date': '16 Feb 2022, 20:54', 'album': 'Calambre', 'timestamp': '1645044852', 'id': 'b2c77f9a08024a5519969d12778c11b95b6dbaee'}, {'artist': 'Pabllo Vittar', 'title': 'Salvaje', 'date': '16 Feb 2022, 20:49', 'album': '111', 'timestamp': '1645044550', 'id': '78f4797a9601a37c7215b0e097652a72a7c3d6ff'}, {'artist': 'Ms Nina', 'title': 'El Consejo', 'date': '16 Feb 2022, 20:47', 'album': 'Perreando Por Fuera, Llorando Por Dentro', 'timestamp': '1645044424', 'id': '40b67b87922fedf1d6e11e51324006f3dc285129'}]\n",
            "['bellagecs', {'artist': 'Maddie Zahm', 'title': 'Fat Funny Friend', 'date': '17 Feb 2022, 04:25', 'album': 'Fat Funny Friend', 'timestamp': '1645071913', 'id': '37f16ef1fd5221487b64514f32960a65b7189335'}, {'artist': 'Maddie Zahm', 'title': 'Fat Funny Friend', 'date': '17 Feb 2022, 04:21', 'album': 'Fat Funny Friend', 'timestamp': '1645071698', 'id': '37f16ef1fd5221487b64514f32960a65b7189335'}, {'artist': 'Kim Petras', 'title': 'XXX', 'date': '17 Feb 2022, 04:19', 'album': 'Slut Pop', 'timestamp': '1645071559', 'id': '4918d56108433a5a44194077398663d691a68741'}, {'artist': 'Emeline', 'title': 'what it means to be a girl', 'date': '17 Feb 2022, 04:17', 'album': 'what it means to be a girl / this is how I learn to say no', 'timestamp': '1645071443', 'id': 'eea687747ff0e1a990d5ea468cacba6a02f2fa1b'}, {'artist': 'Emeline', 'title': 'this is how i learn to say no', 'date': '17 Feb 2022, 04:13', 'album': 'what it means to be a girl / this is how I learn to say no', 'timestamp': '1645071226', 'id': '4c3e9ac54ccb5dde6ab1ecb7003f90fcdd52f124'}, {'artist': 'pinkpantheress', 'title': 'Attracted to You', 'date': '17 Feb 2022, 04:11', 'album': 'Attracted to you', 'timestamp': '1645071102', 'id': 'd11ab8160413cb32691550e4bcbca6fcffa2b540'}, {'artist': 'pinkpantheress', 'title': 'Attracted to You', 'date': '17 Feb 2022, 04:10', 'album': 'Attracted to you', 'timestamp': '1645071037', 'id': 'd11ab8160413cb32691550e4bcbca6fcffa2b540'}, {'artist': \"Olivia O'Brien\", 'title': 'Complicated', 'date': '17 Feb 2022, 01:16', 'album': 'Complicated', 'timestamp': '1645060575', 'id': '9d2f7dca65047be38add3fe9dd66cb3eb540b4f7'}, {'artist': 'Kacey Musgraves', 'title': 'justified', 'date': '17 Feb 2022, 01:14', 'album': 'star-crossed', 'timestamp': '1645060461', 'id': '679c8ef9f048614afa3a377488ddcc39654d0b59'}, {'artist': 'Beyoncé', 'title': 'Freakum Dress', 'date': '17 Feb 2022, 01:07', 'album': \"B'Day Deluxe Edition\", 'timestamp': '1645060045', 'id': '5b01b1c1914e454f12aa2c6e1867adc150d91c8f'}]\n",
            "['c4zt96', {'artist': 'Queens of the Stone Age', 'title': 'I Appear Missing', 'date': '17 Feb 2022, 05:02', 'album': '...Like Clockwork', 'timestamp': '1645074178', 'id': '8581023ebcd2cef5c8bdfbc6ab008f0bbe7d62bc'}, {'artist': 'Queens of the Stone Age', 'title': 'Smooth Sailing', 'date': '17 Feb 2022, 04:58', 'album': '...Like Clockwork', 'timestamp': '1645073888', 'id': '9aa23307911ed56dd938fc10a370f7ca3c7b8ea4'}, {'artist': 'Queens of the Stone Age', 'title': 'Fairweather Friends', 'date': '17 Feb 2022, 04:54', 'album': '...Like Clockwork', 'timestamp': '1645073664', 'id': '16184acb9c2a4f99becdec220462c72bb5bbfaec'}, {'artist': 'Queens of the Stone Age', 'title': 'Kalopsia', 'date': '17 Feb 2022, 04:49', 'album': '...Like Clockwork', 'timestamp': '1645073386', 'id': '6db3aaf0029b1d8f3881da2f5d653ec5cfe2dc9f'}, {'artist': 'Queens of the Stone Age', 'title': 'My God Is the Sun', 'date': '17 Feb 2022, 04:45', 'album': '...Like Clockwork', 'timestamp': '1645073151', 'id': 'f08ee408861ca76ad120c23124aec16390d9a3bf'}, {'artist': 'Queens of the Stone Age', 'title': 'If I Had a Tail', 'date': '17 Feb 2022, 04:40', 'album': '...Like Clockwork', 'timestamp': '1645072855', 'id': '84c8b06f1c0abfa3abe29ceee3a806e2ca93653e'}, {'artist': 'Queens of the Stone Age', 'title': 'The Vampyre of Time and Memory', 'date': '17 Feb 2022, 04:37', 'album': '...Like Clockwork', 'timestamp': '1645072641', 'id': 'e2a9ade7b9452415b03a48c17a38a331b27f89ea'}, {'artist': 'Queens of the Stone Age', 'title': 'I Sat by the Ocean', 'date': '17 Feb 2022, 04:33', 'album': '...Like Clockwork', 'timestamp': '1645072405', 'id': 'cee0ef56b16d5b81c00eaa0343103141670d533f'}, {'artist': 'Queens of the Stone Age', 'title': 'Keep Your Eyes Peeled', 'date': '17 Feb 2022, 04:28', 'album': '...Like Clockwork', 'timestamp': '1645072101', 'id': '72cf46d6381b591718c604b1a9c5ef7b018421d4'}, {'artist': 'Queens of the Stone Age', 'title': '…Like Clockwork', 'date': '17 Feb 2022, 04:22', 'album': '...Like Clockwork', 'timestamp': '1645071775', 'id': '929faaf6e6b15ed22b4e38dd4627387d147280cf'}]\n"
          ]
        }
      ]
    },
    {
      "cell_type": "markdown",
      "source": [
        "# User features\n",
        "\n",
        "1. Extract listening sessions from users:\n",
        "  * list of concatenated songs with a play events +-10 sec after the actual song completed\n",
        "2. Know statistics about these sessions:\n",
        "  * average number of tracks\n",
        "  * average session per user\n",
        "  * session lengths"
      ],
      "metadata": {
        "id": "0ExEFLWwwGVI"
      }
    },
    {
      "cell_type": "code",
      "source": [
        "sessions = recent_tracks_rdd.flatMap(lambda x: [(x[0],y) for y in x[1:]])"
      ],
      "metadata": {
        "id": "vkOEwB_2xm7T"
      },
      "execution_count": 64,
      "outputs": []
    },
    {
      "cell_type": "code",
      "source": [
        "sessions.join(sessions) \\\n",
        "        .filter(lambda x: x[1][0]['timestamp'] < x[1][1]['timestamp']) \\\n",
        "        .take(1)"
      ],
      "metadata": {
        "colab": {
          "base_uri": "https://localhost:8080/"
        },
        "id": "psc3gng5wl5r",
        "outputId": "137d74c7-99b6-42cd-9896-d20e145c33ac"
      },
      "execution_count": 67,
      "outputs": [
        {
          "output_type": "execute_result",
          "data": {
            "text/plain": [
              "[('bellagecs',\n",
              "  ({'album': 'Fat Funny Friend',\n",
              "    'artist': 'Maddie Zahm',\n",
              "    'date': '17 Feb 2022, 04:21',\n",
              "    'id': '37f16ef1fd5221487b64514f32960a65b7189335',\n",
              "    'timestamp': '1645071698',\n",
              "    'title': 'Fat Funny Friend'},\n",
              "   {'album': 'Fat Funny Friend',\n",
              "    'artist': 'Maddie Zahm',\n",
              "    'date': '17 Feb 2022, 04:25',\n",
              "    'id': '37f16ef1fd5221487b64514f32960a65b7189335',\n",
              "    'timestamp': '1645071913',\n",
              "    'title': 'Fat Funny Friend'}))]"
            ]
          },
          "metadata": {},
          "execution_count": 67
        }
      ]
    },
    {
      "cell_type": "code",
      "source": [
        ""
      ],
      "metadata": {
        "id": "SwXaS3KYxYxj"
      },
      "execution_count": null,
      "outputs": []
    }
  ]
}