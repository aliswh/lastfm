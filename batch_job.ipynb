{
  "nbformat": 4,
  "nbformat_minor": 0,
  "metadata": {
    "colab": {
      "name": "batch_job.ipynb",
      "provenance": [],
      "collapsed_sections": [],
      "authorship_tag": "ABX9TyOCaZCwnU9GrrcOvUgM6ugm",
      "include_colab_link": true
    },
    "kernelspec": {
      "name": "python3",
      "display_name": "Python 3"
    },
    "language_info": {
      "name": "python"
    }
  },
  "cells": [
    {
      "cell_type": "markdown",
      "metadata": {
        "id": "view-in-github",
        "colab_type": "text"
      },
      "source": [
        "<a href=\"https://colab.research.google.com/github/aliswh/lastfm/blob/main/batch_job.ipynb\" target=\"_parent\"><img src=\"https://colab.research.google.com/assets/colab-badge.svg\" alt=\"Open In Colab\"/></a>"
      ]
    },
    {
      "cell_type": "code",
      "execution_count": null,
      "metadata": {
        "id": "OBT12IWABqIX"
      },
      "outputs": [],
      "source": [
        "!git clone https://github.com/aliswh/lastfm\n",
        "!cd lastfm; pip install -r requirements.txt"
      ]
    },
    {
      "cell_type": "code",
      "source": [
        "from lastfm.src.ingestion_layer.googlestorage import *\n",
        "from lastfm.src.ingestion_layer.pylastsource import *\n",
        "from lastfm.src.ingestion_layer.batchwriter import *\n",
        "from lastfm.src.ingestion_layer.config import *"
      ],
      "metadata": {
        "id": "o8j12cxvB2cV"
      },
      "execution_count": 2,
      "outputs": []
    },
    {
      "cell_type": "code",
      "source": [
        "storage = GoogleStorageJSON('./lastfm/src/ingestion_layer/creds.json',BUCKET_NAME)\n",
        "source = PyLastSource(AUTH_DATA)\n",
        "writer = BatchWriter(source, storage)"
      ],
      "metadata": {
        "id": "kCTqeTOQCFrF"
      },
      "execution_count": 3,
      "outputs": []
    },
    {
      "cell_type": "code",
      "source": [
        "#storage.delete('')"
      ],
      "metadata": {
        "id": "RwKVRzLSdfts"
      },
      "execution_count": 5,
      "outputs": []
    },
    {
      "cell_type": "code",
      "source": [
        "#Batch job\n",
        "writer.write('', SEED_USER, 5, 20, debug=True)"
      ],
      "metadata": {
        "id": "mkkaSdx8Zvql"
      },
      "execution_count": null,
      "outputs": []
    }
  ]
}